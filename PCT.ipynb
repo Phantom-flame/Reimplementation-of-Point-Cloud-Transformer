{
  "nbformat": 4,
  "nbformat_minor": 0,
  "metadata": {
    "colab": {
      "provenance": [],
      "machine_shape": "hm",
      "collapsed_sections": [
        "uhnSrFti0UMy",
        "anYm38xk2iBw",
        "vn9hbRnYwf9o",
        "Qr0Ir_9KxOxv",
        "8jMv91EIyHbh",
        "Bjo2p5KvyHnm",
        "Rc8BbXAl0csD",
        "PKUkT-Pr0GqJ"
      ],
      "gpuType": "A100"
    },
    "kernelspec": {
      "name": "python3",
      "display_name": "Python 3"
    },
    "language_info": {
      "name": "python"
    },
    "accelerator": "GPU"
  },
  "cells": [
    {
      "cell_type": "code",
      "execution_count": null,
      "metadata": {
        "colab": {
          "base_uri": "https://localhost:8080/"
        },
        "id": "QiSPBrDqAHGF",
        "outputId": "c78dcba4-1814-4458-fa85-de0136d0b178"
      },
      "outputs": [
        {
          "output_type": "stream",
          "name": "stdout",
          "text": [
            "Mounted at /content/drive\n"
          ]
        }
      ],
      "source": [
        "import os\n",
        "import torch\n",
        "import torch.nn as nn\n",
        "import torch.optim as optim\n",
        "import torch.nn.functional as F\n",
        "from torch.utils.data import DataLoader,Dataset\n",
        "import numpy as np\n",
        "import matplotlib.pyplot as plt\n",
        "from tqdm import tqdm\n",
        "import math\n",
        "from google.colab import drive\n",
        "drive.mount('/content/drive')"
      ]
    },
    {
      "cell_type": "code",
      "source": [
        "!unzip '/content/drive/MyDrive/ROB498/modelnet10_normal_resampled.zip' -d '/content'"
      ],
      "metadata": {
        "id": "JN-zx3SWrO1s"
      },
      "execution_count": null,
      "outputs": []
    },
    {
      "cell_type": "code",
      "source": [
        "!unzip  '/content/drive/MyDrive/ROB498/data.zip' -d '/content'"
      ],
      "metadata": {
        "id": "8WkSZfIpCBZq",
        "colab": {
          "base_uri": "https://localhost:8080/"
        },
        "outputId": "6c40f35e-c073-43cf-a759-a3ca7ebd0511"
      },
      "execution_count": null,
      "outputs": [
        {
          "output_type": "stream",
          "name": "stdout",
          "text": [
            "Archive:  /content/drive/MyDrive/ROB498/data.zip\n",
            "  inflating: /content/data/point_cloud_Y.txt  \n",
            "  inflating: /content/data/cls/train_data.npy  \n",
            "  inflating: /content/data/point_cloud_X.txt  \n",
            "  inflating: /content/data/seg/.DS_Store  \n",
            "  inflating: /content/data/cls/.DS_Store  \n",
            "   creating: /content/data/cls/.ipynb_checkpoints/\n",
            "   creating: /content/data/seg/.ipynb_checkpoints/\n",
            "  inflating: /content/data/cls/test_labels.npy  \n",
            "  inflating: /content/data/seg/train_labels.npy  \n",
            "  inflating: /content/data/cls/train_labels.npy  \n",
            "  inflating: /content/data/seg/test_labels.npy  \n",
            "  inflating: /content/data/cls/test_data.npy  \n",
            "  inflating: /content/data/seg/test_data.npy  \n",
            "  inflating: /content/data/generate_point_cloud.npz  \n",
            "  inflating: /content/data/seg/train_data.npy  \n"
          ]
        }
      ]
    },
    {
      "cell_type": "code",
      "source": [
        "gpu_info = !nvidia-smi\n",
        "gpu_info = '\\n'.join(gpu_info)\n",
        "if gpu_info.find('failed') >= 0:\n",
        "  print('Not connected to a GPU')\n",
        "else:\n",
        "  print(gpu_info)"
      ],
      "metadata": {
        "colab": {
          "base_uri": "https://localhost:8080/"
        },
        "id": "yLFIngPBoJNh",
        "outputId": "8a8ae39b-fa9a-41df-e6bc-39acebc62fdc"
      },
      "execution_count": null,
      "outputs": [
        {
          "output_type": "stream",
          "name": "stdout",
          "text": [
            "Mon Dec  4 04:20:16 2023       \n",
            "+-----------------------------------------------------------------------------+\n",
            "| NVIDIA-SMI 525.105.17   Driver Version: 525.105.17   CUDA Version: 12.0     |\n",
            "|-------------------------------+----------------------+----------------------+\n",
            "| GPU  Name        Persistence-M| Bus-Id        Disp.A | Volatile Uncorr. ECC |\n",
            "| Fan  Temp  Perf  Pwr:Usage/Cap|         Memory-Usage | GPU-Util  Compute M. |\n",
            "|                               |                      |               MIG M. |\n",
            "|===============================+======================+======================|\n",
            "|   0  NVIDIA A100-SXM...  Off  | 00000000:00:04.0 Off |                    0 |\n",
            "| N/A   33C    P0    47W / 400W |      0MiB / 40960MiB |      0%      Default |\n",
            "|                               |                      |             Disabled |\n",
            "+-------------------------------+----------------------+----------------------+\n",
            "                                                                               \n",
            "+-----------------------------------------------------------------------------+\n",
            "| Processes:                                                                  |\n",
            "|  GPU   GI   CI        PID   Type   Process name                  GPU Memory |\n",
            "|        ID   ID                                                   Usage      |\n",
            "|=============================================================================|\n",
            "|  No running processes found                                                 |\n",
            "+-----------------------------------------------------------------------------+\n"
          ]
        }
      ]
    },
    {
      "cell_type": "markdown",
      "source": [
        "# Utils"
      ],
      "metadata": {
        "id": "uhnSrFti0UMy"
      }
    },
    {
      "cell_type": "code",
      "source": [
        "# CATEGORIES = {'1': 0, '2': 1, '3': 2, '4': 3, '5': 4, '6': 5}\n",
        "# COLOR_MAP = {\n",
        "#     0  : (47, 79, 79),\n",
        "#     1  : (139, 69, 19),\n",
        "#     2  : (34, 139, 34),\n",
        "#     3  : (75, 0, 130),\n",
        "#     4  : (255, 0, 0),\n",
        "#     5  : (255, 255, 0)}\n",
        "# def inference(model,dataloader,device='cuda'):\n",
        "#   correct_point_clouds = []\n",
        "#   false_point_clouds = []\n",
        "#   index=0\n",
        "#   for batch in dataloader:\n",
        "#           point_cloud, labels = batch\n",
        "#           point_cloud = point_cloud.to(device)\n",
        "#           point_clouds = point_cloud[:,0::5,:].to(device).permute(0,2,1)\n",
        "#           #point_clouds = point_clouds.to(device)\n",
        "#           labels = labels[:,0::5].to(device).to(torch.long)\n",
        "\n",
        "#           predictions = model.forward(point_clouds)\n",
        "#           #print(point_clouds.shape)\n",
        "#           #print(predictions.shape)\n",
        "#           #print(labels.shape)\n",
        "#           predictions = torch.argmax(predictions,dim=1)\n",
        "#           #print(predictions.shape)\n",
        "\n",
        "#           correct_mask = predictions==labels\n",
        "#           false_mask = predictions!=labels\n",
        "#           correct_points = point_clouds[0,:,correct_mask[0,:]]\n",
        "#           correct_points = correct_points.cpu().data.numpy()\n",
        "\n",
        "#           #print(correct_points.shape)\n",
        "#           fig=plt.figure()\n",
        "#           ax=fig.add_subplot(111,projection='3d')\n",
        "#           #标题\n",
        "#           plt.title('Correct')\n",
        "#           label = labels[0,correct_mask[0,:]]\n",
        "#           #利用xyz的值，生成每个点的相应坐标（x,y,z）\n",
        "#           for i in range(6):\n",
        "#             color = COLOR_MAP[i]\n",
        "#             mask = label==i\n",
        "#             points = correct_points[:,mask.cpu()].T\n",
        "#             ax.scatter(points[:,0],points[:,1],points[:,2],marker='.',linewidth=0,alpha=1)\n",
        "#           ax.set_xlabel('X Label')\n",
        "#           ax.set_ylabel('Y Label')\n",
        "#           ax.set_zlabel('Z Label')\n",
        "#           plt.show()\n",
        "\n",
        "#           false_points = point_clouds[0,:,false_mask[0,:]]\n",
        "#           false_points = false_points.cpu().data.numpy()\n",
        "#           fig=plt.figure()\n",
        "#           ax=fig.add_subplot(111,projection='3d')\n",
        "#           #标题\n",
        "#           plt.title('False')\n",
        "#           label = labels[0,false_mask[0,:]]\n",
        "#           #利用xyz的值，生成每个点的相应坐标（x,y,z）\n",
        "#           for i in range(6):\n",
        "#             color = COLOR_MAP[i]\n",
        "#             mask = label==i\n",
        "#             points = false_points[:,mask.cpu()].T\n",
        "#             ax.scatter(points[:,0],points[:,1],points[:,2],marker='.',linewidth=0,alpha=1)\n",
        "#           ax.set_xlabel('X Label')\n",
        "#           ax.set_ylabel('Y Label')\n",
        "#           ax.set_zlabel('Z Label')\n",
        "#           plt.show()\n",
        "#           index = index+1\n",
        "#           if(index>3):\n",
        "#             break"
      ],
      "metadata": {
        "id": "42nlqsINMD3C"
      },
      "execution_count": null,
      "outputs": []
    },
    {
      "cell_type": "markdown",
      "source": [
        "## DataLoader"
      ],
      "metadata": {
        "id": "y7Uh5skS2SWT"
      }
    },
    {
      "cell_type": "code",
      "source": [
        "def pc_normalize(pc):\n",
        "    centroid = np.mean(pc, axis=0)\n",
        "    pc = pc - centroid\n",
        "    m = np.max(np.sqrt(np.sum(pc**2, axis=1)))\n",
        "    pc = pc / m\n",
        "    return pc\n",
        "\n",
        "\n",
        "def farthest_point_sample(xyz,npoint):\n",
        "    \"\"\"\n",
        "    Input:\n",
        "        xyz: pointcloud data, [B, N, 3]\n",
        "        npoint: number of samples\n",
        "    Return:\n",
        "        centroids: sampled pointcloud index, [B, npoint]\n",
        "    \"\"\"\n",
        "    device = torch.device('cuda')#xyz.device\n",
        "    B, N, C = xyz.shape\n",
        "    centroids = torch.zeros(B, npoint, dtype=torch.long).to(device)\n",
        "    distance = torch.ones(B, N).to(device) * 1e10\n",
        "    farthest = torch.randint(0, N, (B,), dtype=torch.long).to(device)\n",
        "    batch_indices = torch.arange(B, dtype=torch.long).to(device)\n",
        "    for i in range(npoint):\n",
        "        centroids[:, i] = farthest\n",
        "        centroid = xyz[batch_indices, farthest, :].view(B, 1, 3)\n",
        "        dist = torch.sum((xyz - centroid) ** 2, -1)\n",
        "        distance = torch.min(distance, dist)\n",
        "        farthest = torch.max(distance, -1)[1]\n",
        "    return centroids\n",
        "\n",
        "\n",
        "def square_distance(src, dst):\n",
        "    \"\"\"\n",
        "    Calculate Euclid distance between each two points.\n",
        "    src^T * dst = xn * xm + yn * ym + zn * zm；\n",
        "    sum(src^2, dim=-1) = xn*xn + yn*yn + zn*zn;\n",
        "    sum(dst^2, dim=-1) = xm*xm + ym*ym + zm*zm;\n",
        "    dist = (xn - xm)^2 + (yn - ym)^2 + (zn - zm)^2\n",
        "         = sum(src**2,dim=-1)+sum(dst**2,dim=-1)-2*src^T*dst\n",
        "\n",
        "    Input:\n",
        "        src: source points, [B, N, C]\n",
        "        dst: target points, [B, M, C]\n",
        "\n",
        "    Output:\n",
        "        dist: per-point square distance, [B, N, M]\n",
        "    \"\"\"\n",
        "    B, N, _ = src.shape\n",
        "    _, M, _ = dst.shape\n",
        "    dist = -2 * torch.matmul(src, dst.permute(0, 2, 1))\n",
        "    dist += torch.sum(src ** 2, -1).view(B, N, 1)\n",
        "    dist += torch.sum(dst ** 2, -1).view(B, 1, M)\n",
        "    return dist\n",
        "\n",
        "def knn_point(k, xyz, new_xyz):\n",
        "    \"\"\"\n",
        "    K nearest neighborhood.\n",
        "\n",
        "    Input:\n",
        "        k: max sample number in local region\n",
        "        xyz: all points, [B, N, C]\n",
        "        new_xyz: query points, [B, S, C]\n",
        "\n",
        "    Output:\n",
        "        group_idx: grouped points index, [B, S, k]\n",
        "    \"\"\"\n",
        "    sqrdists = square_distance(new_xyz, xyz)\n",
        "    _, group_idx = torch.topk(sqrdists, k, dim=-1, largest=False, sorted=False)\n",
        "    return group_idx\n",
        "\n",
        "def index_points(points, idx):\n",
        "    \"\"\"\n",
        "    Input:\n",
        "        points: input points data, [B, N, C]\n",
        "        idx: sample index data, [B, S]\n",
        "\n",
        "    Output:\n",
        "        new_points:, indexed points data, [B, S, C]\n",
        "    \"\"\"\n",
        "    device = points.device\n",
        "    B = points.shape[0]\n",
        "    view_shape = list(idx.shape)\n",
        "    view_shape[1:] = [1] * (len(view_shape) - 1)\n",
        "    repeat_shape = list(idx.shape)\n",
        "    repeat_shape[0] = 1\n",
        "    batch_indices = torch.arange(B, dtype=torch.long).to(device).view(view_shape).repeat(repeat_shape)\n",
        "    new_points = points[batch_indices, idx, :]\n",
        "    return new_points\n",
        "\n",
        "def sample_knn_group(s, k, coords, features):\n",
        "    \"\"\"\n",
        "    Sampling by FPS and grouping by KNN.\n",
        "\n",
        "    Input:\n",
        "        s[int]: number of points to be sampled by FPS\n",
        "        k[int]: number of points to be grouped into a neighbor by KNN\n",
        "        coords[tensor]: input points coordinates data with size of [B, N, 3]\n",
        "        features[tensor]: input points features data with size of [B, N, D]\n",
        "\n",
        "    Returns:\n",
        "        new_coords[tensor]: sampled and grouped points coordinates by FPS with size of [B, s, k, 3]\n",
        "        new_features[tensor]: sampled and grouped points features by FPS with size of [B, s, k, 2D]\n",
        "    \"\"\"\n",
        "    batch_size = coords.shape[0]\n",
        "    coords = coords.contiguous()\n",
        "\n",
        "    # FPS sampling\n",
        "    fps_idx = farthest_point_sample(coords, s).long()  # [B, s]\n",
        "    new_coords = index_points(coords, fps_idx)                         # [B, s, 3]\n",
        "    new_features = index_points(features, fps_idx)                     # [B, s, D]\n",
        "\n",
        "    # K-nn grouping\n",
        "    idx = knn_point(k, coords, new_coords)                                             # [B, s, k]\n",
        "    grouped_features = index_points(features, idx)                                      # [B, s, k, D]\n",
        "\n",
        "    # Matrix sub\n",
        "    grouped_features_norm = grouped_features - new_features.view(batch_size, s, 1, -1)  # [B, s, k, D]\n",
        "\n",
        "    # Concat\n",
        "    aggregated_features = torch.cat([grouped_features_norm, new_features.view(batch_size, s, 1, -1).repeat(1, 1, k, 1)], dim=-1)  # [B, s, k, 2D]\n",
        "    return new_coords, aggregated_features\n",
        "category = 10\n",
        "modelnetshape_path = f'modelnet{category}_shape_names.txt'\n",
        "modelnettrain_path = f'modelnet{category}_train.txt'\n",
        "modelnettest_path = f'modelnet{category}_test.txt'\n",
        "class ModelNetDataLoader(Dataset):\n",
        "    def __init__(self, root, npoint=1024, split='train', uniform=False, normal_channel=True, cache_size=15000):\n",
        "        self.root = root\n",
        "        self.npoints = npoint\n",
        "        self.uniform = uniform\n",
        "        self.catfile = os.path.join(self.root,modelnetshape_path)\n",
        "\n",
        "        self.cat = [line.rstrip() for line in open(self.catfile)]\n",
        "        self.classes = dict(zip(self.cat, range(len(self.cat))))\n",
        "        self.normal_channel = normal_channel\n",
        "\n",
        "        shape_ids = {}\n",
        "        shape_ids['train'] = [line.rstrip() for line in open(os.path.join(self.root, modelnettrain_path))]\n",
        "        shape_ids['test'] = [line.rstrip() for line in open(os.path.join(self.root, modelnettest_path))]\n",
        "\n",
        "        assert (split == 'train' or split == 'test')\n",
        "        shape_names = ['_'.join(x.split('_')[0:-1]) for x in shape_ids[split]]\n",
        "        # list of (shape_name, shape_txt_file_path) tuple\n",
        "        self.datapath = [(shape_names[i], os.path.join(self.root, shape_names[i], shape_ids[split][i]) + '.txt') for i\n",
        "                         in range(len(shape_ids[split]))]\n",
        "        print('The size of %s data is %d'%(split,len(self.datapath)))\n",
        "\n",
        "        self.cache_size = cache_size  # how many data points to cache in memory\n",
        "        self.cache = {}  # from index to (point_set, cls) tuple\n",
        "\n",
        "    def __len__(self):\n",
        "        return len(self.datapath)\n",
        "\n",
        "    def _get_item(self, index):\n",
        "        if index in self.cache:\n",
        "            point_set, cls = self.cache[index]\n",
        "        else:\n",
        "            fn = self.datapath[index]\n",
        "            cls = self.classes[self.datapath[index][0]]\n",
        "            cls = np.array([cls]).astype(np.int32)\n",
        "            point_set = np.loadtxt(fn[1], delimiter=',').astype(np.float32)\n",
        "            if self.uniform:\n",
        "                point_set = farthest_point_sample(point_set, self.npoints)\n",
        "            else:\n",
        "                point_set = point_set[0:self.npoints,:]\n",
        "\n",
        "            point_set[:, 0:3] = pc_normalize(point_set[:, 0:3])\n",
        "\n",
        "            if not self.normal_channel:\n",
        "                point_set = point_set[:, 0:3]\n",
        "\n",
        "            if len(self.cache) < self.cache_size:\n",
        "                self.cache[index] = (point_set, cls)\n",
        "\n",
        "        return point_set, cls\n",
        "\n",
        "    def __getitem__(self, index):\n",
        "        return self._get_item(index)\n"
      ],
      "metadata": {
        "id": "UvT8GiSgJSdX"
      },
      "execution_count": null,
      "outputs": []
    },
    {
      "cell_type": "markdown",
      "source": [
        "## Dataloader For Segmentation"
      ],
      "metadata": {
        "id": "k0xHQTtsBaPX"
      }
    },
    {
      "cell_type": "code",
      "source": [
        "class cocoDataset(Dataset):\n",
        "    def __init__(self, path, train=True):\n",
        "        self.path = path\n",
        "        if train:\n",
        "            self.data_path = self.path + \"/train_data.npy\"\n",
        "            self.label_path = self.path + \"/train_labels.npy\"\n",
        "        else:\n",
        "            self.data_path = self.path + \"/test_data.npy\"\n",
        "            self.label_path = self.path + \"/test_labels.npy\"\n",
        "        self.data = torch.from_numpy(np.load(self.data_path))[:,0:1024,:]\n",
        "        self.label = torch.from_numpy(np.load(self.label_path)).to(torch.long)[:,0:1024]\n",
        "    def __len__(self):\n",
        "        return self.data.size()[0]\n",
        "\n",
        "    def __getitem__(self, idx):\n",
        "        return self.data[idx], self.label[idx]\n",
        "\n",
        "def get_data_loader(path, batch_size, train=True):\n",
        "    \"\"\"\n",
        "    Creates training and test data loaders\n",
        "    \"\"\"\n",
        "    dataset = cocoDataset(path, train)\n",
        "    dataloader = DataLoader(dataset=dataset, batch_size=batch_size, shuffle=train, num_workers=1)\n",
        "\n",
        "\n",
        "    return dataloader"
      ],
      "metadata": {
        "id": "GXIHsKIEBeZH"
      },
      "execution_count": null,
      "outputs": []
    },
    {
      "cell_type": "markdown",
      "source": [
        "## Self Attention"
      ],
      "metadata": {
        "id": "8YjdMTrP2d8e"
      }
    },
    {
      "cell_type": "code",
      "source": [
        "class SelfAttention(nn.Module):\n",
        "    def __init__(self,in_channel):\n",
        "        super(SelfAttention,self).__init__()\n",
        "        self.in_channel = in_channel\n",
        "        self.q_conv = nn.Conv1d(in_channel, in_channel // 4, 1, bias=False)\n",
        "        self.k_conv = nn.Conv1d(in_channel, in_channel // 4, 1, bias=False)\n",
        "        self.v_conv = nn.Conv1d(in_channel, in_channel, 1)\n",
        "\n",
        "        self.q_conv.weight = self.k_conv.weight\n",
        "        self.trans_conv = nn.Conv1d(in_channel, in_channel, 1)\n",
        "        self.after_norm = nn.BatchNorm1d(in_channel)\n",
        "        self.activate = nn.ReLU()\n",
        "        self.softmax = nn.Softmax(dim=-1)\n",
        "\n",
        "\n",
        "    def forward(self,x):\n",
        "        x_q = self.q_conv(x).permute(0, 2, 1)\n",
        "        x_k = self.k_conv(x)\n",
        "        x_v = self.v_conv(x)\n",
        "\n",
        "        div = math.sqrt(self.in_channel // 4)\n",
        "        energy = torch.bmm(x_q, x_k) / div\n",
        "\n",
        "        attention = self.softmax(energy)\n",
        "\n",
        "        x_s = torch.bmm(x_v, attention)\n",
        "        x_s = self.activate(self.after_norm(self.trans_conv(x_s)))\n",
        "\n",
        "        x = x + x_s\n",
        "        return x"
      ],
      "metadata": {
        "id": "iAcnaf6sIXiN"
      },
      "execution_count": null,
      "outputs": []
    },
    {
      "cell_type": "markdown",
      "source": [
        "## Off Attention"
      ],
      "metadata": {
        "id": "anYm38xk2iBw"
      }
    },
    {
      "cell_type": "code",
      "source": [
        "class OffSetAttention(nn.Module):\n",
        "    def __init__(self,in_channel):\n",
        "        super(OffSetAttention,self).__init__()\n",
        "        self.in_channel = in_channel\n",
        "        self.q_conv = nn.Conv1d(in_channel, in_channel // 4, 1, bias=False)\n",
        "        self.k_conv = nn.Conv1d(in_channel, in_channel // 4, 1, bias=False)\n",
        "        self.v_conv = nn.Conv1d(in_channel, in_channel, 1)\n",
        "\n",
        "        self.q_conv.weight = self.k_conv.weight\n",
        "        self.trans_conv = nn.Conv1d(in_channel, in_channel, 1)\n",
        "        self.after_norm = nn.BatchNorm1d(in_channel)\n",
        "        self.activate = nn.ReLU()\n",
        "        self.softmax = nn.Softmax(dim=-1)\n",
        "\n",
        "    def forward(self,x):\n",
        "        x_q = self.q_conv(x).permute(0, 2, 1)\n",
        "        x_k = self.k_conv(x)\n",
        "        x_v = self.v_conv(x)\n",
        "\n",
        "        energy = torch.bmm(x_q, x_k)\n",
        "        attention_raw = self.softmax(energy)\n",
        "\n",
        "        sum_atten_raw = 1e-9 + attention_raw.sum(dim=1, keepdims=True)\n",
        "        attention = attention_raw / sum_atten_raw\n",
        "\n",
        "        x_a = torch.bmm(x_v, attention)\n",
        "        x_d = x - x_a\n",
        "        x_r = self.activate(self.after_norm(self.trans_conv(x_d)))\n",
        "        x = x + x_r\n",
        "\n",
        "        return x"
      ],
      "metadata": {
        "id": "wLW72qdkIkzP"
      },
      "execution_count": null,
      "outputs": []
    },
    {
      "cell_type": "markdown",
      "source": [
        "## Embedding and NeighborEmbedding Block"
      ],
      "metadata": {
        "id": "PA1nYUVI2k6j"
      }
    },
    {
      "cell_type": "code",
      "source": [
        "class Embedding(nn.Module):\n",
        "    def __init__(self,in_channel):\n",
        "        super(Embedding,self).__init__()\n",
        "        self.lbr0 = nn.Sequential(\n",
        "                    nn.Conv1d(in_channels=in_channel,out_channels=128,kernel_size=1),\n",
        "                    nn.BatchNorm1d(128),\n",
        "                    nn.ReLU()\n",
        "                )\n",
        "\n",
        "        self.lbr1 = nn.Sequential(\n",
        "                    nn.Conv1d(in_channels=128,out_channels=128,kernel_size=1),\n",
        "                    nn.BatchNorm1d(128),\n",
        "                    nn.ReLU()\n",
        "                )\n",
        "\n",
        "    def forward(self,x):\n",
        "        x1 = self.lbr0(x)\n",
        "        x2 = self.lbr1(x1)\n",
        "        return x2\n",
        "\n",
        "class NeighborEmbedding(nn.Module):\n",
        "    def __init__(self,in_channel):\n",
        "        super(NeighborEmbedding, self).__init__()\n",
        "\n",
        "        self.conv1 = nn.Conv1d(in_channel, 64, kernel_size=1, bias=False)\n",
        "        self.conv2 = nn.Conv1d(64, 64, kernel_size=1, bias=False)\n",
        "        self.bn1 = nn.BatchNorm1d(64)\n",
        "        self.bn2 = nn.BatchNorm1d(64)\n",
        "\n",
        "        self.sg1 = SampleGroup(s=512,k=32,in_channel=128, out_channel=128)\n",
        "        self.sg2 = SampleGroup(s=256,k=32,in_channel=256, out_channel=256)\n",
        "\n",
        "    def forward(self, x):\n",
        "        \"\"\"\n",
        "        Input:\n",
        "            x: [B, 6, N]\n",
        "        \"\"\"\n",
        "        xyz = x.permute(0, 2, 1)[:,:,0:3]  # [B, N ,3]\n",
        "\n",
        "        features = F.relu(self.bn1(self.conv1(x)))        # [B, 64, N]\n",
        "        features = F.relu(self.bn2(self.conv2(features))) # [B, 64, N]\n",
        "\n",
        "        xyz1, features1 = self.sg1(features, xyz)         # [B, 128, 512]\n",
        "        _, features2 = self.sg2(features1, xyz1)\n",
        "        return features2"
      ],
      "metadata": {
        "id": "VLRPOR21In78"
      },
      "execution_count": null,
      "outputs": []
    },
    {
      "cell_type": "markdown",
      "source": [
        "## Sample Group Block"
      ],
      "metadata": {
        "id": "-sgYAHX42rHK"
      }
    },
    {
      "cell_type": "code",
      "source": [
        "class SampleGroup(nn.Module):\n",
        "    def __init__(self,s,k,in_channel,out_channel):\n",
        "        super(SampleGroup,self).__init__()\n",
        "        self.s = s\n",
        "        self.k = k\n",
        "        self.conv1 = nn.Conv1d(in_channel, out_channel, kernel_size=1, bias=False)\n",
        "        self.conv2 = nn.Conv1d(out_channel, out_channel, kernel_size=1, bias=False)\n",
        "        self.bn1 = nn.BatchNorm1d(out_channel)\n",
        "        self.bn2 = nn.BatchNorm1d(out_channel)\n",
        "\n",
        "    def forward(self,x,coordinates):\n",
        "        x = x.permute(0, 2, 1)\n",
        "        new_xyz, new_feature = sample_knn_group(self.s, self.k, coordinates, x)\n",
        "        b, s, k, d = new_feature.size()\n",
        "        new_feature = new_feature.permute(0, 1, 3, 2).reshape(-1, d, k)\n",
        "        batch_size = new_feature.size(0)\n",
        "        new_feature = F.relu(self.bn1(self.conv1(new_feature)))\n",
        "        new_feature = F.relu(self.bn2(self.conv2(new_feature)))\n",
        "        new_feature = F.adaptive_max_pool1d(new_feature, 1).view(batch_size, -1)\n",
        "        new_feature = new_feature.reshape(b, s, -1).permute(0, 2, 1)\n",
        "        return new_xyz, new_feature"
      ],
      "metadata": {
        "id": "A7ENF6gbIqp2"
      },
      "execution_count": null,
      "outputs": []
    },
    {
      "cell_type": "markdown",
      "source": [
        "## Test"
      ],
      "metadata": {
        "id": "jZez7FaE2vGV"
      }
    },
    {
      "cell_type": "code",
      "source": [
        "def test(test_dataloader,model,epoch,device,task):\n",
        "    model.eval()\n",
        "    correct_obj = 0\n",
        "    num_obj = 0\n",
        "    classes = 6\n",
        "    for batch in test_dataloader:\n",
        "        point_clouds, labels = batch\n",
        "        point_clouds = torch.permute(point_clouds,(0,2,1)).to(device).float()\n",
        "        #point_clouds = point_clouds.to(device)\n",
        "        labels = labels.view(-1).to(device).to(torch.long)\n",
        "        #########################################\n",
        "        #############YOUR CODE HERE##############\n",
        "        #########################################\n",
        "        if task=='classification':\n",
        "          predictions = model(point_clouds)\n",
        "        else:\n",
        "          predictions = model.forward(point_clouds,labels.to(torch.float)).permute(0,2,1).reshape([-1,classes])\n",
        "        predictions = torch.argmax(predictions,dim=1)\n",
        "        correct_obj += torch.sum(predictions==labels).item()\n",
        "        num_obj += len(labels)\n",
        "        #print(\"num_obj num_correct\",num_obj,correct_obj)\n",
        "        #########################################\n",
        "    # Compute Accuracy of Test Dataset\n",
        "    accuracy = correct_obj / num_obj\n",
        "\n",
        "    return accuracy"
      ],
      "metadata": {
        "id": "0wCj578eIs6j"
      },
      "execution_count": null,
      "outputs": []
    },
    {
      "cell_type": "markdown",
      "source": [
        "## Train"
      ],
      "metadata": {
        "id": "3z9ck1v-2znG"
      }
    },
    {
      "cell_type": "code",
      "source": [
        "def train(train_dataloader,model,opt,epoch,device,task):\n",
        "    model.train()\n",
        "    step = epoch*len(train_dataloader)\n",
        "    epoch_loss = 0\n",
        "    classes = 6\n",
        "    for i,batch in enumerate(train_dataloader):\n",
        "        point_clouds,labels = batch\n",
        "        point_clouds = torch.permute(point_clouds,(0,2,1)).to(device).float()\n",
        "        labels = labels.view(-1).to(device).to(torch.long)\n",
        "        if task=='classification':\n",
        "          output = model(point_clouds)\n",
        "        else:\n",
        "          output = model.forward(point_clouds,labels.to(torch.float)).permute(0,2,1).reshape([-1,classes])\n",
        "\n",
        "        #output = model.forward(point_clouds,labels)\n",
        "        #print(output.shape)\n",
        "        #print(labels.shape)\n",
        "        opt.zero_grad()\n",
        "        criterion = nn.CrossEntropyLoss()\n",
        "        loss = criterion(output, labels)\n",
        "        # print(t, loss.item())\n",
        "        loss.backward()\n",
        "        opt.step()\n",
        "        epoch_loss += loss\n",
        "\n",
        "    return epoch_loss\n",
        "\n"
      ],
      "metadata": {
        "id": "rtUo5Z1qIu2M"
      },
      "execution_count": null,
      "outputs": []
    },
    {
      "cell_type": "markdown",
      "source": [
        "# Naive PCT"
      ],
      "metadata": {
        "id": "vn9hbRnYwf9o"
      }
    },
    {
      "cell_type": "markdown",
      "source": [
        "## Classify"
      ],
      "metadata": {
        "id": "Qr0Ir_9KxOxv"
      }
    },
    {
      "cell_type": "code",
      "source": [
        "class NaivePCTransCls(nn.Module):\n",
        "    def __init__(self,in_channel=3,out_channel=6,points_num=1024,task='classification'):\n",
        "        super(NaivePCTransCls,self).__init__()\n",
        "        self.in_channel = in_channel\n",
        "        self.out_channel = out_channel\n",
        "        self.task = task\n",
        "\n",
        "        self.embed = Embedding(in_channel)\n",
        "        #self.sg = SampleGroup(in_channel)\n",
        "        self.sa1 = SelfAttention(128)\n",
        "        self.sa2 = SelfAttention(128)\n",
        "        self.sa3 = SelfAttention(128)\n",
        "        self.sa4 = SelfAttention(128)\n",
        "\n",
        "        self.lbr1 = nn.Sequential(\n",
        "                    nn.Conv1d(in_channels=512,out_channels=1024,kernel_size=1),\n",
        "                    nn.BatchNorm1d(1024),\n",
        "                    nn.ReLU()\n",
        "                )\n",
        "\n",
        "        #self.m = nn.MaxPool1d(1024,1)\n",
        "        #self.avg = nn.MaxPool1d(1024,1)\n",
        "        # for classification\n",
        "        self.lbrd1 = nn.Sequential(\n",
        "                    nn.Conv1d(in_channels=2048,out_channels=256,kernel_size=1),\n",
        "                    nn.BatchNorm1d(256),\n",
        "                    nn.ReLU(),\n",
        "                    nn.Dropout()\n",
        "                )\n",
        "\n",
        "        self.lbrd2 = nn.Sequential(\n",
        "                    nn.Conv1d(in_channels=256,out_channels=256,kernel_size=1),\n",
        "                    nn.BatchNorm1d(256),\n",
        "                    nn.ReLU(),\n",
        "                    nn.Dropout()\n",
        "                )\n",
        "\n",
        "        self.l1 = nn.Conv1d(in_channels=256,out_channels=out_channel,kernel_size=1)\n",
        "\n",
        "        # for segmentation\n",
        "        self.lbrd3 = nn.Sequential(\n",
        "                    nn.Conv1d(in_channels=3072,out_channels=256,kernel_size=1),\n",
        "                    nn.BatchNorm1d(256),\n",
        "                    nn.ReLU(),\n",
        "                    nn.Dropout()\n",
        "                    )\n",
        "\n",
        "        self.lbr2 = nn.Sequential(\n",
        "                    nn.Conv1d(in_channels=256,out_channels=256,kernel_size=1),\n",
        "                    nn.BatchNorm1d(256),\n",
        "                    nn.ReLU()\n",
        "                )\n",
        "\n",
        "\n",
        "    def forward(self,x):\n",
        "        x0 = self.embed(x)\n",
        "        x1 = self.sa1(x0)\n",
        "        x2 = self.sa2(x1)\n",
        "        x3 = self.sa3(x2)\n",
        "        x4 = self.sa4(x3)\n",
        "        x5 = torch.concatenate((x1,x2,x3,x4),1)\n",
        "        x6 = self.lbr1(x5)#point feature\n",
        "\n",
        "        #if self.task=='classification':\n",
        "        x7 = torch.max(x6,-1)[0]\n",
        "        x8 = torch.mean(x6,-1)\n",
        "        x9 = torch.concatenate((x7,x8),1)\n",
        "        x9 = x9.view(x9.shape[0],x9.shape[1],1)\n",
        "        x10 = self.lbrd1(x9)\n",
        "        x11 = self.lbrd2(x10)\n",
        "\n",
        "        output = self.l1(x11)\n",
        "        #print(\"output\",output.shape)\n",
        "        return output.view(output.shape[0],-1)\n"
      ],
      "metadata": {
        "id": "1xF3q-JMwjBy"
      },
      "execution_count": null,
      "outputs": []
    },
    {
      "cell_type": "code",
      "source": [
        "losses = []\n",
        "accuracy = []\n",
        "def main():\n",
        "    NUM_CLASSES = 10\n",
        "    NUM_FEATURES = 6\n",
        "    NUM_TRAIN_POINTS = 1024\n",
        "\n",
        "    TASK = 'classification'\n",
        "    model_save_path = os.path.join(os. getcwd(), 'drive/MyDrive/ROB498/model/best_classify_model10_NAIVE_normal.pt')\n",
        "    learning_rate = 0.001\n",
        "    #path = 'data/cls'\n",
        "    Batch_size = 256\n",
        "    num_epochs = 100\n",
        "    if TASK=='classification':\n",
        "      model = NaivePCTransCls(NUM_FEATURES,NUM_CLASSES,NUM_TRAIN_POINTS,TASK)\n",
        "    else:\n",
        "      model= NaivePCTransSeg(NUM_FEATURES,NUM_CLASSES,NUM_TRAIN_POINTS,TASK)\n",
        "    device = torch.device(\"cuda\" if torch.cuda.is_available() else 'cpu')\n",
        "    #opt = optim.Adam(model.parameters(),learning_rate)\n",
        "    opt = optim.SGD(model.parameters(),learning_rate,momentum=0.5)\n",
        "    #path = os.path.join(os.getcwd(),'drive/MyDrive/ROB498/modelnet10_normal_resampled/')\n",
        "    path = '/content/modelnet10_normal_resampled/'\n",
        "    train_data = ModelNetDataLoader(root=path,npoint=NUM_TRAIN_POINTS, split='train', uniform=False, normal_channel=True)\n",
        "    train_dataloader = torch.utils.data.DataLoader(train_data, batch_size=Batch_size, shuffle=True)\n",
        "\n",
        "    test_data = ModelNetDataLoader(root=path,npoint=NUM_TRAIN_POINTS, split='test', uniform=False, normal_channel=True)\n",
        "    test_dataloader = torch.utils.data.DataLoader(test_data, batch_size=Batch_size, shuffle=True)\n",
        "\n",
        "    #train_dataloader = get_data_loader(path,batch_size,True)\n",
        "    #test_dataloader = get_data_loader(path,batch_size,False)\n",
        "\n",
        "    model = model.to(device)\n",
        "\n",
        "    best_accuracy = -1\n",
        "    for epoch in tqdm(range(num_epochs)):\n",
        "        train_epoch_loss = train(train_dataloader,model,opt,epoch,device,TASK)\n",
        "        test_accuracy = test(test_dataloader,model,epoch,device,TASK)\n",
        "        #print(train_epoch_loss)\n",
        "        losses.append(train_epoch_loss.item())\n",
        "        accuracy.append(test_accuracy)\n",
        "        print (\"epoch: {}   train loss: {:.4f}   test accuracy: {:.4f}\".format(epoch, train_epoch_loss, test_accuracy))\n",
        "        if test_accuracy>best_accuracy:\n",
        "           best_accuracy = test_accuracy\n",
        "           torch.save(model.state_dict(),model_save_path)\n",
        "    epoches = range(len(losses))\n",
        "    plt.plot(epoches,losses,label='loss')\n",
        "    plt.legend()\n",
        "    plt.show()\n",
        "\n",
        "    plt.plot(epoches,accuracy,label='accuracy')\n",
        "    plt.legend()\n",
        "    plt.show()"
      ],
      "metadata": {
        "id": "mAc-G8WdI0Lc"
      },
      "execution_count": null,
      "outputs": []
    },
    {
      "cell_type": "code",
      "source": [
        "main()"
      ],
      "metadata": {
        "colab": {
          "base_uri": "https://localhost:8080/",
          "height": 1000
        },
        "id": "bDFbIVFcluF3",
        "outputId": "5b556e8d-e69a-44d2-a757-2271532c5e94"
      },
      "execution_count": null,
      "outputs": [
        {
          "output_type": "stream",
          "name": "stdout",
          "text": [
            "The size of train data is 3991\n",
            "The size of test data is 908\n"
          ]
        },
        {
          "output_type": "stream",
          "name": "stderr",
          "text": [
            "  1%|          | 1/100 [00:45<1:15:30, 45.76s/it]"
          ]
        },
        {
          "output_type": "stream",
          "name": "stdout",
          "text": [
            "epoch: 0   train loss: 35.9522   test accuracy: 0.1101\n"
          ]
        },
        {
          "output_type": "stream",
          "name": "stderr",
          "text": [
            "\r  2%|▏         | 2/100 [00:50<35:41, 21.85s/it]  "
          ]
        },
        {
          "output_type": "stream",
          "name": "stdout",
          "text": [
            "epoch: 1   train loss: 30.5440   test accuracy: 0.1101\n"
          ]
        },
        {
          "output_type": "stream",
          "name": "stderr",
          "text": [
            "\r  3%|▎         | 3/100 [00:55<22:58, 14.21s/it]"
          ]
        },
        {
          "output_type": "stream",
          "name": "stdout",
          "text": [
            "epoch: 2   train loss: 26.8176   test accuracy: 0.1101\n"
          ]
        },
        {
          "output_type": "stream",
          "name": "stderr",
          "text": [
            "\r  4%|▍         | 4/100 [01:01<17:01, 10.64s/it]"
          ]
        },
        {
          "output_type": "stream",
          "name": "stdout",
          "text": [
            "epoch: 3   train loss: 24.4932   test accuracy: 0.4769\n"
          ]
        },
        {
          "output_type": "stream",
          "name": "stderr",
          "text": [
            "\r  5%|▌         | 5/100 [01:06<13:43,  8.67s/it]"
          ]
        },
        {
          "output_type": "stream",
          "name": "stdout",
          "text": [
            "epoch: 4   train loss: 22.4020   test accuracy: 0.5584\n"
          ]
        },
        {
          "output_type": "stream",
          "name": "stderr",
          "text": [
            "\r  6%|▌         | 6/100 [01:11<11:42,  7.48s/it]"
          ]
        },
        {
          "output_type": "stream",
          "name": "stdout",
          "text": [
            "epoch: 5   train loss: 20.6301   test accuracy: 0.6167\n"
          ]
        },
        {
          "output_type": "stream",
          "name": "stderr",
          "text": [
            "\r  7%|▋         | 7/100 [01:16<10:23,  6.71s/it]"
          ]
        },
        {
          "output_type": "stream",
          "name": "stdout",
          "text": [
            "epoch: 6   train loss: 20.9899   test accuracy: 0.6079\n"
          ]
        },
        {
          "output_type": "stream",
          "name": "stderr",
          "text": [
            "\r  8%|▊         | 8/100 [01:21<09:32,  6.22s/it]"
          ]
        },
        {
          "output_type": "stream",
          "name": "stdout",
          "text": [
            "epoch: 7   train loss: 18.8817   test accuracy: 0.6443\n"
          ]
        },
        {
          "output_type": "stream",
          "name": "stderr",
          "text": [
            "\r  9%|▉         | 9/100 [01:26<08:56,  5.90s/it]"
          ]
        },
        {
          "output_type": "stream",
          "name": "stdout",
          "text": [
            "epoch: 8   train loss: 17.7689   test accuracy: 0.6586\n"
          ]
        },
        {
          "output_type": "stream",
          "name": "stderr",
          "text": [
            "\r 10%|█         | 10/100 [01:32<08:30,  5.68s/it]"
          ]
        },
        {
          "output_type": "stream",
          "name": "stdout",
          "text": [
            "epoch: 9   train loss: 16.8210   test accuracy: 0.6784\n"
          ]
        },
        {
          "output_type": "stream",
          "name": "stderr",
          "text": [
            "\r 11%|█         | 11/100 [01:37<08:11,  5.53s/it]"
          ]
        },
        {
          "output_type": "stream",
          "name": "stdout",
          "text": [
            "epoch: 10   train loss: 16.2898   test accuracy: 0.6850\n"
          ]
        },
        {
          "output_type": "stream",
          "name": "stderr",
          "text": [
            "\r 12%|█▏        | 12/100 [01:42<07:56,  5.41s/it]"
          ]
        },
        {
          "output_type": "stream",
          "name": "stdout",
          "text": [
            "epoch: 11   train loss: 16.1782   test accuracy: 0.6795\n"
          ]
        },
        {
          "output_type": "stream",
          "name": "stderr",
          "text": [
            "\r 13%|█▎        | 13/100 [01:47<07:45,  5.35s/it]"
          ]
        },
        {
          "output_type": "stream",
          "name": "stdout",
          "text": [
            "epoch: 12   train loss: 15.4904   test accuracy: 0.7015\n"
          ]
        },
        {
          "output_type": "stream",
          "name": "stderr",
          "text": [
            "\r 14%|█▍        | 14/100 [01:52<07:35,  5.30s/it]"
          ]
        },
        {
          "output_type": "stream",
          "name": "stdout",
          "text": [
            "epoch: 13   train loss: 14.7245   test accuracy: 0.7247\n"
          ]
        },
        {
          "output_type": "stream",
          "name": "stderr",
          "text": [
            "\r 15%|█▌        | 15/100 [01:58<07:27,  5.27s/it]"
          ]
        },
        {
          "output_type": "stream",
          "name": "stdout",
          "text": [
            "epoch: 14   train loss: 14.3101   test accuracy: 0.7467\n"
          ]
        },
        {
          "output_type": "stream",
          "name": "stderr",
          "text": [
            "\r 16%|█▌        | 16/100 [02:03<07:20,  5.25s/it]"
          ]
        },
        {
          "output_type": "stream",
          "name": "stdout",
          "text": [
            "epoch: 15   train loss: 13.7283   test accuracy: 0.7863\n"
          ]
        },
        {
          "output_type": "stream",
          "name": "stderr",
          "text": [
            "\r 17%|█▋        | 17/100 [02:08<07:13,  5.22s/it]"
          ]
        },
        {
          "output_type": "stream",
          "name": "stdout",
          "text": [
            "epoch: 16   train loss: 13.7589   test accuracy: 0.7379\n"
          ]
        },
        {
          "output_type": "stream",
          "name": "stderr",
          "text": [
            "\r 18%|█▊        | 18/100 [02:13<07:06,  5.20s/it]"
          ]
        },
        {
          "output_type": "stream",
          "name": "stdout",
          "text": [
            "epoch: 17   train loss: 13.1952   test accuracy: 0.7632\n"
          ]
        },
        {
          "output_type": "stream",
          "name": "stderr",
          "text": [
            "\r 19%|█▉        | 19/100 [02:18<07:01,  5.20s/it]"
          ]
        },
        {
          "output_type": "stream",
          "name": "stdout",
          "text": [
            "epoch: 18   train loss: 12.5091   test accuracy: 0.7952\n"
          ]
        },
        {
          "output_type": "stream",
          "name": "stderr",
          "text": [
            "\r 20%|██        | 20/100 [02:23<06:54,  5.19s/it]"
          ]
        },
        {
          "output_type": "stream",
          "name": "stdout",
          "text": [
            "epoch: 19   train loss: 12.3478   test accuracy: 0.7830\n"
          ]
        },
        {
          "output_type": "stream",
          "name": "stderr",
          "text": [
            "\r 21%|██        | 21/100 [02:29<06:48,  5.18s/it]"
          ]
        },
        {
          "output_type": "stream",
          "name": "stdout",
          "text": [
            "epoch: 20   train loss: 11.7365   test accuracy: 0.7698\n"
          ]
        },
        {
          "output_type": "stream",
          "name": "stderr",
          "text": [
            "\r 22%|██▏       | 22/100 [02:34<06:43,  5.18s/it]"
          ]
        },
        {
          "output_type": "stream",
          "name": "stdout",
          "text": [
            "epoch: 21   train loss: 11.5554   test accuracy: 0.8062\n"
          ]
        },
        {
          "output_type": "stream",
          "name": "stderr",
          "text": [
            "\r 23%|██▎       | 23/100 [02:39<06:38,  5.17s/it]"
          ]
        },
        {
          "output_type": "stream",
          "name": "stdout",
          "text": [
            "epoch: 22   train loss: 11.0023   test accuracy: 0.7952\n"
          ]
        },
        {
          "output_type": "stream",
          "name": "stderr",
          "text": [
            "\r 24%|██▍       | 24/100 [02:44<06:33,  5.17s/it]"
          ]
        },
        {
          "output_type": "stream",
          "name": "stdout",
          "text": [
            "epoch: 23   train loss: 10.6449   test accuracy: 0.8205\n"
          ]
        },
        {
          "output_type": "stream",
          "name": "stderr",
          "text": [
            "\r 25%|██▌       | 25/100 [02:49<06:27,  5.17s/it]"
          ]
        },
        {
          "output_type": "stream",
          "name": "stdout",
          "text": [
            "epoch: 24   train loss: 10.8307   test accuracy: 0.8062\n"
          ]
        },
        {
          "output_type": "stream",
          "name": "stderr",
          "text": [
            "\r 26%|██▌       | 26/100 [02:54<06:23,  5.18s/it]"
          ]
        },
        {
          "output_type": "stream",
          "name": "stdout",
          "text": [
            "epoch: 25   train loss: 10.6052   test accuracy: 0.8249\n"
          ]
        },
        {
          "output_type": "stream",
          "name": "stderr",
          "text": [
            "\r 27%|██▋       | 27/100 [03:00<06:17,  5.17s/it]"
          ]
        },
        {
          "output_type": "stream",
          "name": "stdout",
          "text": [
            "epoch: 26   train loss: 10.3420   test accuracy: 0.7841\n"
          ]
        },
        {
          "output_type": "stream",
          "name": "stderr",
          "text": [
            "\r 28%|██▊       | 28/100 [03:05<06:12,  5.17s/it]"
          ]
        },
        {
          "output_type": "stream",
          "name": "stdout",
          "text": [
            "epoch: 27   train loss: 10.4773   test accuracy: 0.8227\n"
          ]
        },
        {
          "output_type": "stream",
          "name": "stderr",
          "text": [
            "\r 29%|██▉       | 29/100 [03:10<06:07,  5.18s/it]"
          ]
        },
        {
          "output_type": "stream",
          "name": "stdout",
          "text": [
            "epoch: 28   train loss: 9.8152   test accuracy: 0.8326\n"
          ]
        },
        {
          "output_type": "stream",
          "name": "stderr",
          "text": [
            "\r 30%|███       | 30/100 [03:15<06:01,  5.17s/it]"
          ]
        },
        {
          "output_type": "stream",
          "name": "stdout",
          "text": [
            "epoch: 29   train loss: 9.5913   test accuracy: 0.8293\n"
          ]
        },
        {
          "output_type": "stream",
          "name": "stderr",
          "text": [
            "\r 31%|███       | 31/100 [03:20<05:57,  5.18s/it]"
          ]
        },
        {
          "output_type": "stream",
          "name": "stdout",
          "text": [
            "epoch: 30   train loss: 9.3143   test accuracy: 0.8447\n"
          ]
        },
        {
          "output_type": "stream",
          "name": "stderr",
          "text": [
            "\r 32%|███▏      | 32/100 [03:26<05:52,  5.19s/it]"
          ]
        },
        {
          "output_type": "stream",
          "name": "stdout",
          "text": [
            "epoch: 31   train loss: 8.9405   test accuracy: 0.8502\n"
          ]
        },
        {
          "output_type": "stream",
          "name": "stderr",
          "text": [
            "\r 33%|███▎      | 33/100 [03:31<05:48,  5.20s/it]"
          ]
        },
        {
          "output_type": "stream",
          "name": "stdout",
          "text": [
            "epoch: 32   train loss: 8.7962   test accuracy: 0.8513\n"
          ]
        },
        {
          "output_type": "stream",
          "name": "stderr",
          "text": [
            "\r 34%|███▍      | 34/100 [03:36<05:43,  5.20s/it]"
          ]
        },
        {
          "output_type": "stream",
          "name": "stdout",
          "text": [
            "epoch: 33   train loss: 8.5458   test accuracy: 0.8524\n"
          ]
        },
        {
          "output_type": "stream",
          "name": "stderr",
          "text": [
            "\r 35%|███▌      | 35/100 [03:41<05:37,  5.19s/it]"
          ]
        },
        {
          "output_type": "stream",
          "name": "stdout",
          "text": [
            "epoch: 34   train loss: 8.5256   test accuracy: 0.7665\n"
          ]
        },
        {
          "output_type": "stream",
          "name": "stderr",
          "text": [
            "\r 36%|███▌      | 36/100 [03:46<05:31,  5.18s/it]"
          ]
        },
        {
          "output_type": "stream",
          "name": "stdout",
          "text": [
            "epoch: 35   train loss: 8.5512   test accuracy: 0.8403\n"
          ]
        },
        {
          "output_type": "stream",
          "name": "stderr",
          "text": [
            "\r 37%|███▋      | 37/100 [03:52<05:26,  5.19s/it]"
          ]
        },
        {
          "output_type": "stream",
          "name": "stdout",
          "text": [
            "epoch: 36   train loss: 8.2203   test accuracy: 0.8656\n"
          ]
        },
        {
          "output_type": "stream",
          "name": "stderr",
          "text": [
            "\r 38%|███▊      | 38/100 [03:57<05:21,  5.18s/it]"
          ]
        },
        {
          "output_type": "stream",
          "name": "stdout",
          "text": [
            "epoch: 37   train loss: 7.9603   test accuracy: 0.8568\n"
          ]
        },
        {
          "output_type": "stream",
          "name": "stderr",
          "text": [
            "\r 39%|███▉      | 39/100 [04:02<05:15,  5.18s/it]"
          ]
        },
        {
          "output_type": "stream",
          "name": "stdout",
          "text": [
            "epoch: 38   train loss: 8.2740   test accuracy: 0.8480\n"
          ]
        },
        {
          "output_type": "stream",
          "name": "stderr",
          "text": [
            "\r 40%|████      | 40/100 [04:07<05:10,  5.17s/it]"
          ]
        },
        {
          "output_type": "stream",
          "name": "stdout",
          "text": [
            "epoch: 39   train loss: 8.6933   test accuracy: 0.8238\n"
          ]
        },
        {
          "output_type": "stream",
          "name": "stderr",
          "text": [
            "\r 41%|████      | 41/100 [04:12<05:05,  5.17s/it]"
          ]
        },
        {
          "output_type": "stream",
          "name": "stdout",
          "text": [
            "epoch: 40   train loss: 8.2819   test accuracy: 0.8535\n"
          ]
        },
        {
          "output_type": "stream",
          "name": "stderr",
          "text": [
            "\r 42%|████▏     | 42/100 [04:17<05:00,  5.18s/it]"
          ]
        },
        {
          "output_type": "stream",
          "name": "stdout",
          "text": [
            "epoch: 41   train loss: 7.8742   test accuracy: 0.8722\n"
          ]
        },
        {
          "output_type": "stream",
          "name": "stderr",
          "text": [
            "\r 43%|████▎     | 43/100 [04:23<04:55,  5.19s/it]"
          ]
        },
        {
          "output_type": "stream",
          "name": "stdout",
          "text": [
            "epoch: 42   train loss: 7.7077   test accuracy: 0.8767\n"
          ]
        },
        {
          "output_type": "stream",
          "name": "stderr",
          "text": [
            "\r 44%|████▍     | 44/100 [04:28<04:50,  5.18s/it]"
          ]
        },
        {
          "output_type": "stream",
          "name": "stdout",
          "text": [
            "epoch: 43   train loss: 7.3170   test accuracy: 0.8722\n"
          ]
        },
        {
          "output_type": "stream",
          "name": "stderr",
          "text": [
            "\r 45%|████▌     | 45/100 [04:33<04:44,  5.18s/it]"
          ]
        },
        {
          "output_type": "stream",
          "name": "stdout",
          "text": [
            "epoch: 44   train loss: 7.1439   test accuracy: 0.8767\n"
          ]
        },
        {
          "output_type": "stream",
          "name": "stderr",
          "text": [
            "\r 46%|████▌     | 46/100 [04:38<04:39,  5.18s/it]"
          ]
        },
        {
          "output_type": "stream",
          "name": "stdout",
          "text": [
            "epoch: 45   train loss: 7.2554   test accuracy: 0.8877\n"
          ]
        },
        {
          "output_type": "stream",
          "name": "stderr",
          "text": [
            "\r 47%|████▋     | 47/100 [04:43<04:34,  5.18s/it]"
          ]
        },
        {
          "output_type": "stream",
          "name": "stdout",
          "text": [
            "epoch: 46   train loss: 7.2098   test accuracy: 0.8811\n"
          ]
        },
        {
          "output_type": "stream",
          "name": "stderr",
          "text": [
            "\r 48%|████▊     | 48/100 [04:48<04:28,  5.17s/it]"
          ]
        },
        {
          "output_type": "stream",
          "name": "stdout",
          "text": [
            "epoch: 47   train loss: 7.2060   test accuracy: 0.8458\n"
          ]
        },
        {
          "output_type": "stream",
          "name": "stderr",
          "text": [
            "\r 49%|████▉     | 49/100 [04:54<04:23,  5.17s/it]"
          ]
        },
        {
          "output_type": "stream",
          "name": "stdout",
          "text": [
            "epoch: 48   train loss: 7.1474   test accuracy: 0.8634\n"
          ]
        },
        {
          "output_type": "stream",
          "name": "stderr",
          "text": [
            "\r 50%|█████     | 50/100 [04:59<04:18,  5.16s/it]"
          ]
        },
        {
          "output_type": "stream",
          "name": "stdout",
          "text": [
            "epoch: 49   train loss: 7.3133   test accuracy: 0.6090\n"
          ]
        },
        {
          "output_type": "stream",
          "name": "stderr",
          "text": [
            "\r 51%|█████     | 51/100 [05:04<04:12,  5.16s/it]"
          ]
        },
        {
          "output_type": "stream",
          "name": "stdout",
          "text": [
            "epoch: 50   train loss: 9.3412   test accuracy: 0.8249\n"
          ]
        },
        {
          "output_type": "stream",
          "name": "stderr",
          "text": [
            "\r 52%|█████▏    | 52/100 [05:09<04:07,  5.16s/it]"
          ]
        },
        {
          "output_type": "stream",
          "name": "stdout",
          "text": [
            "epoch: 51   train loss: 8.0641   test accuracy: 0.8425\n"
          ]
        },
        {
          "output_type": "stream",
          "name": "stderr",
          "text": [
            "\r 53%|█████▎    | 53/100 [05:14<04:02,  5.16s/it]"
          ]
        },
        {
          "output_type": "stream",
          "name": "stdout",
          "text": [
            "epoch: 52   train loss: 7.5555   test accuracy: 0.8568\n"
          ]
        },
        {
          "output_type": "stream",
          "name": "stderr",
          "text": [
            "\r 54%|█████▍    | 54/100 [05:19<03:57,  5.16s/it]"
          ]
        },
        {
          "output_type": "stream",
          "name": "stdout",
          "text": [
            "epoch: 53   train loss: 7.2718   test accuracy: 0.8623\n"
          ]
        },
        {
          "output_type": "stream",
          "name": "stderr",
          "text": [
            "\r 55%|█████▌    | 55/100 [05:25<03:52,  5.16s/it]"
          ]
        },
        {
          "output_type": "stream",
          "name": "stdout",
          "text": [
            "epoch: 54   train loss: 7.0821   test accuracy: 0.8634\n"
          ]
        },
        {
          "output_type": "stream",
          "name": "stderr",
          "text": [
            "\r 56%|█████▌    | 56/100 [05:30<03:46,  5.16s/it]"
          ]
        },
        {
          "output_type": "stream",
          "name": "stdout",
          "text": [
            "epoch: 55   train loss: 7.2813   test accuracy: 0.8689\n"
          ]
        },
        {
          "output_type": "stream",
          "name": "stderr",
          "text": [
            "\r 57%|█████▋    | 57/100 [05:35<03:41,  5.16s/it]"
          ]
        },
        {
          "output_type": "stream",
          "name": "stdout",
          "text": [
            "epoch: 56   train loss: 6.7333   test accuracy: 0.8656\n"
          ]
        },
        {
          "output_type": "stream",
          "name": "stderr",
          "text": [
            "\r 58%|█████▊    | 58/100 [05:40<03:36,  5.16s/it]"
          ]
        },
        {
          "output_type": "stream",
          "name": "stdout",
          "text": [
            "epoch: 57   train loss: 6.7489   test accuracy: 0.8414\n"
          ]
        },
        {
          "output_type": "stream",
          "name": "stderr",
          "text": [
            "\r 59%|█████▉    | 59/100 [05:45<03:31,  5.16s/it]"
          ]
        },
        {
          "output_type": "stream",
          "name": "stdout",
          "text": [
            "epoch: 58   train loss: 6.6435   test accuracy: 0.8667\n"
          ]
        },
        {
          "output_type": "stream",
          "name": "stderr",
          "text": [
            "\r 60%|██████    | 60/100 [05:50<03:26,  5.16s/it]"
          ]
        },
        {
          "output_type": "stream",
          "name": "stdout",
          "text": [
            "epoch: 59   train loss: 6.4666   test accuracy: 0.8689\n"
          ]
        },
        {
          "output_type": "stream",
          "name": "stderr",
          "text": [
            "\r 61%|██████    | 61/100 [05:55<03:21,  5.16s/it]"
          ]
        },
        {
          "output_type": "stream",
          "name": "stdout",
          "text": [
            "epoch: 60   train loss: 6.1150   test accuracy: 0.8822\n"
          ]
        },
        {
          "output_type": "stream",
          "name": "stderr",
          "text": [
            "\r 62%|██████▏   | 62/100 [06:01<03:16,  5.16s/it]"
          ]
        },
        {
          "output_type": "stream",
          "name": "stdout",
          "text": [
            "epoch: 61   train loss: 6.1240   test accuracy: 0.8744\n"
          ]
        },
        {
          "output_type": "stream",
          "name": "stderr",
          "text": [
            "\r 63%|██████▎   | 63/100 [06:06<03:10,  5.16s/it]"
          ]
        },
        {
          "output_type": "stream",
          "name": "stdout",
          "text": [
            "epoch: 62   train loss: 5.8500   test accuracy: 0.8789\n"
          ]
        },
        {
          "output_type": "stream",
          "name": "stderr",
          "text": [
            "\r 64%|██████▍   | 64/100 [06:11<03:05,  5.16s/it]"
          ]
        },
        {
          "output_type": "stream",
          "name": "stdout",
          "text": [
            "epoch: 63   train loss: 5.5705   test accuracy: 0.8811\n"
          ]
        },
        {
          "output_type": "stream",
          "name": "stderr",
          "text": [
            "\r 65%|██████▌   | 65/100 [06:16<03:00,  5.16s/it]"
          ]
        },
        {
          "output_type": "stream",
          "name": "stdout",
          "text": [
            "epoch: 64   train loss: 5.7299   test accuracy: 0.8811\n"
          ]
        },
        {
          "output_type": "stream",
          "name": "stderr",
          "text": [
            "\r 66%|██████▌   | 66/100 [06:21<02:55,  5.16s/it]"
          ]
        },
        {
          "output_type": "stream",
          "name": "stdout",
          "text": [
            "epoch: 65   train loss: 5.7776   test accuracy: 0.8789\n"
          ]
        },
        {
          "output_type": "stream",
          "name": "stderr",
          "text": [
            "\r 67%|██████▋   | 67/100 [06:26<02:50,  5.16s/it]"
          ]
        },
        {
          "output_type": "stream",
          "name": "stdout",
          "text": [
            "epoch: 66   train loss: 6.1300   test accuracy: 0.8700\n"
          ]
        },
        {
          "output_type": "stream",
          "name": "stderr",
          "text": [
            "\r 68%|██████▊   | 68/100 [06:32<02:45,  5.16s/it]"
          ]
        },
        {
          "output_type": "stream",
          "name": "stdout",
          "text": [
            "epoch: 67   train loss: 6.2094   test accuracy: 0.8811\n"
          ]
        },
        {
          "output_type": "stream",
          "name": "stderr",
          "text": [
            "\r 69%|██████▉   | 69/100 [06:37<02:39,  5.16s/it]"
          ]
        },
        {
          "output_type": "stream",
          "name": "stdout",
          "text": [
            "epoch: 68   train loss: 5.8424   test accuracy: 0.8767\n"
          ]
        },
        {
          "output_type": "stream",
          "name": "stderr",
          "text": [
            "\r 70%|███████   | 70/100 [06:42<02:34,  5.16s/it]"
          ]
        },
        {
          "output_type": "stream",
          "name": "stdout",
          "text": [
            "epoch: 69   train loss: 5.7035   test accuracy: 0.8811\n"
          ]
        },
        {
          "output_type": "stream",
          "name": "stderr",
          "text": [
            "\r 71%|███████   | 71/100 [06:47<02:29,  5.16s/it]"
          ]
        },
        {
          "output_type": "stream",
          "name": "stdout",
          "text": [
            "epoch: 70   train loss: 5.5248   test accuracy: 0.8822\n"
          ]
        },
        {
          "output_type": "stream",
          "name": "stderr",
          "text": [
            "\r 72%|███████▏  | 72/100 [06:52<02:24,  5.16s/it]"
          ]
        },
        {
          "output_type": "stream",
          "name": "stdout",
          "text": [
            "epoch: 71   train loss: 5.5223   test accuracy: 0.8822\n"
          ]
        },
        {
          "output_type": "stream",
          "name": "stderr",
          "text": [
            "\r 73%|███████▎  | 73/100 [06:57<02:19,  5.16s/it]"
          ]
        },
        {
          "output_type": "stream",
          "name": "stdout",
          "text": [
            "epoch: 72   train loss: 5.3633   test accuracy: 0.8877\n"
          ]
        },
        {
          "output_type": "stream",
          "name": "stderr",
          "text": [
            "\r 74%|███████▍  | 74/100 [07:03<02:14,  5.17s/it]"
          ]
        },
        {
          "output_type": "stream",
          "name": "stdout",
          "text": [
            "epoch: 73   train loss: 5.2622   test accuracy: 0.8888\n"
          ]
        },
        {
          "output_type": "stream",
          "name": "stderr",
          "text": [
            "\r 75%|███████▌  | 75/100 [07:08<02:09,  5.18s/it]"
          ]
        },
        {
          "output_type": "stream",
          "name": "stdout",
          "text": [
            "epoch: 74   train loss: 5.2150   test accuracy: 0.8987\n"
          ]
        },
        {
          "output_type": "stream",
          "name": "stderr",
          "text": [
            "\r 76%|███████▌  | 76/100 [07:13<02:04,  5.18s/it]"
          ]
        },
        {
          "output_type": "stream",
          "name": "stdout",
          "text": [
            "epoch: 75   train loss: 5.0225   test accuracy: 0.8987\n"
          ]
        },
        {
          "output_type": "stream",
          "name": "stderr",
          "text": [
            "\r 77%|███████▋  | 77/100 [07:18<01:59,  5.17s/it]"
          ]
        },
        {
          "output_type": "stream",
          "name": "stdout",
          "text": [
            "epoch: 76   train loss: 4.9490   test accuracy: 0.8965\n"
          ]
        },
        {
          "output_type": "stream",
          "name": "stderr",
          "text": [
            "\r 78%|███████▊  | 78/100 [07:23<01:53,  5.17s/it]"
          ]
        },
        {
          "output_type": "stream",
          "name": "stdout",
          "text": [
            "epoch: 77   train loss: 4.9356   test accuracy: 0.8954\n"
          ]
        },
        {
          "output_type": "stream",
          "name": "stderr",
          "text": [
            "\r 79%|███████▉  | 79/100 [07:29<01:48,  5.18s/it]"
          ]
        },
        {
          "output_type": "stream",
          "name": "stdout",
          "text": [
            "epoch: 78   train loss: 4.8336   test accuracy: 0.9009\n"
          ]
        },
        {
          "output_type": "stream",
          "name": "stderr",
          "text": [
            "\r 80%|████████  | 80/100 [07:34<01:43,  5.17s/it]"
          ]
        },
        {
          "output_type": "stream",
          "name": "stdout",
          "text": [
            "epoch: 79   train loss: 4.7177   test accuracy: 0.8976\n"
          ]
        },
        {
          "output_type": "stream",
          "name": "stderr",
          "text": [
            "\r 81%|████████  | 81/100 [07:39<01:38,  5.17s/it]"
          ]
        },
        {
          "output_type": "stream",
          "name": "stdout",
          "text": [
            "epoch: 80   train loss: 4.9567   test accuracy: 0.8877\n"
          ]
        },
        {
          "output_type": "stream",
          "name": "stderr",
          "text": [
            "\r 82%|████████▏ | 82/100 [07:44<01:33,  5.17s/it]"
          ]
        },
        {
          "output_type": "stream",
          "name": "stdout",
          "text": [
            "epoch: 81   train loss: 5.0244   test accuracy: 0.8987\n"
          ]
        },
        {
          "output_type": "stream",
          "name": "stderr",
          "text": [
            "\r 83%|████████▎ | 83/100 [07:49<01:27,  5.17s/it]"
          ]
        },
        {
          "output_type": "stream",
          "name": "stdout",
          "text": [
            "epoch: 82   train loss: 4.8092   test accuracy: 0.8998\n"
          ]
        },
        {
          "output_type": "stream",
          "name": "stderr",
          "text": [
            "\r 84%|████████▍ | 84/100 [07:54<01:22,  5.16s/it]"
          ]
        },
        {
          "output_type": "stream",
          "name": "stdout",
          "text": [
            "epoch: 83   train loss: 4.7110   test accuracy: 0.8998\n"
          ]
        },
        {
          "output_type": "stream",
          "name": "stderr",
          "text": [
            "\r 85%|████████▌ | 85/100 [07:59<01:17,  5.16s/it]"
          ]
        },
        {
          "output_type": "stream",
          "name": "stdout",
          "text": [
            "epoch: 84   train loss: 4.6053   test accuracy: 0.8932\n"
          ]
        },
        {
          "output_type": "stream",
          "name": "stderr",
          "text": [
            "\r 86%|████████▌ | 86/100 [08:05<01:12,  5.16s/it]"
          ]
        },
        {
          "output_type": "stream",
          "name": "stdout",
          "text": [
            "epoch: 85   train loss: 4.4270   test accuracy: 0.8987\n"
          ]
        },
        {
          "output_type": "stream",
          "name": "stderr",
          "text": [
            "\r 87%|████████▋ | 87/100 [08:10<01:07,  5.17s/it]"
          ]
        },
        {
          "output_type": "stream",
          "name": "stdout",
          "text": [
            "epoch: 86   train loss: 4.4868   test accuracy: 0.8899\n"
          ]
        },
        {
          "output_type": "stream",
          "name": "stderr",
          "text": [
            "\r 88%|████████▊ | 88/100 [08:15<01:02,  5.17s/it]"
          ]
        },
        {
          "output_type": "stream",
          "name": "stdout",
          "text": [
            "epoch: 87   train loss: 4.8816   test accuracy: 0.8866\n"
          ]
        },
        {
          "output_type": "stream",
          "name": "stderr",
          "text": [
            "\r 89%|████████▉ | 89/100 [08:20<00:56,  5.17s/it]"
          ]
        },
        {
          "output_type": "stream",
          "name": "stdout",
          "text": [
            "epoch: 88   train loss: 4.5917   test accuracy: 0.8833\n"
          ]
        },
        {
          "output_type": "stream",
          "name": "stderr",
          "text": [
            "\r 90%|█████████ | 90/100 [08:25<00:51,  5.17s/it]"
          ]
        },
        {
          "output_type": "stream",
          "name": "stdout",
          "text": [
            "epoch: 89   train loss: 4.4012   test accuracy: 0.8965\n"
          ]
        },
        {
          "output_type": "stream",
          "name": "stderr",
          "text": [
            "\r 91%|█████████ | 91/100 [08:30<00:46,  5.17s/it]"
          ]
        },
        {
          "output_type": "stream",
          "name": "stdout",
          "text": [
            "epoch: 90   train loss: 4.4813   test accuracy: 0.8965\n"
          ]
        },
        {
          "output_type": "stream",
          "name": "stderr",
          "text": [
            "\r 92%|█████████▏| 92/100 [08:36<00:41,  5.16s/it]"
          ]
        },
        {
          "output_type": "stream",
          "name": "stdout",
          "text": [
            "epoch: 91   train loss: 4.3375   test accuracy: 0.8998\n"
          ]
        },
        {
          "output_type": "stream",
          "name": "stderr",
          "text": [
            "\r 93%|█████████▎| 93/100 [08:41<00:36,  5.16s/it]"
          ]
        },
        {
          "output_type": "stream",
          "name": "stdout",
          "text": [
            "epoch: 92   train loss: 4.2041   test accuracy: 0.8899\n"
          ]
        },
        {
          "output_type": "stream",
          "name": "stderr",
          "text": [
            "\r 94%|█████████▍| 94/100 [08:46<00:30,  5.16s/it]"
          ]
        },
        {
          "output_type": "stream",
          "name": "stdout",
          "text": [
            "epoch: 93   train loss: 4.2520   test accuracy: 0.8877\n"
          ]
        },
        {
          "output_type": "stream",
          "name": "stderr",
          "text": [
            "\r 95%|█████████▌| 95/100 [08:51<00:25,  5.16s/it]"
          ]
        },
        {
          "output_type": "stream",
          "name": "stdout",
          "text": [
            "epoch: 94   train loss: 4.2541   test accuracy: 0.8899\n"
          ]
        },
        {
          "output_type": "stream",
          "name": "stderr",
          "text": [
            "\r 96%|█████████▌| 96/100 [08:56<00:20,  5.17s/it]"
          ]
        },
        {
          "output_type": "stream",
          "name": "stdout",
          "text": [
            "epoch: 95   train loss: 4.1470   test accuracy: 0.9031\n"
          ]
        },
        {
          "output_type": "stream",
          "name": "stderr",
          "text": [
            "\r 97%|█████████▋| 97/100 [09:01<00:15,  5.17s/it]"
          ]
        },
        {
          "output_type": "stream",
          "name": "stdout",
          "text": [
            "epoch: 96   train loss: 4.2307   test accuracy: 0.8954\n"
          ]
        },
        {
          "output_type": "stream",
          "name": "stderr",
          "text": [
            "\r 98%|█████████▊| 98/100 [09:07<00:10,  5.17s/it]"
          ]
        },
        {
          "output_type": "stream",
          "name": "stdout",
          "text": [
            "epoch: 97   train loss: 4.2321   test accuracy: 0.8844\n"
          ]
        },
        {
          "output_type": "stream",
          "name": "stderr",
          "text": [
            "\r 99%|█████████▉| 99/100 [09:12<00:05,  5.16s/it]"
          ]
        },
        {
          "output_type": "stream",
          "name": "stdout",
          "text": [
            "epoch: 98   train loss: 4.1766   test accuracy: 0.8954\n"
          ]
        },
        {
          "output_type": "stream",
          "name": "stderr",
          "text": [
            "100%|██████████| 100/100 [09:17<00:00,  5.57s/it]"
          ]
        },
        {
          "output_type": "stream",
          "name": "stdout",
          "text": [
            "epoch: 99   train loss: 3.8583   test accuracy: 0.8987\n"
          ]
        },
        {
          "output_type": "stream",
          "name": "stderr",
          "text": [
            "\n"
          ]
        },
        {
          "output_type": "display_data",
          "data": {
            "text/plain": [
              "<Figure size 640x480 with 1 Axes>"
            ],
            "image/png": "[encoded data removed]"
          },
          "metadata": {}
        },
        {
          "output_type": "display_data",
          "data": {
            "text/plain": [
              "<Figure size 640x480 with 1 Axes>"
            ],
            "image/png": "[encoded data removed]"
          },
          "metadata": {}
        }
      ]
    },
    {
      "cell_type": "markdown",
      "source": [
        "## Segmentation"
      ],
      "metadata": {
        "id": "n2vpZIs4xRhq"
      }
    },
    {
      "cell_type": "code",
      "source": [
        "class NaivePCTransSeg(nn.Module):\n",
        "    def __init__(self,in_channel=3,out_channel=6,points_num=1024,task='segmentation'):\n",
        "        super(NaivePCTransSeg,self).__init__()\n",
        "        self.in_channel = in_channel\n",
        "        self.out_channel = out_channel\n",
        "        self.task = task\n",
        "\n",
        "        self.embed = Embedding(in_channel)\n",
        "\n",
        "        self.sa1 = SelfAttention(128)\n",
        "        self.sa2 = SelfAttention(128)\n",
        "        self.sa3 = SelfAttention(128)\n",
        "        self.sa4 = SelfAttention(128)\n",
        "\n",
        "        self.lbr1 = nn.Sequential(\n",
        "                    nn.Conv1d(in_channels=512,out_channels=1024,kernel_size=1),\n",
        "                    nn.BatchNorm1d(1024),\n",
        "                    nn.ReLU()\n",
        "                )\n",
        "\n",
        "        #self.m = nn.MaxPool1d(1024,1)\n",
        "        #self.avg = nn.MaxPool1d(1024,1)\n",
        "        # for classification\n",
        "        self.lbrd1 = nn.Sequential(\n",
        "                    nn.Conv1d(in_channels=2048,out_channels=256,kernel_size=1),\n",
        "                    nn.BatchNorm1d(256),\n",
        "                    nn.ReLU(),\n",
        "                    nn.Dropout()\n",
        "                )\n",
        "\n",
        "        self.lbrd2 = nn.Sequential(\n",
        "                    nn.Conv1d(in_channels=256,out_channels=256,kernel_size=1),\n",
        "                    nn.BatchNorm1d(256),\n",
        "                    nn.ReLU(),\n",
        "                    nn.Dropout()\n",
        "                )\n",
        "\n",
        "        self.l1 = nn.Conv1d(in_channels=256,out_channels=out_channel,kernel_size=1)\n",
        "\n",
        "        # for segmentation\n",
        "        self.lbrd3 = nn.Sequential(\n",
        "                    nn.Conv1d(in_channels=3072,out_channels=256,kernel_size=1),\n",
        "                    nn.BatchNorm1d(256),\n",
        "                    nn.ReLU(),\n",
        "                    nn.Dropout()\n",
        "                    )\n",
        "\n",
        "        self.lbrd4 = nn.Sequential(\n",
        "                    nn.Conv1d(in_channels=3136,out_channels=512,kernel_size=1),\n",
        "                    nn.BatchNorm1d(512),\n",
        "                    nn.ReLU(),\n",
        "                    nn.Dropout()\n",
        "                )\n",
        "        self.lbr2 = nn.Sequential(\n",
        "                    nn.Conv1d(in_channels=512,out_channels=256,kernel_size=1),\n",
        "                    nn.BatchNorm1d(256),\n",
        "                    nn.ReLU()\n",
        "                )\n",
        "        self.Conv1 = nn.Conv1d(256,self.out_channel,1)\n",
        "\n",
        "        self.label_lbr = nn.Sequential(\n",
        "                    nn.Conv1d(in_channels=1,out_channels=64,kernel_size=1),\n",
        "                    nn.BatchNorm1d(64),\n",
        "                    nn.ReLU(),\n",
        "                    )\n",
        "\n",
        "    def forward(self,x,labels):\n",
        "        B,C,N = x.size()\n",
        "        x0 = self.embed(x)\n",
        "        x1 = self.sa1(x0)\n",
        "        x2 = self.sa2(x1)\n",
        "        x3 = self.sa3(x2)\n",
        "        x4 = self.sa4(x3)\n",
        "        x5 = torch.concatenate((x1,x2,x3,x4),1)\n",
        "        x6 = self.lbr1(x5)#point feature\n",
        "        #print(x6.shape)\n",
        "\n",
        "        x_max = torch.max(x6,dim=-1)[0]\n",
        "        x_mean = torch.mean(x6,dim=-1)\n",
        "        x_max_features = x_max.unsqueeze(-1).repeat(1,1,N)\n",
        "        x_mean_features = x_mean.unsqueeze(-1).repeat(1,1,N)\n",
        "        labels_features = self.label_lbr(labels.view(B,1,N))\n",
        "        x7 = torch.cat([x6,x_max_features,x_mean_features,labels_features],1)\n",
        "        #print(x7.shape)\n",
        "        x8 = self.lbrd4(x7)\n",
        "        x9 = self.lbr2(x8)\n",
        "        x10 = self.Conv1(x9)\n",
        "        return x10\n"
      ],
      "metadata": {
        "id": "tJRrLf-CxTZT"
      },
      "execution_count": null,
      "outputs": []
    },
    {
      "cell_type": "code",
      "source": [
        "losses = []\n",
        "accuracy = []\n",
        "def main():\n",
        "    NUM_CLASSES = 6\n",
        "    NUM_FEATURES = 3\n",
        "    NUM_TRAIN_POINTS = 1024\n",
        "\n",
        "    TASK = 'segmentation'\n",
        "    model_save_path = os.path.join(os. getcwd(), 'drive/MyDrive/ROB498/model/best_segmentation_model10_NAIVE_normal.pt')\n",
        "    learning_rate = 0.001\n",
        "    Batch_size = 16\n",
        "    num_epochs = 50\n",
        "    if TASK=='classification':\n",
        "      model = NaivePCTransCls(NUM_FEATURES,NUM_CLASSES,NUM_TRAIN_POINTS,TASK)\n",
        "    else:\n",
        "      model= NaivePCTransSeg(NUM_FEATURES,NUM_CLASSES,NUM_TRAIN_POINTS,TASK)\n",
        "    device = torch.device(\"cuda\" if torch.cuda.is_available() else 'cpu')\n",
        "    #opt = optim.Adam(model.parameters(),learning_rate)\n",
        "    opt = optim.SGD(model.parameters(),learning_rate,momentum=0.5)\n",
        "    #path = os.path.join(os.getcwd(),'drive/MyDrive/ROB498/modelnet10_normal_resampled/')\n",
        "    path = '/content/data/seg/'\n",
        "    train_dataloader = get_data_loader(path,Batch_size, True)\n",
        "    test_dataloader = get_data_loader(path,Batch_size, False)\n",
        "    model = model.to(device)\n",
        "\n",
        "    best_accuracy = -1\n",
        "    for epoch in tqdm(range(num_epochs)):\n",
        "        train_epoch_loss = train(train_dataloader,model,opt,epoch,device,TASK)\n",
        "        test_accuracy = test(test_dataloader,model,epoch,device,TASK)\n",
        "        #print(train_epoch_loss)\n",
        "        losses.append(train_epoch_loss.item())\n",
        "        accuracy.append(test_accuracy)\n",
        "        print (\"epoch: {}   train loss: {:.4f}   test accuracy: {:.4f}\".format(epoch, train_epoch_loss, test_accuracy))\n",
        "        if test_accuracy>best_accuracy:\n",
        "           best_accuracy = test_accuracy\n",
        "           torch.save(model.state_dict(),model_save_path)\n",
        "    epoches = range(len(losses))\n",
        "    plt.plot(epoches,losses,label='loss')\n",
        "    plt.legend()\n",
        "    plt.show()\n",
        "\n",
        "    plt.plot(epoches,accuracy,label='accuracy')\n",
        "    plt.legend()\n",
        "    plt.show()"
      ],
      "metadata": {
        "id": "0MXZX5ck512k"
      },
      "execution_count": null,
      "outputs": []
    },
    {
      "cell_type": "code",
      "source": [
        "main()"
      ],
      "metadata": {
        "colab": {
          "base_uri": "https://localhost:8080/",
          "height": 1000
        },
        "id": "lJxaTncu6NeQ",
        "outputId": "1799edc4-0121-49bf-8889-62f289de3eea"
      },
      "execution_count": null,
      "outputs": [
        {
          "output_type": "stream",
          "name": "stderr",
          "text": [
            "  2%|▏         | 1/50 [00:05<04:43,  5.78s/it]"
          ]
        },
        {
          "output_type": "stream",
          "name": "stdout",
          "text": [
            "epoch: 0   train loss: 389.2282   test accuracy: 0.5379\n"
          ]
        },
        {
          "output_type": "stream",
          "name": "stderr",
          "text": [
            "\r  4%|▍         | 2/50 [00:11<04:35,  5.74s/it]"
          ]
        },
        {
          "output_type": "stream",
          "name": "stdout",
          "text": [
            "epoch: 1   train loss: 325.1761   test accuracy: 0.6781\n"
          ]
        },
        {
          "output_type": "stream",
          "name": "stderr",
          "text": [
            "\r  6%|▌         | 3/50 [00:17<04:29,  5.74s/it]"
          ]
        },
        {
          "output_type": "stream",
          "name": "stdout",
          "text": [
            "epoch: 2   train loss: 220.4861   test accuracy: 0.8316\n"
          ]
        },
        {
          "output_type": "stream",
          "name": "stderr",
          "text": [
            "\r  8%|▊         | 4/50 [00:22<04:23,  5.73s/it]"
          ]
        },
        {
          "output_type": "stream",
          "name": "stdout",
          "text": [
            "epoch: 3   train loss: 161.6739   test accuracy: 0.8362\n"
          ]
        },
        {
          "output_type": "stream",
          "name": "stderr",
          "text": [
            "\r 10%|█         | 5/50 [00:28<04:18,  5.74s/it]"
          ]
        },
        {
          "output_type": "stream",
          "name": "stdout",
          "text": [
            "epoch: 4   train loss: 132.0418   test accuracy: 0.8830\n"
          ]
        },
        {
          "output_type": "stream",
          "name": "stderr",
          "text": [
            "\r 12%|█▏        | 6/50 [00:34<04:12,  5.73s/it]"
          ]
        },
        {
          "output_type": "stream",
          "name": "stdout",
          "text": [
            "epoch: 5   train loss: 111.3126   test accuracy: 0.8646\n"
          ]
        },
        {
          "output_type": "stream",
          "name": "stderr",
          "text": [
            "\r 14%|█▍        | 7/50 [00:40<04:06,  5.73s/it]"
          ]
        },
        {
          "output_type": "stream",
          "name": "stdout",
          "text": [
            "epoch: 6   train loss: 95.6365   test accuracy: 0.9077\n"
          ]
        },
        {
          "output_type": "stream",
          "name": "stderr",
          "text": [
            "\r 16%|█▌        | 8/50 [00:45<04:01,  5.74s/it]"
          ]
        },
        {
          "output_type": "stream",
          "name": "stdout",
          "text": [
            "epoch: 7   train loss: 76.1043   test accuracy: 0.9495\n"
          ]
        },
        {
          "output_type": "stream",
          "name": "stderr",
          "text": [
            "\r 18%|█▊        | 9/50 [00:51<03:54,  5.71s/it]"
          ]
        },
        {
          "output_type": "stream",
          "name": "stdout",
          "text": [
            "epoch: 8   train loss: 64.1399   test accuracy: 0.9317\n"
          ]
        },
        {
          "output_type": "stream",
          "name": "stderr",
          "text": [
            "\r 20%|██        | 10/50 [00:57<03:48,  5.72s/it]"
          ]
        },
        {
          "output_type": "stream",
          "name": "stdout",
          "text": [
            "epoch: 9   train loss: 46.9115   test accuracy: 0.9688\n"
          ]
        },
        {
          "output_type": "stream",
          "name": "stderr",
          "text": [
            "\r 22%|██▏       | 11/50 [01:03<03:43,  5.72s/it]"
          ]
        },
        {
          "output_type": "stream",
          "name": "stdout",
          "text": [
            "epoch: 10   train loss: 36.9190   test accuracy: 0.9776\n"
          ]
        },
        {
          "output_type": "stream",
          "name": "stderr",
          "text": [
            "\r 24%|██▍       | 12/50 [01:08<03:37,  5.71s/it]"
          ]
        },
        {
          "output_type": "stream",
          "name": "stdout",
          "text": [
            "epoch: 11   train loss: 31.7958   test accuracy: 0.9759\n"
          ]
        },
        {
          "output_type": "stream",
          "name": "stderr",
          "text": [
            "\r 26%|██▌       | 13/50 [01:14<03:31,  5.72s/it]"
          ]
        },
        {
          "output_type": "stream",
          "name": "stdout",
          "text": [
            "epoch: 12   train loss: 28.9619   test accuracy: 0.9818\n"
          ]
        },
        {
          "output_type": "stream",
          "name": "stderr",
          "text": [
            "\r 28%|██▊       | 14/50 [01:20<03:26,  5.73s/it]"
          ]
        },
        {
          "output_type": "stream",
          "name": "stdout",
          "text": [
            "epoch: 13   train loss: 25.6430   test accuracy: 0.9835\n"
          ]
        },
        {
          "output_type": "stream",
          "name": "stderr",
          "text": [
            "\r 30%|███       | 15/50 [01:25<03:20,  5.73s/it]"
          ]
        },
        {
          "output_type": "stream",
          "name": "stdout",
          "text": [
            "epoch: 14   train loss: 23.0838   test accuracy: 0.9883\n"
          ]
        },
        {
          "output_type": "stream",
          "name": "stderr",
          "text": [
            "\r 32%|███▏      | 16/50 [01:31<03:14,  5.73s/it]"
          ]
        },
        {
          "output_type": "stream",
          "name": "stdout",
          "text": [
            "epoch: 15   train loss: 21.2631   test accuracy: 0.9891\n"
          ]
        },
        {
          "output_type": "stream",
          "name": "stderr",
          "text": [
            "\r 34%|███▍      | 17/50 [01:37<03:09,  5.74s/it]"
          ]
        },
        {
          "output_type": "stream",
          "name": "stdout",
          "text": [
            "epoch: 16   train loss: 19.4876   test accuracy: 0.9911\n"
          ]
        },
        {
          "output_type": "stream",
          "name": "stderr",
          "text": [
            "\r 36%|███▌      | 18/50 [01:43<03:03,  5.75s/it]"
          ]
        },
        {
          "output_type": "stream",
          "name": "stdout",
          "text": [
            "epoch: 17   train loss: 17.7444   test accuracy: 0.9937\n"
          ]
        },
        {
          "output_type": "stream",
          "name": "stderr",
          "text": [
            "\r 38%|███▊      | 19/50 [01:48<02:58,  5.75s/it]"
          ]
        },
        {
          "output_type": "stream",
          "name": "stdout",
          "text": [
            "epoch: 18   train loss: 16.5971   test accuracy: 0.9944\n"
          ]
        },
        {
          "output_type": "stream",
          "name": "stderr",
          "text": [
            "\r 40%|████      | 20/50 [01:54<02:52,  5.74s/it]"
          ]
        },
        {
          "output_type": "stream",
          "name": "stdout",
          "text": [
            "epoch: 19   train loss: 15.4616   test accuracy: 0.9931\n"
          ]
        },
        {
          "output_type": "stream",
          "name": "stderr",
          "text": [
            "\r 42%|████▏     | 21/50 [02:00<02:45,  5.72s/it]"
          ]
        },
        {
          "output_type": "stream",
          "name": "stdout",
          "text": [
            "epoch: 20   train loss: 14.7842   test accuracy: 0.9931\n"
          ]
        },
        {
          "output_type": "stream",
          "name": "stderr",
          "text": [
            "\r 44%|████▍     | 22/50 [02:06<02:39,  5.71s/it]"
          ]
        },
        {
          "output_type": "stream",
          "name": "stdout",
          "text": [
            "epoch: 21   train loss: 13.6415   test accuracy: 0.9933\n"
          ]
        },
        {
          "output_type": "stream",
          "name": "stderr",
          "text": [
            "\r 46%|████▌     | 23/50 [02:11<02:34,  5.73s/it]"
          ]
        },
        {
          "output_type": "stream",
          "name": "stdout",
          "text": [
            "epoch: 22   train loss: 12.8338   test accuracy: 0.9949\n"
          ]
        },
        {
          "output_type": "stream",
          "name": "stderr",
          "text": [
            "\r 48%|████▊     | 24/50 [02:17<02:29,  5.74s/it]"
          ]
        },
        {
          "output_type": "stream",
          "name": "stdout",
          "text": [
            "epoch: 23   train loss: 12.2872   test accuracy: 0.9961\n"
          ]
        },
        {
          "output_type": "stream",
          "name": "stderr",
          "text": [
            "\r 50%|█████     | 25/50 [02:23<02:23,  5.73s/it]"
          ]
        },
        {
          "output_type": "stream",
          "name": "stdout",
          "text": [
            "epoch: 24   train loss: 11.8603   test accuracy: 0.9951\n"
          ]
        },
        {
          "output_type": "stream",
          "name": "stderr",
          "text": [
            "\r 52%|█████▏    | 26/50 [02:29<02:17,  5.74s/it]"
          ]
        },
        {
          "output_type": "stream",
          "name": "stdout",
          "text": [
            "epoch: 25   train loss: 11.3603   test accuracy: 0.9967\n"
          ]
        },
        {
          "output_type": "stream",
          "name": "stderr",
          "text": [
            "\r 54%|█████▍    | 27/50 [02:34<02:11,  5.72s/it]"
          ]
        },
        {
          "output_type": "stream",
          "name": "stdout",
          "text": [
            "epoch: 26   train loss: 10.6746   test accuracy: 0.9967\n"
          ]
        },
        {
          "output_type": "stream",
          "name": "stderr",
          "text": [
            "\r 56%|█████▌    | 28/50 [02:40<02:06,  5.73s/it]"
          ]
        },
        {
          "output_type": "stream",
          "name": "stdout",
          "text": [
            "epoch: 27   train loss: 10.0342   test accuracy: 0.9971\n"
          ]
        },
        {
          "output_type": "stream",
          "name": "stderr",
          "text": [
            "\r 58%|█████▊    | 29/50 [02:46<02:00,  5.73s/it]"
          ]
        },
        {
          "output_type": "stream",
          "name": "stdout",
          "text": [
            "epoch: 28   train loss: 9.8020   test accuracy: 0.9947\n"
          ]
        },
        {
          "output_type": "stream",
          "name": "stderr",
          "text": [
            "\r 60%|██████    | 30/50 [02:51<01:54,  5.73s/it]"
          ]
        },
        {
          "output_type": "stream",
          "name": "stdout",
          "text": [
            "epoch: 29   train loss: 9.4815   test accuracy: 0.9960\n"
          ]
        },
        {
          "output_type": "stream",
          "name": "stderr",
          "text": [
            "\r 62%|██████▏   | 31/50 [02:57<01:48,  5.72s/it]"
          ]
        },
        {
          "output_type": "stream",
          "name": "stdout",
          "text": [
            "epoch: 30   train loss: 9.1001   test accuracy: 0.9951\n"
          ]
        },
        {
          "output_type": "stream",
          "name": "stderr",
          "text": [
            "\r 64%|██████▍   | 32/50 [03:03<01:43,  5.72s/it]"
          ]
        },
        {
          "output_type": "stream",
          "name": "stdout",
          "text": [
            "epoch: 31   train loss: 8.6635   test accuracy: 0.9951\n"
          ]
        },
        {
          "output_type": "stream",
          "name": "stderr",
          "text": [
            "\r 66%|██████▌   | 33/50 [03:09<01:37,  5.71s/it]"
          ]
        },
        {
          "output_type": "stream",
          "name": "stdout",
          "text": [
            "epoch: 32   train loss: 8.1211   test accuracy: 0.9966\n"
          ]
        },
        {
          "output_type": "stream",
          "name": "stderr",
          "text": [
            "\r 68%|██████▊   | 34/50 [03:14<01:31,  5.73s/it]"
          ]
        },
        {
          "output_type": "stream",
          "name": "stdout",
          "text": [
            "epoch: 33   train loss: 8.0646   test accuracy: 0.9976\n"
          ]
        },
        {
          "output_type": "stream",
          "name": "stderr",
          "text": [
            "\r 70%|███████   | 35/50 [03:20<01:25,  5.72s/it]"
          ]
        },
        {
          "output_type": "stream",
          "name": "stdout",
          "text": [
            "epoch: 34   train loss: 7.7165   test accuracy: 0.9966\n"
          ]
        },
        {
          "output_type": "stream",
          "name": "stderr",
          "text": [
            "\r 72%|███████▏  | 36/50 [03:26<01:20,  5.72s/it]"
          ]
        },
        {
          "output_type": "stream",
          "name": "stdout",
          "text": [
            "epoch: 35   train loss: 7.7096   test accuracy: 0.9962\n"
          ]
        },
        {
          "output_type": "stream",
          "name": "stderr",
          "text": [
            "\r 74%|███████▍  | 37/50 [03:31<01:14,  5.72s/it]"
          ]
        },
        {
          "output_type": "stream",
          "name": "stdout",
          "text": [
            "epoch: 36   train loss: 7.2489   test accuracy: 0.9974\n"
          ]
        },
        {
          "output_type": "stream",
          "name": "stderr",
          "text": [
            "\r 76%|███████▌  | 38/50 [03:37<01:08,  5.72s/it]"
          ]
        },
        {
          "output_type": "stream",
          "name": "stdout",
          "text": [
            "epoch: 37   train loss: 7.0939   test accuracy: 0.9967\n"
          ]
        },
        {
          "output_type": "stream",
          "name": "stderr",
          "text": [
            "\r 78%|███████▊  | 39/50 [03:43<01:02,  5.72s/it]"
          ]
        },
        {
          "output_type": "stream",
          "name": "stdout",
          "text": [
            "epoch: 38   train loss: 7.0001   test accuracy: 0.9950\n"
          ]
        },
        {
          "output_type": "stream",
          "name": "stderr",
          "text": [
            "\r 80%|████████  | 40/50 [03:49<00:57,  5.71s/it]"
          ]
        },
        {
          "output_type": "stream",
          "name": "stdout",
          "text": [
            "epoch: 39   train loss: 6.6069   test accuracy: 0.9962\n"
          ]
        },
        {
          "output_type": "stream",
          "name": "stderr",
          "text": [
            "\r 82%|████████▏ | 41/50 [03:54<00:51,  5.71s/it]"
          ]
        },
        {
          "output_type": "stream",
          "name": "stdout",
          "text": [
            "epoch: 40   train loss: 6.5572   test accuracy: 0.9968\n"
          ]
        },
        {
          "output_type": "stream",
          "name": "stderr",
          "text": [
            "\r 84%|████████▍ | 42/50 [04:00<00:45,  5.71s/it]"
          ]
        },
        {
          "output_type": "stream",
          "name": "stdout",
          "text": [
            "epoch: 41   train loss: 6.2872   test accuracy: 0.9963\n"
          ]
        },
        {
          "output_type": "stream",
          "name": "stderr",
          "text": [
            "\r 86%|████████▌ | 43/50 [04:06<00:39,  5.71s/it]"
          ]
        },
        {
          "output_type": "stream",
          "name": "stdout",
          "text": [
            "epoch: 42   train loss: 5.9057   test accuracy: 0.9961\n"
          ]
        },
        {
          "output_type": "stream",
          "name": "stderr",
          "text": [
            "\r 88%|████████▊ | 44/50 [04:11<00:34,  5.72s/it]"
          ]
        },
        {
          "output_type": "stream",
          "name": "stdout",
          "text": [
            "epoch: 43   train loss: 5.5612   test accuracy: 0.9961\n"
          ]
        },
        {
          "output_type": "stream",
          "name": "stderr",
          "text": [
            "\r 90%|█████████ | 45/50 [04:17<00:28,  5.71s/it]"
          ]
        },
        {
          "output_type": "stream",
          "name": "stdout",
          "text": [
            "epoch: 44   train loss: 5.6390   test accuracy: 0.9965\n"
          ]
        },
        {
          "output_type": "stream",
          "name": "stderr",
          "text": [
            "\r 92%|█████████▏| 46/50 [04:23<00:22,  5.71s/it]"
          ]
        },
        {
          "output_type": "stream",
          "name": "stdout",
          "text": [
            "epoch: 45   train loss: 5.3011   test accuracy: 0.9956\n"
          ]
        },
        {
          "output_type": "stream",
          "name": "stderr",
          "text": [
            "\r 94%|█████████▍| 47/50 [04:29<00:17,  5.71s/it]"
          ]
        },
        {
          "output_type": "stream",
          "name": "stdout",
          "text": [
            "epoch: 46   train loss: 5.2264   test accuracy: 0.9861\n"
          ]
        },
        {
          "output_type": "stream",
          "name": "stderr",
          "text": [
            "\r 96%|█████████▌| 48/50 [04:34<00:11,  5.72s/it]"
          ]
        },
        {
          "output_type": "stream",
          "name": "stdout",
          "text": [
            "epoch: 47   train loss: 5.0505   test accuracy: 0.9963\n"
          ]
        },
        {
          "output_type": "stream",
          "name": "stderr",
          "text": [
            "\r 98%|█████████▊| 49/50 [04:40<00:05,  5.72s/it]"
          ]
        },
        {
          "output_type": "stream",
          "name": "stdout",
          "text": [
            "epoch: 48   train loss: 5.0065   test accuracy: 0.9973\n"
          ]
        },
        {
          "output_type": "stream",
          "name": "stderr",
          "text": [
            "100%|██████████| 50/50 [04:46<00:00,  5.73s/it]"
          ]
        },
        {
          "output_type": "stream",
          "name": "stdout",
          "text": [
            "epoch: 49   train loss: 4.8613   test accuracy: 0.9975\n"
          ]
        },
        {
          "output_type": "stream",
          "name": "stderr",
          "text": [
            "\n"
          ]
        },
        {
          "output_type": "display_data",
          "data": {
            "text/plain": [
              "<Figure size 640x480 with 1 Axes>"
            ],
            "image/png": "[encoded data removed]"
          },
          "metadata": {}
        },
        {
          "output_type": "display_data",
          "data": {
            "text/plain": [
              "<Figure size 640x480 with 1 Axes>"
            ],
            "image/png": "[encoded data removed]"
          },
          "metadata": {}
        }
      ]
    },
    {
      "cell_type": "code",
      "source": [
        "main()"
      ],
      "metadata": {
        "id": "dmYGI8ibmKtT"
      },
      "execution_count": null,
      "outputs": []
    },
    {
      "cell_type": "markdown",
      "source": [
        "# OA PCT"
      ],
      "metadata": {
        "id": "8jMv91EIyHbh"
      }
    },
    {
      "cell_type": "markdown",
      "source": [
        "## Classify"
      ],
      "metadata": {
        "id": "Bjo2p5KvyHnm"
      }
    },
    {
      "cell_type": "code",
      "source": [
        "class OAPCTransCls(nn.Module):\n",
        "    def __init__(self,in_channel=3,out_channel=6,points_num=1024,task='classification'):\n",
        "        super(OAPCTransCls,self).__init__()\n",
        "        self.in_channel = in_channel\n",
        "        self.out_channel = out_channel\n",
        "        self.task = task\n",
        "\n",
        "        self.embed = Embedding(in_channel)\n",
        "        #self.sg = SampleGroup(in_channel)\n",
        "        self.sa1 = OffSetAttention(128)\n",
        "        self.sa2 = OffSetAttention(128)\n",
        "        self.sa3 = OffSetAttention(128)\n",
        "        self.sa4 = OffSetAttention(128)\n",
        "\n",
        "        self.lbr1 = nn.Sequential(\n",
        "                    nn.Conv1d(in_channels=512,out_channels=1024,kernel_size=1),\n",
        "                    nn.BatchNorm1d(1024),\n",
        "                    nn.ReLU()\n",
        "                )\n",
        "\n",
        "        #self.m = nn.MaxPool1d(1024,1)\n",
        "        #self.avg = nn.MaxPool1d(1024,1)\n",
        "        # for classification\n",
        "        self.lbrd1 = nn.Sequential(\n",
        "                    nn.Conv1d(in_channels=2048,out_channels=256,kernel_size=1),\n",
        "                    nn.BatchNorm1d(256),\n",
        "                    nn.ReLU(),\n",
        "                    nn.Dropout()\n",
        "                )\n",
        "\n",
        "        self.lbrd2 = nn.Sequential(\n",
        "                    nn.Conv1d(in_channels=256,out_channels=256,kernel_size=1),\n",
        "                    nn.BatchNorm1d(256),\n",
        "                    nn.ReLU(),\n",
        "                    nn.Dropout()\n",
        "                )\n",
        "\n",
        "        self.l1 = nn.Conv1d(in_channels=256,out_channels=out_channel,kernel_size=1)\n",
        "\n",
        "        # for segmentation\n",
        "        self.lbrd3 = nn.Sequential(\n",
        "                    nn.Conv1d(in_channels=3072,out_channels=256,kernel_size=1),\n",
        "                    nn.BatchNorm1d(256),\n",
        "                    nn.ReLU(),\n",
        "                    nn.Dropout()\n",
        "                    )\n",
        "\n",
        "        self.lbr2 = nn.Sequential(\n",
        "                    nn.Conv1d(in_channels=256,out_channels=256,kernel_size=1),\n",
        "                    nn.BatchNorm1d(256),\n",
        "                    nn.ReLU()\n",
        "                )\n",
        "\n",
        "\n",
        "    def forward(self,x):\n",
        "        x0 = self.embed(x)\n",
        "        x1 = self.sa1(x0)\n",
        "        x2 = self.sa2(x1)\n",
        "        x3 = self.sa3(x2)\n",
        "        x4 = self.sa4(x3)\n",
        "        x5 = torch.concatenate((x1,x2,x3,x4),1)\n",
        "        x6 = self.lbr1(x5)#point feature\n",
        "\n",
        "        #if self.task=='classification':\n",
        "        x7 = torch.max(x6,-1)[0]\n",
        "        x8 = torch.mean(x6,-1)\n",
        "        x9 = torch.concatenate((x7,x8),1)\n",
        "        x9 = x9.view(x9.shape[0],x9.shape[1],1)\n",
        "        x10 = self.lbrd1(x9)\n",
        "        x11 = self.lbrd2(x10)\n",
        "\n",
        "        output = self.l1(x11)\n",
        "        #print(\"output\",output.shape)\n",
        "        return output.view(output.shape[0],-1)\n"
      ],
      "metadata": {
        "id": "-qVxosmOyM8o"
      },
      "execution_count": null,
      "outputs": []
    },
    {
      "cell_type": "code",
      "source": [
        "losses = []\n",
        "accuracy = []\n",
        "def main():\n",
        "    NUM_CLASSES = 10\n",
        "    NUM_FEATURES = 6\n",
        "    NUM_TRAIN_POINTS = 1024\n",
        "\n",
        "    TASK = 'classification'\n",
        "    model_save_path = os.path.join(os. getcwd(), 'drive/MyDrive/ROB498/model/best_classify_model10_NAIVE_normal.pt')\n",
        "    learning_rate = 0.001\n",
        "    #path = 'data/cls'\n",
        "    Batch_size = 256\n",
        "    num_epochs = 100\n",
        "    if TASK=='classification':\n",
        "      model = NaivePCTransCls(NUM_FEATURES,NUM_CLASSES,NUM_TRAIN_POINTS,TASK)\n",
        "    else:\n",
        "      model= NaivePCTransSeg(NUM_FEATURES,NUM_CLASSES,NUM_TRAIN_POINTS,TASK)\n",
        "    device = torch.device(\"cuda\" if torch.cuda.is_available() else 'cpu')\n",
        "    #opt = optim.Adam(model.parameters(),learning_rate)\n",
        "    opt = optim.SGD(model.parameters(),learning_rate,momentum=0.5)\n",
        "    #path = os.path.join(os.getcwd(),'drive/MyDrive/ROB498/modelnet10_normal_resampled/')\n",
        "    path = '/content/modelnet10_normal_resampled/'\n",
        "    train_data = ModelNetDataLoader(root=path,npoint=NUM_TRAIN_POINTS, split='train', uniform=False, normal_channel=True)\n",
        "    train_dataloader = torch.utils.data.DataLoader(train_data, batch_size=Batch_size, shuffle=True)\n",
        "\n",
        "    test_data = ModelNetDataLoader(root=path,npoint=NUM_TRAIN_POINTS, split='test', uniform=False, normal_channel=True)\n",
        "    test_dataloader = torch.utils.data.DataLoader(test_data, batch_size=Batch_size, shuffle=True)\n",
        "\n",
        "    #train_dataloader = get_data_loader(path,batch_size,True)\n",
        "    #test_dataloader = get_data_loader(path,batch_size,False)\n",
        "\n",
        "    model = model.to(device)\n",
        "\n",
        "    best_accuracy = -1\n",
        "    for epoch in tqdm(range(num_epochs)):\n",
        "        train_epoch_loss = train(train_dataloader,model,opt,epoch,device,TASK)\n",
        "        test_accuracy = test(test_dataloader,model,epoch,device,TASK)\n",
        "        #print(train_epoch_loss)\n",
        "        losses.append(train_epoch_loss.item())\n",
        "        accuracy.append(test_accuracy)\n",
        "        print (\"epoch: {}   train loss: {:.4f}   test accuracy: {:.4f}\".format(epoch, train_epoch_loss, test_accuracy))\n",
        "        if test_accuracy>best_accuracy:\n",
        "           best_accuracy = test_accuracy\n",
        "           torch.save(model.state_dict(),model_save_path)\n",
        "    epoches = range(len(losses))\n",
        "    plt.plot(epoches,losses,label='loss')\n",
        "    plt.legend()\n",
        "    plt.show()\n",
        "\n",
        "    plt.plot(epoches,accuracy,label='accuracy')\n",
        "    plt.legend()\n",
        "    plt.show()"
      ],
      "metadata": {
        "id": "5E1L7VpyyhPy"
      },
      "execution_count": null,
      "outputs": []
    },
    {
      "cell_type": "code",
      "source": [
        "main()"
      ],
      "metadata": {
        "colab": {
          "base_uri": "https://localhost:8080/",
          "height": 1000
        },
        "id": "zbopv5mGuLRU",
        "outputId": "60221ac9-d65c-4368-dc50-f5ac97ac653b"
      },
      "execution_count": null,
      "outputs": [
        {
          "output_type": "stream",
          "name": "stdout",
          "text": [
            "The size of train data is 3991\n",
            "The size of test data is 908\n"
          ]
        },
        {
          "output_type": "stream",
          "name": "stderr",
          "text": [
            "  1%|          | 1/100 [00:44<1:12:37, 44.02s/it]"
          ]
        },
        {
          "output_type": "stream",
          "name": "stdout",
          "text": [
            "epoch: 0   train loss: 36.4300   test accuracy: 0.1101\n"
          ]
        },
        {
          "output_type": "stream",
          "name": "stderr",
          "text": [
            "\r  2%|▏         | 2/100 [00:47<33:07, 20.28s/it]  "
          ]
        },
        {
          "output_type": "stream",
          "name": "stdout",
          "text": [
            "epoch: 1   train loss: 28.6412   test accuracy: 0.3590\n"
          ]
        },
        {
          "output_type": "stream",
          "name": "stderr",
          "text": [
            "\r  3%|▎         | 3/100 [00:51<20:30, 12.69s/it]"
          ]
        },
        {
          "output_type": "stream",
          "name": "stdout",
          "text": [
            "epoch: 2   train loss: 24.7326   test accuracy: 0.6355\n"
          ]
        },
        {
          "output_type": "stream",
          "name": "stderr",
          "text": [
            "\r  4%|▍         | 4/100 [00:54<14:35,  9.12s/it]"
          ]
        },
        {
          "output_type": "stream",
          "name": "stdout",
          "text": [
            "epoch: 3   train loss: 22.2559   test accuracy: 0.6861\n"
          ]
        },
        {
          "output_type": "stream",
          "name": "stderr",
          "text": [
            "\r  5%|▌         | 5/100 [00:58<11:18,  7.14s/it]"
          ]
        },
        {
          "output_type": "stream",
          "name": "stdout",
          "text": [
            "epoch: 4   train loss: 20.3847   test accuracy: 0.7004\n"
          ]
        },
        {
          "output_type": "stream",
          "name": "stderr",
          "text": [
            "\r  6%|▌         | 6/100 [01:02<09:19,  5.96s/it]"
          ]
        },
        {
          "output_type": "stream",
          "name": "stdout",
          "text": [
            "epoch: 5   train loss: 18.8514   test accuracy: 0.7093\n"
          ]
        },
        {
          "output_type": "stream",
          "name": "stderr",
          "text": [
            "\r  7%|▋         | 7/100 [01:05<08:03,  5.20s/it]"
          ]
        },
        {
          "output_type": "stream",
          "name": "stdout",
          "text": [
            "epoch: 6   train loss: 17.7094   test accuracy: 0.7225\n"
          ]
        },
        {
          "output_type": "stream",
          "name": "stderr",
          "text": [
            "\r  8%|▊         | 8/100 [01:09<07:13,  4.71s/it]"
          ]
        },
        {
          "output_type": "stream",
          "name": "stdout",
          "text": [
            "epoch: 7   train loss: 16.8369   test accuracy: 0.7269\n"
          ]
        },
        {
          "output_type": "stream",
          "name": "stderr",
          "text": [
            "\r  9%|▉         | 9/100 [01:13<06:38,  4.38s/it]"
          ]
        },
        {
          "output_type": "stream",
          "name": "stdout",
          "text": [
            "epoch: 8   train loss: 15.9696   test accuracy: 0.7357\n"
          ]
        },
        {
          "output_type": "stream",
          "name": "stderr",
          "text": [
            "\r 10%|█         | 10/100 [01:16<06:13,  4.15s/it]"
          ]
        },
        {
          "output_type": "stream",
          "name": "stdout",
          "text": [
            "epoch: 9   train loss: 15.1921   test accuracy: 0.7434\n"
          ]
        },
        {
          "output_type": "stream",
          "name": "stderr",
          "text": [
            "\r 11%|█         | 11/100 [01:20<05:55,  4.00s/it]"
          ]
        },
        {
          "output_type": "stream",
          "name": "stdout",
          "text": [
            "epoch: 10   train loss: 14.5445   test accuracy: 0.7544\n"
          ]
        },
        {
          "output_type": "stream",
          "name": "stderr",
          "text": [
            "\r 12%|█▏        | 12/100 [01:24<05:41,  3.88s/it]"
          ]
        },
        {
          "output_type": "stream",
          "name": "stdout",
          "text": [
            "epoch: 11   train loss: 14.0389   test accuracy: 0.7544\n"
          ]
        },
        {
          "output_type": "stream",
          "name": "stderr",
          "text": [
            "\r 13%|█▎        | 13/100 [01:27<05:31,  3.81s/it]"
          ]
        },
        {
          "output_type": "stream",
          "name": "stdout",
          "text": [
            "epoch: 12   train loss: 13.4475   test accuracy: 0.7632\n"
          ]
        },
        {
          "output_type": "stream",
          "name": "stderr",
          "text": [
            "\r 14%|█▍        | 14/100 [01:31<05:23,  3.76s/it]"
          ]
        },
        {
          "output_type": "stream",
          "name": "stdout",
          "text": [
            "epoch: 13   train loss: 13.0327   test accuracy: 0.7709\n"
          ]
        },
        {
          "output_type": "stream",
          "name": "stderr",
          "text": [
            "\r 15%|█▌        | 15/100 [01:35<05:16,  3.73s/it]"
          ]
        },
        {
          "output_type": "stream",
          "name": "stdout",
          "text": [
            "epoch: 14   train loss: 12.6228   test accuracy: 0.7797\n"
          ]
        },
        {
          "output_type": "stream",
          "name": "stderr",
          "text": [
            "\r 16%|█▌        | 16/100 [01:38<05:11,  3.71s/it]"
          ]
        },
        {
          "output_type": "stream",
          "name": "stdout",
          "text": [
            "epoch: 15   train loss: 12.2714   test accuracy: 0.7874\n"
          ]
        },
        {
          "output_type": "stream",
          "name": "stderr",
          "text": [
            "\r 17%|█▋        | 17/100 [01:42<05:06,  3.69s/it]"
          ]
        },
        {
          "output_type": "stream",
          "name": "stdout",
          "text": [
            "epoch: 16   train loss: 11.8204   test accuracy: 0.7885\n"
          ]
        },
        {
          "output_type": "stream",
          "name": "stderr",
          "text": [
            "\r 18%|█▊        | 18/100 [01:46<05:01,  3.68s/it]"
          ]
        },
        {
          "output_type": "stream",
          "name": "stdout",
          "text": [
            "epoch: 17   train loss: 11.5653   test accuracy: 0.7952\n"
          ]
        },
        {
          "output_type": "stream",
          "name": "stderr",
          "text": [
            "\r 19%|█▉        | 19/100 [01:49<04:57,  3.67s/it]"
          ]
        },
        {
          "output_type": "stream",
          "name": "stdout",
          "text": [
            "epoch: 18   train loss: 11.1703   test accuracy: 0.7963\n"
          ]
        },
        {
          "output_type": "stream",
          "name": "stderr",
          "text": [
            "\r 20%|██        | 20/100 [01:53<04:53,  3.66s/it]"
          ]
        },
        {
          "output_type": "stream",
          "name": "stdout",
          "text": [
            "epoch: 19   train loss: 11.0332   test accuracy: 0.8040\n"
          ]
        },
        {
          "output_type": "stream",
          "name": "stderr",
          "text": [
            "\r 21%|██        | 21/100 [01:56<04:48,  3.66s/it]"
          ]
        },
        {
          "output_type": "stream",
          "name": "stdout",
          "text": [
            "epoch: 20   train loss: 10.5493   test accuracy: 0.8128\n"
          ]
        },
        {
          "output_type": "stream",
          "name": "stderr",
          "text": [
            "\r 22%|██▏       | 22/100 [02:00<04:44,  3.65s/it]"
          ]
        },
        {
          "output_type": "stream",
          "name": "stdout",
          "text": [
            "epoch: 21   train loss: 10.2889   test accuracy: 0.8139\n"
          ]
        },
        {
          "output_type": "stream",
          "name": "stderr",
          "text": [
            "\r 23%|██▎       | 23/100 [02:04<04:41,  3.65s/it]"
          ]
        },
        {
          "output_type": "stream",
          "name": "stdout",
          "text": [
            "epoch: 22   train loss: 10.1395   test accuracy: 0.8161\n"
          ]
        },
        {
          "output_type": "stream",
          "name": "stderr",
          "text": [
            "\r 24%|██▍       | 24/100 [02:07<04:37,  3.65s/it]"
          ]
        },
        {
          "output_type": "stream",
          "name": "stdout",
          "text": [
            "epoch: 23   train loss: 9.8624   test accuracy: 0.8183\n"
          ]
        },
        {
          "output_type": "stream",
          "name": "stderr",
          "text": [
            "\r 25%|██▌       | 25/100 [02:11<04:33,  3.65s/it]"
          ]
        },
        {
          "output_type": "stream",
          "name": "stdout",
          "text": [
            "epoch: 24   train loss: 9.6372   test accuracy: 0.8227\n"
          ]
        },
        {
          "output_type": "stream",
          "name": "stderr",
          "text": [
            "\r 26%|██▌       | 26/100 [02:15<04:30,  3.65s/it]"
          ]
        },
        {
          "output_type": "stream",
          "name": "stdout",
          "text": [
            "epoch: 25   train loss: 9.6075   test accuracy: 0.8238\n"
          ]
        },
        {
          "output_type": "stream",
          "name": "stderr",
          "text": [
            "\r 27%|██▋       | 27/100 [02:18<04:26,  3.65s/it]"
          ]
        },
        {
          "output_type": "stream",
          "name": "stdout",
          "text": [
            "epoch: 26   train loss: 9.2374   test accuracy: 0.8249\n"
          ]
        },
        {
          "output_type": "stream",
          "name": "stderr",
          "text": [
            "\r 28%|██▊       | 28/100 [02:22<04:22,  3.65s/it]"
          ]
        },
        {
          "output_type": "stream",
          "name": "stdout",
          "text": [
            "epoch: 27   train loss: 8.9365   test accuracy: 0.8326\n"
          ]
        },
        {
          "output_type": "stream",
          "name": "stderr",
          "text": [
            "\r 29%|██▉       | 29/100 [02:26<04:18,  3.64s/it]"
          ]
        },
        {
          "output_type": "stream",
          "name": "stdout",
          "text": [
            "epoch: 28   train loss: 8.7275   test accuracy: 0.8315\n"
          ]
        },
        {
          "output_type": "stream",
          "name": "stderr",
          "text": [
            "\r 30%|███       | 30/100 [02:29<04:13,  3.63s/it]"
          ]
        },
        {
          "output_type": "stream",
          "name": "stdout",
          "text": [
            "epoch: 29   train loss: 8.6582   test accuracy: 0.8315\n"
          ]
        },
        {
          "output_type": "stream",
          "name": "stderr",
          "text": [
            "\r 31%|███       | 31/100 [02:33<04:10,  3.63s/it]"
          ]
        },
        {
          "output_type": "stream",
          "name": "stdout",
          "text": [
            "epoch: 30   train loss: 8.4625   test accuracy: 0.8359\n"
          ]
        },
        {
          "output_type": "stream",
          "name": "stderr",
          "text": [
            "\r 32%|███▏      | 32/100 [02:37<04:07,  3.64s/it]"
          ]
        },
        {
          "output_type": "stream",
          "name": "stdout",
          "text": [
            "epoch: 31   train loss: 8.3051   test accuracy: 0.8403\n"
          ]
        },
        {
          "output_type": "stream",
          "name": "stderr",
          "text": [
            "\r 33%|███▎      | 33/100 [02:40<04:04,  3.64s/it]"
          ]
        },
        {
          "output_type": "stream",
          "name": "stdout",
          "text": [
            "epoch: 32   train loss: 8.1017   test accuracy: 0.8469\n"
          ]
        },
        {
          "output_type": "stream",
          "name": "stderr",
          "text": [
            "\r 34%|███▍      | 34/100 [02:44<03:59,  3.63s/it]"
          ]
        },
        {
          "output_type": "stream",
          "name": "stdout",
          "text": [
            "epoch: 33   train loss: 7.9528   test accuracy: 0.8436\n"
          ]
        },
        {
          "output_type": "stream",
          "name": "stderr",
          "text": [
            "\r 35%|███▌      | 35/100 [02:47<03:56,  3.64s/it]"
          ]
        },
        {
          "output_type": "stream",
          "name": "stdout",
          "text": [
            "epoch: 34   train loss: 7.8008   test accuracy: 0.8557\n"
          ]
        },
        {
          "output_type": "stream",
          "name": "stderr",
          "text": [
            "\r 36%|███▌      | 36/100 [02:51<03:52,  3.63s/it]"
          ]
        },
        {
          "output_type": "stream",
          "name": "stdout",
          "text": [
            "epoch: 35   train loss: 7.5041   test accuracy: 0.8524\n"
          ]
        },
        {
          "output_type": "stream",
          "name": "stderr",
          "text": [
            "\r 37%|███▋      | 37/100 [02:55<03:49,  3.64s/it]"
          ]
        },
        {
          "output_type": "stream",
          "name": "stdout",
          "text": [
            "epoch: 36   train loss: 7.5027   test accuracy: 0.8590\n"
          ]
        },
        {
          "output_type": "stream",
          "name": "stderr",
          "text": [
            "\r 38%|███▊      | 38/100 [02:58<03:44,  3.63s/it]"
          ]
        },
        {
          "output_type": "stream",
          "name": "stdout",
          "text": [
            "epoch: 37   train loss: 7.3834   test accuracy: 0.8590\n"
          ]
        },
        {
          "output_type": "stream",
          "name": "stderr",
          "text": [
            "\r 39%|███▉      | 39/100 [03:02<03:40,  3.62s/it]"
          ]
        },
        {
          "output_type": "stream",
          "name": "stdout",
          "text": [
            "epoch: 38   train loss: 7.2829   test accuracy: 0.8557\n"
          ]
        },
        {
          "output_type": "stream",
          "name": "stderr",
          "text": [
            "\r 40%|████      | 40/100 [03:06<03:37,  3.63s/it]"
          ]
        },
        {
          "output_type": "stream",
          "name": "stdout",
          "text": [
            "epoch: 39   train loss: 7.1709   test accuracy: 0.8623\n"
          ]
        },
        {
          "output_type": "stream",
          "name": "stderr",
          "text": [
            "\r 41%|████      | 41/100 [03:09<03:34,  3.64s/it]"
          ]
        },
        {
          "output_type": "stream",
          "name": "stdout",
          "text": [
            "epoch: 40   train loss: 7.1072   test accuracy: 0.8656\n"
          ]
        },
        {
          "output_type": "stream",
          "name": "stderr",
          "text": [
            "\r 42%|████▏     | 42/100 [03:13<03:30,  3.63s/it]"
          ]
        },
        {
          "output_type": "stream",
          "name": "stdout",
          "text": [
            "epoch: 41   train loss: 6.9656   test accuracy: 0.8645\n"
          ]
        },
        {
          "output_type": "stream",
          "name": "stderr",
          "text": [
            "\r 43%|████▎     | 43/100 [03:16<03:26,  3.62s/it]"
          ]
        },
        {
          "output_type": "stream",
          "name": "stdout",
          "text": [
            "epoch: 42   train loss: 6.7606   test accuracy: 0.8656\n"
          ]
        },
        {
          "output_type": "stream",
          "name": "stderr",
          "text": [
            "\r 44%|████▍     | 44/100 [03:20<03:23,  3.63s/it]"
          ]
        },
        {
          "output_type": "stream",
          "name": "stdout",
          "text": [
            "epoch: 43   train loss: 6.6514   test accuracy: 0.8711\n"
          ]
        },
        {
          "output_type": "stream",
          "name": "stderr",
          "text": [
            "\r 45%|████▌     | 45/100 [03:24<03:19,  3.64s/it]"
          ]
        },
        {
          "output_type": "stream",
          "name": "stdout",
          "text": [
            "epoch: 44   train loss: 6.5387   test accuracy: 0.8722\n"
          ]
        },
        {
          "output_type": "stream",
          "name": "stderr",
          "text": [
            "\r 46%|████▌     | 46/100 [03:27<03:16,  3.64s/it]"
          ]
        },
        {
          "output_type": "stream",
          "name": "stdout",
          "text": [
            "epoch: 45   train loss: 6.5025   test accuracy: 0.8767\n"
          ]
        },
        {
          "output_type": "stream",
          "name": "stderr",
          "text": [
            "\r 47%|████▋     | 47/100 [03:31<03:12,  3.64s/it]"
          ]
        },
        {
          "output_type": "stream",
          "name": "stdout",
          "text": [
            "epoch: 46   train loss: 6.3392   test accuracy: 0.8899\n"
          ]
        },
        {
          "output_type": "stream",
          "name": "stderr",
          "text": [
            "\r 48%|████▊     | 48/100 [03:35<03:08,  3.63s/it]"
          ]
        },
        {
          "output_type": "stream",
          "name": "stdout",
          "text": [
            "epoch: 47   train loss: 6.2388   test accuracy: 0.8866\n"
          ]
        },
        {
          "output_type": "stream",
          "name": "stderr",
          "text": [
            "\r 49%|████▉     | 49/100 [03:38<03:04,  3.62s/it]"
          ]
        },
        {
          "output_type": "stream",
          "name": "stdout",
          "text": [
            "epoch: 48   train loss: 6.1644   test accuracy: 0.8899\n"
          ]
        },
        {
          "output_type": "stream",
          "name": "stderr",
          "text": [
            "\r 50%|█████     | 50/100 [03:42<03:01,  3.63s/it]"
          ]
        },
        {
          "output_type": "stream",
          "name": "stdout",
          "text": [
            "epoch: 49   train loss: 5.9337   test accuracy: 0.8921\n"
          ]
        },
        {
          "output_type": "stream",
          "name": "stderr",
          "text": [
            "\r 51%|█████     | 51/100 [03:46<02:58,  3.64s/it]"
          ]
        },
        {
          "output_type": "stream",
          "name": "stdout",
          "text": [
            "epoch: 50   train loss: 6.1303   test accuracy: 0.8932\n"
          ]
        },
        {
          "output_type": "stream",
          "name": "stderr",
          "text": [
            "\r 52%|█████▏    | 52/100 [03:49<02:54,  3.64s/it]"
          ]
        },
        {
          "output_type": "stream",
          "name": "stdout",
          "text": [
            "epoch: 51   train loss: 5.9446   test accuracy: 0.8943\n"
          ]
        },
        {
          "output_type": "stream",
          "name": "stderr",
          "text": [
            "\r 53%|█████▎    | 53/100 [03:53<02:51,  3.64s/it]"
          ]
        },
        {
          "output_type": "stream",
          "name": "stdout",
          "text": [
            "epoch: 52   train loss: 5.9032   test accuracy: 0.8998\n"
          ]
        },
        {
          "output_type": "stream",
          "name": "stderr",
          "text": [
            "\r 54%|█████▍    | 54/100 [03:56<02:47,  3.64s/it]"
          ]
        },
        {
          "output_type": "stream",
          "name": "stdout",
          "text": [
            "epoch: 53   train loss: 5.6913   test accuracy: 0.9031\n"
          ]
        },
        {
          "output_type": "stream",
          "name": "stderr",
          "text": [
            "\r 55%|█████▌    | 55/100 [04:00<02:43,  3.63s/it]"
          ]
        },
        {
          "output_type": "stream",
          "name": "stdout",
          "text": [
            "epoch: 54   train loss: 5.7310   test accuracy: 0.9031\n"
          ]
        },
        {
          "output_type": "stream",
          "name": "stderr",
          "text": [
            "\r 56%|█████▌    | 56/100 [04:04<02:39,  3.63s/it]"
          ]
        },
        {
          "output_type": "stream",
          "name": "stdout",
          "text": [
            "epoch: 55   train loss: 5.6203   test accuracy: 0.8987\n"
          ]
        },
        {
          "output_type": "stream",
          "name": "stderr",
          "text": [
            "\r 57%|█████▋    | 57/100 [04:07<02:35,  3.62s/it]"
          ]
        },
        {
          "output_type": "stream",
          "name": "stdout",
          "text": [
            "epoch: 56   train loss: 5.5686   test accuracy: 0.9020\n"
          ]
        },
        {
          "output_type": "stream",
          "name": "stderr",
          "text": [
            "\r 58%|█████▊    | 58/100 [04:11<02:31,  3.62s/it]"
          ]
        },
        {
          "output_type": "stream",
          "name": "stdout",
          "text": [
            "epoch: 57   train loss: 5.5046   test accuracy: 0.9020\n"
          ]
        },
        {
          "output_type": "stream",
          "name": "stderr",
          "text": [
            "\r 59%|█████▉    | 59/100 [04:15<02:28,  3.63s/it]"
          ]
        },
        {
          "output_type": "stream",
          "name": "stdout",
          "text": [
            "epoch: 58   train loss: 5.4373   test accuracy: 0.9097\n"
          ]
        },
        {
          "output_type": "stream",
          "name": "stderr",
          "text": [
            "\r 60%|██████    | 60/100 [04:18<02:24,  3.62s/it]"
          ]
        },
        {
          "output_type": "stream",
          "name": "stdout",
          "text": [
            "epoch: 59   train loss: 5.2220   test accuracy: 0.9086\n"
          ]
        },
        {
          "output_type": "stream",
          "name": "stderr",
          "text": [
            "\r 61%|██████    | 61/100 [04:22<02:21,  3.63s/it]"
          ]
        },
        {
          "output_type": "stream",
          "name": "stdout",
          "text": [
            "epoch: 60   train loss: 5.1707   test accuracy: 0.9141\n"
          ]
        },
        {
          "output_type": "stream",
          "name": "stderr",
          "text": [
            "\r 62%|██████▏   | 62/100 [04:25<02:17,  3.62s/it]"
          ]
        },
        {
          "output_type": "stream",
          "name": "stdout",
          "text": [
            "epoch: 61   train loss: 5.2229   test accuracy: 0.9097\n"
          ]
        },
        {
          "output_type": "stream",
          "name": "stderr",
          "text": [
            "\r 63%|██████▎   | 63/100 [04:29<02:14,  3.63s/it]"
          ]
        },
        {
          "output_type": "stream",
          "name": "stdout",
          "text": [
            "epoch: 62   train loss: 5.0137   test accuracy: 0.9152\n"
          ]
        },
        {
          "output_type": "stream",
          "name": "stderr",
          "text": [
            "\r 64%|██████▍   | 64/100 [04:33<02:10,  3.62s/it]"
          ]
        },
        {
          "output_type": "stream",
          "name": "stdout",
          "text": [
            "epoch: 63   train loss: 4.8964   test accuracy: 0.9130\n"
          ]
        },
        {
          "output_type": "stream",
          "name": "stderr",
          "text": [
            "\r 65%|██████▌   | 65/100 [04:36<02:06,  3.62s/it]"
          ]
        },
        {
          "output_type": "stream",
          "name": "stdout",
          "text": [
            "epoch: 64   train loss: 4.9842   test accuracy: 0.9152\n"
          ]
        },
        {
          "output_type": "stream",
          "name": "stderr",
          "text": [
            "\r 66%|██████▌   | 66/100 [04:40<02:03,  3.63s/it]"
          ]
        },
        {
          "output_type": "stream",
          "name": "stdout",
          "text": [
            "epoch: 65   train loss: 4.9830   test accuracy: 0.9174\n"
          ]
        },
        {
          "output_type": "stream",
          "name": "stderr",
          "text": [
            "\r 67%|██████▋   | 67/100 [04:44<01:59,  3.62s/it]"
          ]
        },
        {
          "output_type": "stream",
          "name": "stdout",
          "text": [
            "epoch: 66   train loss: 4.7692   test accuracy: 0.9163\n"
          ]
        },
        {
          "output_type": "stream",
          "name": "stderr",
          "text": [
            "\r 68%|██████▊   | 68/100 [04:47<01:56,  3.63s/it]"
          ]
        },
        {
          "output_type": "stream",
          "name": "stdout",
          "text": [
            "epoch: 67   train loss: 4.7279   test accuracy: 0.9196\n"
          ]
        },
        {
          "output_type": "stream",
          "name": "stderr",
          "text": [
            "\r 69%|██████▉   | 69/100 [04:51<01:52,  3.62s/it]"
          ]
        },
        {
          "output_type": "stream",
          "name": "stdout",
          "text": [
            "epoch: 68   train loss: 4.6779   test accuracy: 0.9196\n"
          ]
        },
        {
          "output_type": "stream",
          "name": "stderr",
          "text": [
            "\r 70%|███████   | 70/100 [04:54<01:48,  3.62s/it]"
          ]
        },
        {
          "output_type": "stream",
          "name": "stdout",
          "text": [
            "epoch: 69   train loss: 4.6422   test accuracy: 0.9174\n"
          ]
        },
        {
          "output_type": "stream",
          "name": "stderr",
          "text": [
            "\r 71%|███████   | 71/100 [04:58<01:44,  3.62s/it]"
          ]
        },
        {
          "output_type": "stream",
          "name": "stdout",
          "text": [
            "epoch: 70   train loss: 4.5901   test accuracy: 0.9185\n"
          ]
        },
        {
          "output_type": "stream",
          "name": "stderr",
          "text": [
            "\r 72%|███████▏  | 72/100 [05:02<01:41,  3.63s/it]"
          ]
        },
        {
          "output_type": "stream",
          "name": "stdout",
          "text": [
            "epoch: 71   train loss: 4.6219   test accuracy: 0.9218\n"
          ]
        },
        {
          "output_type": "stream",
          "name": "stderr",
          "text": [
            "\r 73%|███████▎  | 73/100 [05:05<01:38,  3.63s/it]"
          ]
        },
        {
          "output_type": "stream",
          "name": "stdout",
          "text": [
            "epoch: 72   train loss: 4.4664   test accuracy: 0.9229\n"
          ]
        },
        {
          "output_type": "stream",
          "name": "stderr",
          "text": [
            "\r 74%|███████▍  | 74/100 [05:09<01:34,  3.62s/it]"
          ]
        },
        {
          "output_type": "stream",
          "name": "stdout",
          "text": [
            "epoch: 73   train loss: 4.4033   test accuracy: 0.9229\n"
          ]
        },
        {
          "output_type": "stream",
          "name": "stderr",
          "text": [
            "\r 75%|███████▌  | 75/100 [05:13<01:30,  3.62s/it]"
          ]
        },
        {
          "output_type": "stream",
          "name": "stdout",
          "text": [
            "epoch: 74   train loss: 4.4341   test accuracy: 0.9196\n"
          ]
        },
        {
          "output_type": "stream",
          "name": "stderr",
          "text": [
            "\r 76%|███████▌  | 76/100 [05:16<01:27,  3.63s/it]"
          ]
        },
        {
          "output_type": "stream",
          "name": "stdout",
          "text": [
            "epoch: 75   train loss: 4.3292   test accuracy: 0.9251\n"
          ]
        },
        {
          "output_type": "stream",
          "name": "stderr",
          "text": [
            "\r 77%|███████▋  | 77/100 [05:20<01:23,  3.62s/it]"
          ]
        },
        {
          "output_type": "stream",
          "name": "stdout",
          "text": [
            "epoch: 76   train loss: 4.2585   test accuracy: 0.9251\n"
          ]
        },
        {
          "output_type": "stream",
          "name": "stderr",
          "text": [
            "\r 78%|███████▊  | 78/100 [05:23<01:19,  3.63s/it]"
          ]
        },
        {
          "output_type": "stream",
          "name": "stdout",
          "text": [
            "epoch: 77   train loss: 4.2372   test accuracy: 0.9262\n"
          ]
        },
        {
          "output_type": "stream",
          "name": "stderr",
          "text": [
            "\r 79%|███████▉  | 79/100 [05:27<01:16,  3.62s/it]"
          ]
        },
        {
          "output_type": "stream",
          "name": "stdout",
          "text": [
            "epoch: 78   train loss: 4.2086   test accuracy: 0.9262\n"
          ]
        },
        {
          "output_type": "stream",
          "name": "stderr",
          "text": [
            "\r 80%|████████  | 80/100 [05:31<01:12,  3.62s/it]"
          ]
        },
        {
          "output_type": "stream",
          "name": "stdout",
          "text": [
            "epoch: 79   train loss: 4.1705   test accuracy: 0.9262\n"
          ]
        },
        {
          "output_type": "stream",
          "name": "stderr",
          "text": [
            "\r 81%|████████  | 81/100 [05:34<01:08,  3.63s/it]"
          ]
        },
        {
          "output_type": "stream",
          "name": "stdout",
          "text": [
            "epoch: 80   train loss: 4.0328   test accuracy: 0.9273\n"
          ]
        },
        {
          "output_type": "stream",
          "name": "stderr",
          "text": [
            "\r 82%|████████▏ | 82/100 [05:38<01:05,  3.62s/it]"
          ]
        },
        {
          "output_type": "stream",
          "name": "stdout",
          "text": [
            "epoch: 81   train loss: 4.0231   test accuracy: 0.9273\n"
          ]
        },
        {
          "output_type": "stream",
          "name": "stderr",
          "text": [
            "\r 83%|████████▎ | 83/100 [05:41<01:01,  3.62s/it]"
          ]
        },
        {
          "output_type": "stream",
          "name": "stdout",
          "text": [
            "epoch: 82   train loss: 3.9933   test accuracy: 0.9273\n"
          ]
        },
        {
          "output_type": "stream",
          "name": "stderr",
          "text": [
            "\r 84%|████████▍ | 84/100 [05:45<00:58,  3.63s/it]"
          ]
        },
        {
          "output_type": "stream",
          "name": "stdout",
          "text": [
            "epoch: 83   train loss: 3.8702   test accuracy: 0.9284\n"
          ]
        },
        {
          "output_type": "stream",
          "name": "stderr",
          "text": [
            "\r 85%|████████▌ | 85/100 [05:49<00:54,  3.62s/it]"
          ]
        },
        {
          "output_type": "stream",
          "name": "stdout",
          "text": [
            "epoch: 84   train loss: 3.8731   test accuracy: 0.9273\n"
          ]
        },
        {
          "output_type": "stream",
          "name": "stderr",
          "text": [
            "\r 86%|████████▌ | 86/100 [05:52<00:50,  3.62s/it]"
          ]
        },
        {
          "output_type": "stream",
          "name": "stdout",
          "text": [
            "epoch: 85   train loss: 3.8453   test accuracy: 0.9273\n"
          ]
        },
        {
          "output_type": "stream",
          "name": "stderr",
          "text": [
            "\r 87%|████████▋ | 87/100 [05:56<00:46,  3.61s/it]"
          ]
        },
        {
          "output_type": "stream",
          "name": "stdout",
          "text": [
            "epoch: 86   train loss: 3.8328   test accuracy: 0.9284\n"
          ]
        },
        {
          "output_type": "stream",
          "name": "stderr",
          "text": [
            "\r 88%|████████▊ | 88/100 [06:00<00:43,  3.61s/it]"
          ]
        },
        {
          "output_type": "stream",
          "name": "stdout",
          "text": [
            "epoch: 87   train loss: 3.8204   test accuracy: 0.9273\n"
          ]
        },
        {
          "output_type": "stream",
          "name": "stderr",
          "text": [
            "\r 89%|████████▉ | 89/100 [06:03<00:39,  3.61s/it]"
          ]
        },
        {
          "output_type": "stream",
          "name": "stdout",
          "text": [
            "epoch: 88   train loss: 3.8336   test accuracy: 0.9273\n"
          ]
        },
        {
          "output_type": "stream",
          "name": "stderr",
          "text": [
            "\r 90%|█████████ | 90/100 [06:07<00:36,  3.62s/it]"
          ]
        },
        {
          "output_type": "stream",
          "name": "stdout",
          "text": [
            "epoch: 89   train loss: 3.6778   test accuracy: 0.9295\n"
          ]
        },
        {
          "output_type": "stream",
          "name": "stderr",
          "text": [
            "\r 91%|█████████ | 91/100 [06:10<00:32,  3.62s/it]"
          ]
        },
        {
          "output_type": "stream",
          "name": "stdout",
          "text": [
            "epoch: 90   train loss: 3.6869   test accuracy: 0.9273\n"
          ]
        },
        {
          "output_type": "stream",
          "name": "stderr",
          "text": [
            "\r 92%|█████████▏| 92/100 [06:14<00:28,  3.62s/it]"
          ]
        },
        {
          "output_type": "stream",
          "name": "stdout",
          "text": [
            "epoch: 91   train loss: 3.5690   test accuracy: 0.9262\n"
          ]
        },
        {
          "output_type": "stream",
          "name": "stderr",
          "text": [
            "\r 93%|█████████▎| 93/100 [06:18<00:25,  3.61s/it]"
          ]
        },
        {
          "output_type": "stream",
          "name": "stdout",
          "text": [
            "epoch: 92   train loss: 3.7237   test accuracy: 0.9284\n"
          ]
        },
        {
          "output_type": "stream",
          "name": "stderr",
          "text": [
            "\r 94%|█████████▍| 94/100 [06:21<00:21,  3.61s/it]"
          ]
        },
        {
          "output_type": "stream",
          "name": "stdout",
          "text": [
            "epoch: 93   train loss: 3.5358   test accuracy: 0.9273\n"
          ]
        },
        {
          "output_type": "stream",
          "name": "stderr",
          "text": [
            "\r 95%|█████████▌| 95/100 [06:25<00:18,  3.61s/it]"
          ]
        },
        {
          "output_type": "stream",
          "name": "stdout",
          "text": [
            "epoch: 94   train loss: 3.5382   test accuracy: 0.9273\n"
          ]
        },
        {
          "output_type": "stream",
          "name": "stderr",
          "text": [
            "\r 96%|█████████▌| 96/100 [06:28<00:14,  3.61s/it]"
          ]
        },
        {
          "output_type": "stream",
          "name": "stdout",
          "text": [
            "epoch: 95   train loss: 3.4789   test accuracy: 0.9262\n"
          ]
        },
        {
          "output_type": "stream",
          "name": "stderr",
          "text": [
            "\r 97%|█████████▋| 97/100 [06:32<00:10,  3.61s/it]"
          ]
        },
        {
          "output_type": "stream",
          "name": "stdout",
          "text": [
            "epoch: 96   train loss: 3.5176   test accuracy: 0.9284\n"
          ]
        },
        {
          "output_type": "stream",
          "name": "stderr",
          "text": [
            "\r 98%|█████████▊| 98/100 [06:36<00:07,  3.61s/it]"
          ]
        },
        {
          "output_type": "stream",
          "name": "stdout",
          "text": [
            "epoch: 97   train loss: 3.3564   test accuracy: 0.9284\n"
          ]
        },
        {
          "output_type": "stream",
          "name": "stderr",
          "text": [
            "\r 99%|█████████▉| 99/100 [06:39<00:03,  3.61s/it]"
          ]
        },
        {
          "output_type": "stream",
          "name": "stdout",
          "text": [
            "epoch: 98   train loss: 3.4125   test accuracy: 0.9284\n"
          ]
        },
        {
          "output_type": "stream",
          "name": "stderr",
          "text": [
            "100%|██████████| 100/100 [06:43<00:00,  4.03s/it]"
          ]
        },
        {
          "output_type": "stream",
          "name": "stdout",
          "text": [
            "epoch: 99   train loss: 3.4519   test accuracy: 0.9273\n"
          ]
        },
        {
          "output_type": "stream",
          "name": "stderr",
          "text": [
            "\n"
          ]
        },
        {
          "output_type": "display_data",
          "data": {
            "text/plain": [
              "<Figure size 640x480 with 1 Axes>"
            ],
            "image/png": "[encoded data removed]"
          },
          "metadata": {}
        },
        {
          "output_type": "display_data",
          "data": {
            "text/plain": [
              "<Figure size 640x480 with 1 Axes>"
            ],
            "image/png": "[encoded data removed]"
          },
          "metadata": {}
        }
      ]
    },
    {
      "cell_type": "markdown",
      "source": [
        "## Segmentation"
      ],
      "metadata": {
        "id": "Rc8BbXAl0csD"
      }
    },
    {
      "cell_type": "code",
      "source": [
        "class OAPCTransSeg(nn.Module):\n",
        "    def __init__(self,in_channel=3,out_channel=6,points_num=1024,task='classification',version='naive'):\n",
        "        super(OAPCTransSeg,self).__init__()\n",
        "        self.in_channel = in_channel\n",
        "        self.out_channel = out_channel\n",
        "        self.task = task\n",
        "\n",
        "        self.embed = Embedding(in_channel)\n",
        "        #self.sg = SampleGroup(in_channel)\n",
        "        self.sa1 = OffSetAttention(128)#SelfAttention(128)\n",
        "        self.sa2 = OffSetAttention(128)#SelfAttention(128)\n",
        "        self.sa3 = OffSetAttention(128)#SelfAttention(128)\n",
        "        self.sa4 = OffSetAttention(128)#SelfAttention(128)\n",
        "\n",
        "        self.lbr1 = nn.Sequential(\n",
        "                    nn.Conv1d(in_channels=512,out_channels=1024,kernel_size=1),\n",
        "                    nn.BatchNorm1d(1024),\n",
        "                    nn.ReLU()\n",
        "                )\n",
        "\n",
        "        #self.m = nn.MaxPool1d(1024,1)\n",
        "        #self.avg = nn.MaxPool1d(1024,1)\n",
        "        # for classification\n",
        "        self.lbrd1 = nn.Sequential(\n",
        "                    nn.Conv1d(in_channels=2048,out_channels=256,kernel_size=1),\n",
        "                    nn.BatchNorm1d(256),\n",
        "                    nn.ReLU(),\n",
        "                    nn.Dropout()\n",
        "                )\n",
        "\n",
        "        self.lbrd2 = nn.Sequential(\n",
        "                    nn.Conv1d(in_channels=256,out_channels=256,kernel_size=1),\n",
        "                    nn.BatchNorm1d(256),\n",
        "                    nn.ReLU(),\n",
        "                    nn.Dropout()\n",
        "                )\n",
        "\n",
        "        self.l1 = nn.Conv1d(in_channels=256,out_channels=out_channel,kernel_size=1)\n",
        "\n",
        "        # for segmentation\n",
        "        self.lbrd3 = nn.Sequential(\n",
        "                    nn.Conv1d(in_channels=3072,out_channels=256,kernel_size=1),\n",
        "                    nn.BatchNorm1d(256),\n",
        "                    nn.ReLU(),\n",
        "                    nn.Dropout()\n",
        "                    )\n",
        "\n",
        "        self.lbrd4 = nn.Sequential(\n",
        "                    nn.Conv1d(in_channels=3136,out_channels=512,kernel_size=1),\n",
        "                    nn.BatchNorm1d(512),\n",
        "                    nn.ReLU(),\n",
        "                    nn.Dropout()\n",
        "                )\n",
        "        self.lbr2 = nn.Sequential(\n",
        "                    nn.Conv1d(in_channels=512,out_channels=256,kernel_size=1),\n",
        "                    nn.BatchNorm1d(256),\n",
        "                    nn.ReLU()\n",
        "                )\n",
        "        self.Conv1 = nn.Conv1d(256,self.out_channel,1)\n",
        "\n",
        "        self.label_lbr = nn.Sequential(\n",
        "                    nn.Conv1d(in_channels=1,out_channels=64,kernel_size=1),\n",
        "                    nn.BatchNorm1d(64),\n",
        "                    nn.ReLU(),\n",
        "                    )\n",
        "\n",
        "\n",
        "    def forward(self,x,labels):\n",
        "          B,C,N = x.size()\n",
        "          x0 = self.embed(x)\n",
        "          x1 = self.sa1(x0)\n",
        "          x2 = self.sa2(x1)\n",
        "          x3 = self.sa3(x2)\n",
        "          x4 = self.sa4(x3)\n",
        "          x5 = torch.concatenate((x1,x2,x3,x4),1)\n",
        "          x6 = self.lbr1(x5)#point feature\n",
        "          #print(x6.shape)\n",
        "\n",
        "          x_max = torch.max(x6,dim=-1)[0]\n",
        "          x_mean = torch.mean(x6,dim=-1)\n",
        "          x_max_features = x_max.unsqueeze(-1).repeat(1,1,N)\n",
        "          x_mean_features = x_mean.unsqueeze(-1).repeat(1,1,N)\n",
        "          labels_features = self.label_lbr(labels.view(B,1,N))\n",
        "          x7 = torch.cat([x6,x_max_features,x_mean_features,labels_features],1)\n",
        "          #print(x7.shape)\n",
        "          x8 = self.lbrd4(x7)\n",
        "          x9 = self.lbr2(x8)\n",
        "          x10 = self.Conv1(x9)\n",
        "          return x10\n"
      ],
      "metadata": {
        "id": "7uaAGYj60bLi"
      },
      "execution_count": null,
      "outputs": []
    },
    {
      "cell_type": "code",
      "source": [
        "losses = []\n",
        "accuracy = []\n",
        "def main():\n",
        "    NUM_CLASSES = 6\n",
        "    NUM_FEATURES = 3\n",
        "    NUM_TRAIN_POINTS = 1024\n",
        "\n",
        "    TASK = 'segmentation'\n",
        "    model_save_path = os.path.join(os. getcwd(), 'drive/MyDrive/ROB498/model/best_segmentation_model10_OA_normal.pt')\n",
        "    learning_rate = 0.001\n",
        "    Batch_size = 32\n",
        "    num_epochs = 50\n",
        "    if TASK=='classification':\n",
        "      model = OAPCTransCls(NUM_FEATURES,NUM_CLASSES,NUM_TRAIN_POINTS,TASK)\n",
        "    else:\n",
        "      model= OAPCTransSeg(NUM_FEATURES,NUM_CLASSES,NUM_TRAIN_POINTS,TASK)\n",
        "    device = torch.device(\"cuda\" if torch.cuda.is_available() else 'cpu')\n",
        "    #opt = optim.Adam(model.parameters(),learning_rate)\n",
        "    opt = optim.SGD(model.parameters(),learning_rate,momentum=0.5)\n",
        "    #path = os.path.join(os.getcwd(),'drive/MyDrive/ROB498/modelnet10_normal_resampled/')\n",
        "    path = '/content/data/seg/'\n",
        "    train_dataloader = get_data_loader(path,Batch_size, True)\n",
        "    test_dataloader = get_data_loader(path,Batch_size, False)\n",
        "\n",
        "    model = model.to(device)\n",
        "\n",
        "    best_accuracy = -1\n",
        "    for epoch in tqdm(range(num_epochs)):\n",
        "        train_epoch_loss = train(train_dataloader,model,opt,epoch,device,TASK)\n",
        "        test_accuracy = test(test_dataloader,model,epoch,device,TASK)\n",
        "        #print(train_epoch_loss)\n",
        "        losses.append(train_epoch_loss.item())\n",
        "        accuracy.append(test_accuracy)\n",
        "        print (\"epoch: {}   train loss: {:.4f}   test accuracy: {:.4f}\".format(epoch, train_epoch_loss, test_accuracy))\n",
        "        if test_accuracy>best_accuracy:\n",
        "           best_accuracy = test_accuracy\n",
        "           torch.save(model.state_dict(),model_save_path)\n",
        "    epoches = range(len(losses))\n",
        "    plt.plot(epoches,losses,label='loss')\n",
        "    plt.legend()\n",
        "    plt.show()\n",
        "\n",
        "    plt.plot(epoches,accuracy,label='accuracy')\n",
        "    plt.legend()\n",
        "    plt.show()"
      ],
      "metadata": {
        "id": "3Ad2iQvoIrnA"
      },
      "execution_count": null,
      "outputs": []
    },
    {
      "cell_type": "code",
      "source": [
        "main()"
      ],
      "metadata": {
        "colab": {
          "base_uri": "https://localhost:8080/",
          "height": 1000
        },
        "id": "jGRzXYmLIssf",
        "outputId": "206fb38b-3f71-4e13-cee3-dfd3b4356f88"
      },
      "execution_count": null,
      "outputs": [
        {
          "output_type": "stream",
          "name": "stderr",
          "text": [
            "\r  0%|          | 0/50 [00:00<?, ?it/s]"
          ]
        },
        {
          "output_type": "stream",
          "name": "stdout",
          "text": [
            "epoch: 0   train loss: 124.2784   test accuracy: 0.8788\n"
          ]
        },
        {
          "output_type": "stream",
          "name": "stderr",
          "text": [
            "  4%|▍         | 2/50 [00:18<06:52,  8.60s/it]"
          ]
        },
        {
          "output_type": "stream",
          "name": "stdout",
          "text": [
            "epoch: 1   train loss: 62.7476   test accuracy: 0.9195\n"
          ]
        },
        {
          "output_type": "stream",
          "name": "stderr",
          "text": [
            "\r  6%|▌         | 3/50 [00:24<05:44,  7.32s/it]"
          ]
        },
        {
          "output_type": "stream",
          "name": "stdout",
          "text": [
            "epoch: 2   train loss: 44.2246   test accuracy: 0.9461\n"
          ]
        },
        {
          "output_type": "stream",
          "name": "stderr",
          "text": [
            "\r  8%|▊         | 4/50 [00:29<05:09,  6.72s/it]"
          ]
        },
        {
          "output_type": "stream",
          "name": "stdout",
          "text": [
            "epoch: 3   train loss: 33.9228   test accuracy: 0.9612\n"
          ]
        },
        {
          "output_type": "stream",
          "name": "stderr",
          "text": [
            "\r 10%|█         | 5/50 [00:35<04:48,  6.40s/it]"
          ]
        },
        {
          "output_type": "stream",
          "name": "stdout",
          "text": [
            "epoch: 4   train loss: 27.2253   test accuracy: 0.9712\n"
          ]
        },
        {
          "output_type": "stream",
          "name": "stderr",
          "text": [
            "\r 12%|█▏        | 6/50 [00:41<04:32,  6.20s/it]"
          ]
        },
        {
          "output_type": "stream",
          "name": "stdout",
          "text": [
            "epoch: 5   train loss: 22.8416   test accuracy: 0.9774\n"
          ]
        },
        {
          "output_type": "stream",
          "name": "stderr",
          "text": [
            "\r 14%|█▍        | 7/50 [00:47<04:21,  6.08s/it]"
          ]
        },
        {
          "output_type": "stream",
          "name": "stdout",
          "text": [
            "epoch: 6   train loss: 19.7656   test accuracy: 0.9815\n"
          ]
        },
        {
          "output_type": "stream",
          "name": "stderr",
          "text": [
            "\r 16%|█▌        | 8/50 [00:53<04:11,  5.99s/it]"
          ]
        },
        {
          "output_type": "stream",
          "name": "stdout",
          "text": [
            "epoch: 7   train loss: 17.3627   test accuracy: 0.9837\n"
          ]
        },
        {
          "output_type": "stream",
          "name": "stderr",
          "text": [
            "\r 18%|█▊        | 9/50 [00:59<04:03,  5.94s/it]"
          ]
        },
        {
          "output_type": "stream",
          "name": "stdout",
          "text": [
            "epoch: 8   train loss: 15.6750   test accuracy: 0.9859\n"
          ]
        },
        {
          "output_type": "stream",
          "name": "stderr",
          "text": [
            "\r 20%|██        | 10/50 [01:04<03:56,  5.90s/it]"
          ]
        },
        {
          "output_type": "stream",
          "name": "stdout",
          "text": [
            "epoch: 9   train loss: 14.2267   test accuracy: 0.9878\n"
          ]
        },
        {
          "output_type": "stream",
          "name": "stderr",
          "text": [
            "\r 22%|██▏       | 11/50 [01:10<03:49,  5.88s/it]"
          ]
        },
        {
          "output_type": "stream",
          "name": "stdout",
          "text": [
            "epoch: 10   train loss: 13.0145   test accuracy: 0.9888\n"
          ]
        },
        {
          "output_type": "stream",
          "name": "stderr",
          "text": [
            "\r 24%|██▍       | 12/50 [01:16<03:42,  5.87s/it]"
          ]
        },
        {
          "output_type": "stream",
          "name": "stdout",
          "text": [
            "epoch: 11   train loss: 11.9736   test accuracy: 0.9902\n"
          ]
        },
        {
          "output_type": "stream",
          "name": "stderr",
          "text": [
            "\r 26%|██▌       | 13/50 [01:22<03:36,  5.86s/it]"
          ]
        },
        {
          "output_type": "stream",
          "name": "stdout",
          "text": [
            "epoch: 12   train loss: 11.1319   test accuracy: 0.9911\n"
          ]
        },
        {
          "output_type": "stream",
          "name": "stderr",
          "text": [
            "\r 28%|██▊       | 14/50 [01:28<03:30,  5.85s/it]"
          ]
        },
        {
          "output_type": "stream",
          "name": "stdout",
          "text": [
            "epoch: 13   train loss: 10.3810   test accuracy: 0.9920\n"
          ]
        },
        {
          "output_type": "stream",
          "name": "stderr",
          "text": [
            "\r 30%|███       | 15/50 [01:34<03:24,  5.85s/it]"
          ]
        },
        {
          "output_type": "stream",
          "name": "stdout",
          "text": [
            "epoch: 14   train loss: 9.7567   test accuracy: 0.9924\n"
          ]
        },
        {
          "output_type": "stream",
          "name": "stderr",
          "text": [
            "\r 32%|███▏      | 16/50 [01:39<03:18,  5.84s/it]"
          ]
        },
        {
          "output_type": "stream",
          "name": "stdout",
          "text": [
            "epoch: 15   train loss: 9.2676   test accuracy: 0.9931\n"
          ]
        },
        {
          "output_type": "stream",
          "name": "stderr",
          "text": [
            "\r 34%|███▍      | 17/50 [01:45<03:12,  5.84s/it]"
          ]
        },
        {
          "output_type": "stream",
          "name": "stdout",
          "text": [
            "epoch: 16   train loss: 8.7620   test accuracy: 0.9936\n"
          ]
        },
        {
          "output_type": "stream",
          "name": "stderr",
          "text": [
            "\r 36%|███▌      | 18/50 [01:51<03:06,  5.83s/it]"
          ]
        },
        {
          "output_type": "stream",
          "name": "stdout",
          "text": [
            "epoch: 17   train loss: 8.2225   test accuracy: 0.9939\n"
          ]
        },
        {
          "output_type": "stream",
          "name": "stderr",
          "text": [
            "\r 38%|███▊      | 19/50 [01:57<03:01,  5.84s/it]"
          ]
        },
        {
          "output_type": "stream",
          "name": "stdout",
          "text": [
            "epoch: 18   train loss: 7.8039   test accuracy: 0.9942\n"
          ]
        },
        {
          "output_type": "stream",
          "name": "stderr",
          "text": [
            "\r 40%|████      | 20/50 [02:03<02:55,  5.84s/it]"
          ]
        },
        {
          "output_type": "stream",
          "name": "stdout",
          "text": [
            "epoch: 19   train loss: 7.4829   test accuracy: 0.9947\n"
          ]
        },
        {
          "output_type": "stream",
          "name": "stderr",
          "text": [
            "\r 42%|████▏     | 21/50 [02:09<02:49,  5.85s/it]"
          ]
        },
        {
          "output_type": "stream",
          "name": "stdout",
          "text": [
            "epoch: 20   train loss: 7.1730   test accuracy: 0.9950\n"
          ]
        },
        {
          "output_type": "stream",
          "name": "stderr",
          "text": [
            "\r 44%|████▍     | 22/50 [02:14<02:43,  5.85s/it]"
          ]
        },
        {
          "output_type": "stream",
          "name": "stdout",
          "text": [
            "epoch: 21   train loss: 6.8718   test accuracy: 0.9951\n"
          ]
        },
        {
          "output_type": "stream",
          "name": "stderr",
          "text": [
            "\r 46%|████▌     | 23/50 [02:20<02:37,  5.84s/it]"
          ]
        },
        {
          "output_type": "stream",
          "name": "stdout",
          "text": [
            "epoch: 22   train loss: 6.5958   test accuracy: 0.9954\n"
          ]
        },
        {
          "output_type": "stream",
          "name": "stderr",
          "text": [
            "\r 48%|████▊     | 24/50 [02:26<02:31,  5.84s/it]"
          ]
        },
        {
          "output_type": "stream",
          "name": "stdout",
          "text": [
            "epoch: 23   train loss: 6.3179   test accuracy: 0.9956\n"
          ]
        },
        {
          "output_type": "stream",
          "name": "stderr",
          "text": [
            "\r 50%|█████     | 25/50 [02:32<02:25,  5.84s/it]"
          ]
        },
        {
          "output_type": "stream",
          "name": "stdout",
          "text": [
            "epoch: 24   train loss: 6.0921   test accuracy: 0.9957\n"
          ]
        },
        {
          "output_type": "stream",
          "name": "stderr",
          "text": [
            "\r 52%|█████▏    | 26/50 [02:38<02:20,  5.85s/it]"
          ]
        },
        {
          "output_type": "stream",
          "name": "stdout",
          "text": [
            "epoch: 25   train loss: 5.8556   test accuracy: 0.9959\n"
          ]
        },
        {
          "output_type": "stream",
          "name": "stderr",
          "text": [
            "\r 54%|█████▍    | 27/50 [02:44<02:14,  5.85s/it]"
          ]
        },
        {
          "output_type": "stream",
          "name": "stdout",
          "text": [
            "epoch: 26   train loss: 5.9720   test accuracy: 0.9960\n"
          ]
        },
        {
          "output_type": "stream",
          "name": "stderr",
          "text": [
            "\r 56%|█████▌    | 28/50 [02:50<02:08,  5.85s/it]"
          ]
        },
        {
          "output_type": "stream",
          "name": "stdout",
          "text": [
            "epoch: 27   train loss: 5.4515   test accuracy: 0.9961\n"
          ]
        },
        {
          "output_type": "stream",
          "name": "stderr",
          "text": [
            "\r 58%|█████▊    | 29/50 [02:55<02:02,  5.85s/it]"
          ]
        },
        {
          "output_type": "stream",
          "name": "stdout",
          "text": [
            "epoch: 28   train loss: 5.3130   test accuracy: 0.9962\n"
          ]
        },
        {
          "output_type": "stream",
          "name": "stderr",
          "text": [
            "\r 60%|██████    | 30/50 [03:01<01:56,  5.84s/it]"
          ]
        },
        {
          "output_type": "stream",
          "name": "stdout",
          "text": [
            "epoch: 29   train loss: 5.1734   test accuracy: 0.9963\n"
          ]
        },
        {
          "output_type": "stream",
          "name": "stderr",
          "text": [
            "\r 62%|██████▏   | 31/50 [03:07<01:51,  5.84s/it]"
          ]
        },
        {
          "output_type": "stream",
          "name": "stdout",
          "text": [
            "epoch: 30   train loss: 4.9381   test accuracy: 0.9965\n"
          ]
        },
        {
          "output_type": "stream",
          "name": "stderr",
          "text": [
            "\r 64%|██████▍   | 32/50 [03:13<01:44,  5.83s/it]"
          ]
        },
        {
          "output_type": "stream",
          "name": "stdout",
          "text": [
            "epoch: 31   train loss: 4.8641   test accuracy: 0.9965\n"
          ]
        },
        {
          "output_type": "stream",
          "name": "stderr",
          "text": [
            "\r 66%|██████▌   | 33/50 [03:19<01:39,  5.83s/it]"
          ]
        },
        {
          "output_type": "stream",
          "name": "stdout",
          "text": [
            "epoch: 32   train loss: 4.7143   test accuracy: 0.9966\n"
          ]
        },
        {
          "output_type": "stream",
          "name": "stderr",
          "text": [
            "\r 68%|██████▊   | 34/50 [03:25<01:33,  5.84s/it]"
          ]
        },
        {
          "output_type": "stream",
          "name": "stdout",
          "text": [
            "epoch: 33   train loss: 4.5621   test accuracy: 0.9967\n"
          ]
        },
        {
          "output_type": "stream",
          "name": "stderr",
          "text": [
            "\r 70%|███████   | 35/50 [03:30<01:27,  5.84s/it]"
          ]
        },
        {
          "output_type": "stream",
          "name": "stdout",
          "text": [
            "epoch: 34   train loss: 4.4439   test accuracy: 0.9968\n"
          ]
        },
        {
          "output_type": "stream",
          "name": "stderr",
          "text": [
            "\r 72%|███████▏  | 36/50 [03:36<01:21,  5.85s/it]"
          ]
        },
        {
          "output_type": "stream",
          "name": "stdout",
          "text": [
            "epoch: 35   train loss: 4.2361   test accuracy: 0.9968\n"
          ]
        },
        {
          "output_type": "stream",
          "name": "stderr",
          "text": [
            "\r 74%|███████▍  | 37/50 [03:42<01:15,  5.84s/it]"
          ]
        },
        {
          "output_type": "stream",
          "name": "stdout",
          "text": [
            "epoch: 36   train loss: 4.1955   test accuracy: 0.9969\n"
          ]
        },
        {
          "output_type": "stream",
          "name": "stderr",
          "text": [
            "\r 76%|███████▌  | 38/50 [03:48<01:10,  5.84s/it]"
          ]
        },
        {
          "output_type": "stream",
          "name": "stdout",
          "text": [
            "epoch: 37   train loss: 4.0562   test accuracy: 0.9970\n"
          ]
        },
        {
          "output_type": "stream",
          "name": "stderr",
          "text": [
            "\r 78%|███████▊  | 39/50 [03:54<01:04,  5.84s/it]"
          ]
        },
        {
          "output_type": "stream",
          "name": "stdout",
          "text": [
            "epoch: 38   train loss: 3.9464   test accuracy: 0.9970\n"
          ]
        },
        {
          "output_type": "stream",
          "name": "stderr",
          "text": [
            "\r 80%|████████  | 40/50 [04:00<00:58,  5.83s/it]"
          ]
        },
        {
          "output_type": "stream",
          "name": "stdout",
          "text": [
            "epoch: 39   train loss: 3.8442   test accuracy: 0.9970\n"
          ]
        },
        {
          "output_type": "stream",
          "name": "stderr",
          "text": [
            "\r 82%|████████▏ | 41/50 [04:05<00:52,  5.84s/it]"
          ]
        },
        {
          "output_type": "stream",
          "name": "stdout",
          "text": [
            "epoch: 40   train loss: 3.7881   test accuracy: 0.9972\n"
          ]
        },
        {
          "output_type": "stream",
          "name": "stderr",
          "text": [
            "\r 84%|████████▍ | 42/50 [04:11<00:46,  5.84s/it]"
          ]
        },
        {
          "output_type": "stream",
          "name": "stdout",
          "text": [
            "epoch: 41   train loss: 3.6494   test accuracy: 0.9972\n"
          ]
        },
        {
          "output_type": "stream",
          "name": "stderr",
          "text": [
            "\r 86%|████████▌ | 43/50 [04:17<00:40,  5.85s/it]"
          ]
        },
        {
          "output_type": "stream",
          "name": "stdout",
          "text": [
            "epoch: 42   train loss: 3.6073   test accuracy: 0.9973\n"
          ]
        },
        {
          "output_type": "stream",
          "name": "stderr",
          "text": [
            "\r 88%|████████▊ | 44/50 [04:23<00:35,  5.84s/it]"
          ]
        },
        {
          "output_type": "stream",
          "name": "stdout",
          "text": [
            "epoch: 43   train loss: 3.5194   test accuracy: 0.9973\n"
          ]
        },
        {
          "output_type": "stream",
          "name": "stderr",
          "text": [
            "\r 90%|█████████ | 45/50 [04:29<00:29,  5.85s/it]"
          ]
        },
        {
          "output_type": "stream",
          "name": "stdout",
          "text": [
            "epoch: 44   train loss: 3.3886   test accuracy: 0.9974\n"
          ]
        },
        {
          "output_type": "stream",
          "name": "stderr",
          "text": [
            "\r 92%|█████████▏| 46/50 [04:35<00:23,  5.82s/it]"
          ]
        },
        {
          "output_type": "stream",
          "name": "stdout",
          "text": [
            "epoch: 45   train loss: 3.3163   test accuracy: 0.9974\n"
          ]
        },
        {
          "output_type": "stream",
          "name": "stderr",
          "text": [
            "\r 94%|█████████▍| 47/50 [04:40<00:17,  5.83s/it]"
          ]
        },
        {
          "output_type": "stream",
          "name": "stdout",
          "text": [
            "epoch: 46   train loss: 3.3834   test accuracy: 0.9974\n"
          ]
        },
        {
          "output_type": "stream",
          "name": "stderr",
          "text": [
            "\r 96%|█████████▌| 48/50 [04:46<00:11,  5.83s/it]"
          ]
        },
        {
          "output_type": "stream",
          "name": "stdout",
          "text": [
            "epoch: 47   train loss: 3.2194   test accuracy: 0.9975\n"
          ]
        },
        {
          "output_type": "stream",
          "name": "stderr",
          "text": [
            "\r 98%|█████████▊| 49/50 [04:52<00:05,  5.82s/it]"
          ]
        },
        {
          "output_type": "stream",
          "name": "stdout",
          "text": [
            "epoch: 48   train loss: 3.1048   test accuracy: 0.9975\n"
          ]
        },
        {
          "output_type": "stream",
          "name": "stderr",
          "text": [
            "100%|██████████| 50/50 [04:58<00:00,  5.97s/it]"
          ]
        },
        {
          "output_type": "stream",
          "name": "stdout",
          "text": [
            "epoch: 49   train loss: 3.0519   test accuracy: 0.9976\n"
          ]
        },
        {
          "output_type": "stream",
          "name": "stderr",
          "text": [
            "\n"
          ]
        },
        {
          "output_type": "display_data",
          "data": {
            "text/plain": [
              "<Figure size 640x480 with 1 Axes>"
            ],
            "image/png": "[encoded data removed]"
          },
          "metadata": {}
        },
        {
          "output_type": "display_data",
          "data": {
            "text/plain": [
              "<Figure size 640x480 with 1 Axes>"
            ],
            "image/png": "[encoded data removed]"
          },
          "metadata": {}
        }
      ]
    },
    {
      "cell_type": "markdown",
      "source": [
        "# Full PCT"
      ],
      "metadata": {
        "id": "qh0kaW9CnSeJ"
      }
    },
    {
      "cell_type": "markdown",
      "source": [
        "## Classify"
      ],
      "metadata": {
        "id": "PKUkT-Pr0GqJ"
      }
    },
    {
      "cell_type": "code",
      "source": [
        "class FullPCTransCls(nn.Module):\n",
        "    def __init__(self,in_channel=3,out_channel=6,points_num=1024,task='classification',version='naive'):\n",
        "        super(FullPCTransCls,self).__init__()\n",
        "        self.in_channel = in_channel\n",
        "        self.out_channel = out_channel\n",
        "        self.task = task\n",
        "\n",
        "        self.embed = NeighborEmbedding(6)\n",
        "        #self.sg = SampleGroup(in_channel)\n",
        "        self.sa1 = OffSetAttention(256)\n",
        "        self.sa2 = OffSetAttention(256)\n",
        "        self.sa3 = OffSetAttention(256)\n",
        "        self.sa4 = OffSetAttention(256)\n",
        "\n",
        "        self.lbr1 = nn.Sequential(\n",
        "                    nn.Conv1d(in_channels=1280,out_channels=1024,kernel_size=1),\n",
        "                    nn.BatchNorm1d(1024),\n",
        "                    nn.ReLU()\n",
        "                )\n",
        "\n",
        "        #self.m = nn.MaxPool1d(1024,1)\n",
        "        #self.avg = nn.MaxPool1d(1024,1)\n",
        "        # for classification\n",
        "        self.lbrd1 = nn.Sequential(\n",
        "                    nn.Conv1d(in_channels=2048,out_channels=256,kernel_size=1),\n",
        "                    nn.BatchNorm1d(256),\n",
        "                    nn.ReLU(),\n",
        "                    nn.Dropout()\n",
        "                )\n",
        "\n",
        "        self.lbrd2 = nn.Sequential(\n",
        "                    nn.Conv1d(in_channels=256,out_channels=256,kernel_size=1),\n",
        "                    nn.BatchNorm1d(256),\n",
        "                    nn.ReLU(),\n",
        "                    nn.Dropout()\n",
        "                )\n",
        "\n",
        "        self.l1 = nn.Conv1d(in_channels=256,out_channels=out_channel,kernel_size=1)\n",
        "\n",
        "        # for segmentation\n",
        "        self.lbrd3 = nn.Sequential(\n",
        "                    nn.Conv1d(in_channels=3072,out_channels=256,kernel_size=1),\n",
        "                    nn.BatchNorm1d(256),\n",
        "                    nn.ReLU(),\n",
        "                    nn.Dropout()\n",
        "                    )\n",
        "\n",
        "        self.lbr2 = nn.Sequential(\n",
        "                    nn.Conv1d(in_channels=256,out_channels=256,kernel_size=1),\n",
        "                    nn.BatchNorm1d(256),\n",
        "                    nn.ReLU()\n",
        "                )\n",
        "\n",
        "\n",
        "    def forward(self,x):\n",
        "        x0 = self.embed(x)# batch,256,256\n",
        "        x1 = self.sa1(x0)#256\n",
        "        x2 = self.sa2(x1)\n",
        "        x3 = self.sa3(x2)\n",
        "        x4 = self.sa4(x3)#256\n",
        "\n",
        "        x5 = torch.concatenate((x0,x1,x2,x3,x4),1)#1280\n",
        "        x6 = self.lbr1(x5)#point feature\n",
        "\n",
        "        #if self.task=='classification':\n",
        "        x7 = torch.max(x6,-1)[0]\n",
        "        x8 = torch.mean(x6,-1)\n",
        "        x9 = torch.concatenate((x7,x8),1)\n",
        "        x9 = x9.view(x9.shape[0],x9.shape[1],1)\n",
        "        x10 = self.lbrd1(x9)\n",
        "        x11 = self.lbrd2(x10)\n",
        "\n",
        "        output = self.l1(x11)\n",
        "        #print(\"output\",output.shape)\n",
        "        return output.view(output.shape[0],-1)\n"
      ],
      "metadata": {
        "id": "qe686jFFnWd_"
      },
      "execution_count": null,
      "outputs": []
    },
    {
      "cell_type": "code",
      "source": [
        "losses = []\n",
        "accuracy = []\n",
        "def main1():\n",
        "    NUM_CLASSES = 10\n",
        "    NUM_FEATURES = 6\n",
        "    NUM_TRAIN_POINTS = 1024\n",
        "    TASK = 'classification'\n",
        "    VERSION = 'FULL'\n",
        "    model_save_path = os.path.join(os. getcwd(), 'drive/MyDrive/ROB498/model/best_classify_model10_FULL_normal.pt')\n",
        "    learning_rate = 0.001\n",
        "    #path = 'data/cls'\n",
        "    Batch_size = 256\n",
        "    num_epochs = 100\n",
        "    if TASK=='classification':\n",
        "      model = FullPCTransCls(NUM_FEATURES,NUM_CLASSES,NUM_TRAIN_POINTS,TASK)\n",
        "    else:\n",
        "      model= FullPCTransSeg(NUM_FEATURES,NUM_CLASSES,NUM_TRAIN_POINTS,TASK)\n",
        "    device = torch.device(\"cuda\" if torch.cuda.is_available() else 'cpu')\n",
        "    #opt = optim.Adam(model.parameters(),learning_rate)\n",
        "    opt = optim.SGD(model.parameters(),learning_rate,momentum=0.5)\n",
        "    #path = os.path.join(os.getcwd(),'drive/MyDrive/ROB498/modelnet10_normal_resampled/')\n",
        "    path = '/content/modelnet10_normal_resampled/'\n",
        "    train_data = ModelNetDataLoader(root=path,npoint=NUM_TRAIN_POINTS, split='train', uniform=False, normal_channel=True)\n",
        "    train_dataloader = torch.utils.data.DataLoader(train_data, batch_size=Batch_size, shuffle=True)\n",
        "\n",
        "    test_data = ModelNetDataLoader(root=path,npoint=NUM_TRAIN_POINTS, split='test', uniform=False, normal_channel=True)\n",
        "    test_dataloader = torch.utils.data.DataLoader(test_data, batch_size=Batch_size, shuffle=True)\n",
        "\n",
        "    #train_dataloader = get_data_loader(path,batch_size,True)\n",
        "    #test_dataloader = get_data_loader(path,batch_size,False)\n",
        "\n",
        "    model = model.to(device)\n",
        "\n",
        "    best_accuracy = -1\n",
        "    for epoch in tqdm(range(num_epochs)):\n",
        "        train_epoch_loss = train(train_dataloader,model,opt,epoch,device,TASK)\n",
        "        test_accuracy = test(test_dataloader,model,epoch,device,TASK)\n",
        "        #print(train_epoch_loss)\n",
        "        losses.append(train_epoch_loss.item())\n",
        "        accuracy.append(test_accuracy)\n",
        "        print (\"epoch: {}   train loss: {:.4f}   test accuracy: {:.4f}\".format(epoch, train_epoch_loss, test_accuracy))\n",
        "        if test_accuracy>best_accuracy:\n",
        "           best_accuracy = test_accuracy\n",
        "           torch.save(model.state_dict(),model_save_path)\n",
        "    epoches = range(len(losses))\n",
        "    plt.plot(epoches,losses,label='loss')\n",
        "    plt.legend()\n",
        "    plt.show()\n",
        "\n",
        "    plt.plot(epoches,accuracy,label='accuracy')\n",
        "    plt.legend()\n",
        "    plt.show()"
      ],
      "metadata": {
        "id": "NRWpHe-LpuCO"
      },
      "execution_count": null,
      "outputs": []
    },
    {
      "cell_type": "code",
      "source": [
        "main1()"
      ],
      "metadata": {
        "colab": {
          "base_uri": "https://localhost:8080/",
          "height": 1000
        },
        "id": "6CrV6KfNqTCO",
        "outputId": "c1e07065-7268-4a2c-9e7f-81b6eb108711"
      },
      "execution_count": null,
      "outputs": [
        {
          "output_type": "stream",
          "name": "stdout",
          "text": [
            "The size of train data is 3991\n",
            "The size of test data is 908\n"
          ]
        },
        {
          "output_type": "stream",
          "name": "stderr",
          "text": [
            "\r  0%|          | 0/100 [00:00<?, ?it/s]"
          ]
        },
        {
          "output_type": "stream",
          "name": "stdout",
          "text": [
            "epoch: 0   train loss: 35.1131   test accuracy: 0.1101\n"
          ]
        },
        {
          "output_type": "stream",
          "name": "stderr",
          "text": [
            "  2%|▏         | 2/100 [00:58<42:09, 25.81s/it]  "
          ]
        },
        {
          "output_type": "stream",
          "name": "stdout",
          "text": [
            "epoch: 1   train loss: 29.5163   test accuracy: 0.1101\n"
          ]
        },
        {
          "output_type": "stream",
          "name": "stderr",
          "text": [
            "\r  3%|▎         | 3/100 [01:07<29:28, 18.24s/it]"
          ]
        },
        {
          "output_type": "stream",
          "name": "stdout",
          "text": [
            "epoch: 2   train loss: 26.2387   test accuracy: 0.5066\n"
          ]
        },
        {
          "output_type": "stream",
          "name": "stderr",
          "text": [
            "\r  4%|▍         | 4/100 [01:17<23:27, 14.66s/it]"
          ]
        },
        {
          "output_type": "stream",
          "name": "stdout",
          "text": [
            "epoch: 3   train loss: 23.7563   test accuracy: 0.6729\n"
          ]
        },
        {
          "output_type": "stream",
          "name": "stderr",
          "text": [
            "\r  5%|▌         | 5/100 [01:26<20:05, 12.69s/it]"
          ]
        },
        {
          "output_type": "stream",
          "name": "stdout",
          "text": [
            "epoch: 4   train loss: 22.0509   test accuracy: 0.6784\n"
          ]
        },
        {
          "output_type": "stream",
          "name": "stderr",
          "text": [
            "\r  6%|▌         | 6/100 [01:35<18:00, 11.49s/it]"
          ]
        },
        {
          "output_type": "stream",
          "name": "stdout",
          "text": [
            "epoch: 5   train loss: 20.3965   test accuracy: 0.7048\n"
          ]
        },
        {
          "output_type": "stream",
          "name": "stderr",
          "text": [
            "\r  7%|▋         | 7/100 [01:44<16:38, 10.74s/it]"
          ]
        },
        {
          "output_type": "stream",
          "name": "stdout",
          "text": [
            "epoch: 6   train loss: 19.3380   test accuracy: 0.7081\n"
          ]
        },
        {
          "output_type": "stream",
          "name": "stderr",
          "text": [
            "\r  8%|▊         | 8/100 [01:53<15:43, 10.25s/it]"
          ]
        },
        {
          "output_type": "stream",
          "name": "stdout",
          "text": [
            "epoch: 7   train loss: 18.2133   test accuracy: 0.7280\n"
          ]
        },
        {
          "output_type": "stream",
          "name": "stderr",
          "text": [
            "\r  9%|▉         | 9/100 [02:03<15:04,  9.94s/it]"
          ]
        },
        {
          "output_type": "stream",
          "name": "stdout",
          "text": [
            "epoch: 8   train loss: 17.2131   test accuracy: 0.7324\n"
          ]
        },
        {
          "output_type": "stream",
          "name": "stderr",
          "text": [
            "\r 10%|█         | 10/100 [02:12<14:32,  9.69s/it]"
          ]
        },
        {
          "output_type": "stream",
          "name": "stdout",
          "text": [
            "epoch: 9   train loss: 16.5132   test accuracy: 0.7313\n"
          ]
        },
        {
          "output_type": "stream",
          "name": "stderr",
          "text": [
            "\r 11%|█         | 11/100 [02:21<14:09,  9.55s/it]"
          ]
        },
        {
          "output_type": "stream",
          "name": "stdout",
          "text": [
            "epoch: 10   train loss: 15.7090   test accuracy: 0.7423\n"
          ]
        },
        {
          "output_type": "stream",
          "name": "stderr",
          "text": [
            "\r 12%|█▏        | 12/100 [02:30<13:53,  9.47s/it]"
          ]
        },
        {
          "output_type": "stream",
          "name": "stdout",
          "text": [
            "epoch: 11   train loss: 15.2117   test accuracy: 0.7478\n"
          ]
        },
        {
          "output_type": "stream",
          "name": "stderr",
          "text": [
            "\r 13%|█▎        | 13/100 [02:40<13:38,  9.40s/it]"
          ]
        },
        {
          "output_type": "stream",
          "name": "stdout",
          "text": [
            "epoch: 12   train loss: 14.6145   test accuracy: 0.7544\n"
          ]
        },
        {
          "output_type": "stream",
          "name": "stderr",
          "text": [
            "\r 14%|█▍        | 14/100 [02:49<13:23,  9.35s/it]"
          ]
        },
        {
          "output_type": "stream",
          "name": "stdout",
          "text": [
            "epoch: 13   train loss: 14.0158   test accuracy: 0.7599\n"
          ]
        },
        {
          "output_type": "stream",
          "name": "stderr",
          "text": [
            "\r 15%|█▌        | 15/100 [02:58<13:12,  9.32s/it]"
          ]
        },
        {
          "output_type": "stream",
          "name": "stdout",
          "text": [
            "epoch: 14   train loss: 13.7545   test accuracy: 0.7698\n"
          ]
        },
        {
          "output_type": "stream",
          "name": "stderr",
          "text": [
            "\r 16%|█▌        | 16/100 [03:07<12:58,  9.27s/it]"
          ]
        },
        {
          "output_type": "stream",
          "name": "stdout",
          "text": [
            "epoch: 15   train loss: 13.1474   test accuracy: 0.7654\n"
          ]
        },
        {
          "output_type": "stream",
          "name": "stderr",
          "text": [
            "\r 17%|█▋        | 17/100 [03:16<12:48,  9.25s/it]"
          ]
        },
        {
          "output_type": "stream",
          "name": "stdout",
          "text": [
            "epoch: 16   train loss: 12.7013   test accuracy: 0.7841\n"
          ]
        },
        {
          "output_type": "stream",
          "name": "stderr",
          "text": [
            "\r 18%|█▊        | 18/100 [03:26<12:37,  9.24s/it]"
          ]
        },
        {
          "output_type": "stream",
          "name": "stdout",
          "text": [
            "epoch: 17   train loss: 12.2822   test accuracy: 0.7907\n"
          ]
        },
        {
          "output_type": "stream",
          "name": "stderr",
          "text": [
            "\r 19%|█▉        | 19/100 [03:35<12:28,  9.24s/it]"
          ]
        },
        {
          "output_type": "stream",
          "name": "stdout",
          "text": [
            "epoch: 18   train loss: 12.0833   test accuracy: 0.8051\n"
          ]
        },
        {
          "output_type": "stream",
          "name": "stderr",
          "text": [
            "\r 20%|██        | 20/100 [03:44<12:17,  9.22s/it]"
          ]
        },
        {
          "output_type": "stream",
          "name": "stdout",
          "text": [
            "epoch: 19   train loss: 11.6227   test accuracy: 0.7985\n"
          ]
        },
        {
          "output_type": "stream",
          "name": "stderr",
          "text": [
            "\r 21%|██        | 21/100 [03:53<12:09,  9.23s/it]"
          ]
        },
        {
          "output_type": "stream",
          "name": "stdout",
          "text": [
            "epoch: 20   train loss: 11.4280   test accuracy: 0.8128\n"
          ]
        },
        {
          "output_type": "stream",
          "name": "stderr",
          "text": [
            "\r 22%|██▏       | 22/100 [04:02<11:58,  9.21s/it]"
          ]
        },
        {
          "output_type": "stream",
          "name": "stdout",
          "text": [
            "epoch: 21   train loss: 11.0936   test accuracy: 0.8073\n"
          ]
        },
        {
          "output_type": "stream",
          "name": "stderr",
          "text": [
            "\r 23%|██▎       | 23/100 [04:12<11:48,  9.20s/it]"
          ]
        },
        {
          "output_type": "stream",
          "name": "stdout",
          "text": [
            "epoch: 22   train loss: 10.8409   test accuracy: 0.8095\n"
          ]
        },
        {
          "output_type": "stream",
          "name": "stderr",
          "text": [
            "\r 24%|██▍       | 24/100 [04:21<11:39,  9.20s/it]"
          ]
        },
        {
          "output_type": "stream",
          "name": "stdout",
          "text": [
            "epoch: 23   train loss: 10.4830   test accuracy: 0.8183\n"
          ]
        },
        {
          "output_type": "stream",
          "name": "stderr",
          "text": [
            "\r 25%|██▌       | 25/100 [04:30<11:30,  9.21s/it]"
          ]
        },
        {
          "output_type": "stream",
          "name": "stdout",
          "text": [
            "epoch: 24   train loss: 10.2351   test accuracy: 0.8227\n"
          ]
        },
        {
          "output_type": "stream",
          "name": "stderr",
          "text": [
            "\r 26%|██▌       | 26/100 [04:39<11:21,  9.20s/it]"
          ]
        },
        {
          "output_type": "stream",
          "name": "stdout",
          "text": [
            "epoch: 25   train loss: 9.9866   test accuracy: 0.8282\n"
          ]
        },
        {
          "output_type": "stream",
          "name": "stderr",
          "text": [
            "\r 27%|██▋       | 27/100 [04:48<11:11,  9.20s/it]"
          ]
        },
        {
          "output_type": "stream",
          "name": "stdout",
          "text": [
            "epoch: 26   train loss: 9.7433   test accuracy: 0.8315\n"
          ]
        },
        {
          "output_type": "stream",
          "name": "stderr",
          "text": [
            "\r 28%|██▊       | 28/100 [04:58<11:02,  9.20s/it]"
          ]
        },
        {
          "output_type": "stream",
          "name": "stdout",
          "text": [
            "epoch: 27   train loss: 9.6547   test accuracy: 0.8337\n"
          ]
        },
        {
          "output_type": "stream",
          "name": "stderr",
          "text": [
            "\r 29%|██▉       | 29/100 [05:07<10:52,  9.19s/it]"
          ]
        },
        {
          "output_type": "stream",
          "name": "stdout",
          "text": [
            "epoch: 28   train loss: 9.5080   test accuracy: 0.8392\n"
          ]
        },
        {
          "output_type": "stream",
          "name": "stderr",
          "text": [
            "\r 30%|███       | 30/100 [05:16<10:43,  9.20s/it]"
          ]
        },
        {
          "output_type": "stream",
          "name": "stdout",
          "text": [
            "epoch: 29   train loss: 9.3438   test accuracy: 0.8436\n"
          ]
        },
        {
          "output_type": "stream",
          "name": "stderr",
          "text": [
            "\r 31%|███       | 31/100 [05:25<10:33,  9.18s/it]"
          ]
        },
        {
          "output_type": "stream",
          "name": "stdout",
          "text": [
            "epoch: 30   train loss: 8.9971   test accuracy: 0.8403\n"
          ]
        },
        {
          "output_type": "stream",
          "name": "stderr",
          "text": [
            "\r 32%|███▏      | 32/100 [05:34<10:25,  9.19s/it]"
          ]
        },
        {
          "output_type": "stream",
          "name": "stdout",
          "text": [
            "epoch: 31   train loss: 8.8111   test accuracy: 0.8480\n"
          ]
        },
        {
          "output_type": "stream",
          "name": "stderr",
          "text": [
            "\r 33%|███▎      | 33/100 [05:43<10:14,  9.18s/it]"
          ]
        },
        {
          "output_type": "stream",
          "name": "stdout",
          "text": [
            "epoch: 32   train loss: 8.7375   test accuracy: 0.8469\n"
          ]
        },
        {
          "output_type": "stream",
          "name": "stderr",
          "text": [
            "\r 34%|███▍      | 34/100 [05:53<10:06,  9.18s/it]"
          ]
        },
        {
          "output_type": "stream",
          "name": "stdout",
          "text": [
            "epoch: 33   train loss: 8.5463   test accuracy: 0.8513\n"
          ]
        },
        {
          "output_type": "stream",
          "name": "stderr",
          "text": [
            "\r 35%|███▌      | 35/100 [06:02<09:57,  9.20s/it]"
          ]
        },
        {
          "output_type": "stream",
          "name": "stdout",
          "text": [
            "epoch: 34   train loss: 8.3644   test accuracy: 0.8590\n"
          ]
        },
        {
          "output_type": "stream",
          "name": "stderr",
          "text": [
            "\r 36%|███▌      | 36/100 [06:11<09:48,  9.20s/it]"
          ]
        },
        {
          "output_type": "stream",
          "name": "stdout",
          "text": [
            "epoch: 35   train loss: 8.1104   test accuracy: 0.8656\n"
          ]
        },
        {
          "output_type": "stream",
          "name": "stderr",
          "text": [
            "\r 37%|███▋      | 37/100 [06:20<09:38,  9.18s/it]"
          ]
        },
        {
          "output_type": "stream",
          "name": "stdout",
          "text": [
            "epoch: 36   train loss: 8.0857   test accuracy: 0.8612\n"
          ]
        },
        {
          "output_type": "stream",
          "name": "stderr",
          "text": [
            "\r 38%|███▊      | 38/100 [06:29<09:29,  9.19s/it]"
          ]
        },
        {
          "output_type": "stream",
          "name": "stdout",
          "text": [
            "epoch: 37   train loss: 7.7908   test accuracy: 0.8733\n"
          ]
        },
        {
          "output_type": "stream",
          "name": "stderr",
          "text": [
            "\r 39%|███▉      | 39/100 [06:39<09:19,  9.17s/it]"
          ]
        },
        {
          "output_type": "stream",
          "name": "stdout",
          "text": [
            "epoch: 38   train loss: 7.7162   test accuracy: 0.8590\n"
          ]
        },
        {
          "output_type": "stream",
          "name": "stderr",
          "text": [
            "\r 40%|████      | 40/100 [06:48<09:10,  9.18s/it]"
          ]
        },
        {
          "output_type": "stream",
          "name": "stdout",
          "text": [
            "epoch: 39   train loss: 7.6090   test accuracy: 0.8778\n"
          ]
        },
        {
          "output_type": "stream",
          "name": "stderr",
          "text": [
            "\r 41%|████      | 41/100 [06:57<09:00,  9.17s/it]"
          ]
        },
        {
          "output_type": "stream",
          "name": "stdout",
          "text": [
            "epoch: 40   train loss: 7.5134   test accuracy: 0.8767\n"
          ]
        },
        {
          "output_type": "stream",
          "name": "stderr",
          "text": [
            "\r 42%|████▏     | 42/100 [07:06<08:51,  9.17s/it]"
          ]
        },
        {
          "output_type": "stream",
          "name": "stdout",
          "text": [
            "epoch: 41   train loss: 7.3472   test accuracy: 0.8789\n"
          ]
        },
        {
          "output_type": "stream",
          "name": "stderr",
          "text": [
            "\r 43%|████▎     | 43/100 [07:15<08:43,  9.18s/it]"
          ]
        },
        {
          "output_type": "stream",
          "name": "stdout",
          "text": [
            "epoch: 42   train loss: 7.1621   test accuracy: 0.8822\n"
          ]
        },
        {
          "output_type": "stream",
          "name": "stderr",
          "text": [
            "\r 44%|████▍     | 44/100 [07:24<08:33,  9.17s/it]"
          ]
        },
        {
          "output_type": "stream",
          "name": "stdout",
          "text": [
            "epoch: 43   train loss: 7.1224   test accuracy: 0.8778\n"
          ]
        },
        {
          "output_type": "stream",
          "name": "stderr",
          "text": [
            "\r 45%|████▌     | 45/100 [07:34<08:24,  9.17s/it]"
          ]
        },
        {
          "output_type": "stream",
          "name": "stdout",
          "text": [
            "epoch: 44   train loss: 7.0502   test accuracy: 0.8811\n"
          ]
        },
        {
          "output_type": "stream",
          "name": "stderr",
          "text": [
            "\r 46%|████▌     | 46/100 [07:43<08:15,  9.17s/it]"
          ]
        },
        {
          "output_type": "stream",
          "name": "stdout",
          "text": [
            "epoch: 45   train loss: 7.0062   test accuracy: 0.8733\n"
          ]
        },
        {
          "output_type": "stream",
          "name": "stderr",
          "text": [
            "\r 47%|████▋     | 47/100 [07:52<08:06,  9.17s/it]"
          ]
        },
        {
          "output_type": "stream",
          "name": "stdout",
          "text": [
            "epoch: 46   train loss: 6.7457   test accuracy: 0.8822\n"
          ]
        },
        {
          "output_type": "stream",
          "name": "stderr",
          "text": [
            "\r 48%|████▊     | 48/100 [08:01<07:56,  9.17s/it]"
          ]
        },
        {
          "output_type": "stream",
          "name": "stdout",
          "text": [
            "epoch: 47   train loss: 6.6027   test accuracy: 0.8811\n"
          ]
        },
        {
          "output_type": "stream",
          "name": "stderr",
          "text": [
            "\r 49%|████▉     | 49/100 [08:10<07:48,  9.19s/it]"
          ]
        },
        {
          "output_type": "stream",
          "name": "stdout",
          "text": [
            "epoch: 48   train loss: 6.5081   test accuracy: 0.8877\n"
          ]
        },
        {
          "output_type": "stream",
          "name": "stderr",
          "text": [
            "\r 50%|█████     | 50/100 [08:20<07:39,  9.19s/it]"
          ]
        },
        {
          "output_type": "stream",
          "name": "stdout",
          "text": [
            "epoch: 49   train loss: 6.3382   test accuracy: 0.8888\n"
          ]
        },
        {
          "output_type": "stream",
          "name": "stderr",
          "text": [
            "\r 51%|█████     | 51/100 [08:29<07:29,  9.18s/it]"
          ]
        },
        {
          "output_type": "stream",
          "name": "stdout",
          "text": [
            "epoch: 50   train loss: 6.3736   test accuracy: 0.8844\n"
          ]
        },
        {
          "output_type": "stream",
          "name": "stderr",
          "text": [
            "\r 52%|█████▏    | 52/100 [08:38<07:21,  9.20s/it]"
          ]
        },
        {
          "output_type": "stream",
          "name": "stdout",
          "text": [
            "epoch: 51   train loss: 6.2389   test accuracy: 0.8932\n"
          ]
        },
        {
          "output_type": "stream",
          "name": "stderr",
          "text": [
            "\r 53%|█████▎    | 53/100 [08:47<07:13,  9.22s/it]"
          ]
        },
        {
          "output_type": "stream",
          "name": "stdout",
          "text": [
            "epoch: 52   train loss: 6.1667   test accuracy: 0.8910\n"
          ]
        },
        {
          "output_type": "stream",
          "name": "stderr",
          "text": [
            "\r 54%|█████▍    | 54/100 [08:56<07:04,  9.23s/it]"
          ]
        },
        {
          "output_type": "stream",
          "name": "stdout",
          "text": [
            "epoch: 53   train loss: 6.0837   test accuracy: 0.8943\n"
          ]
        },
        {
          "output_type": "stream",
          "name": "stderr",
          "text": [
            "\r 55%|█████▌    | 55/100 [09:06<06:54,  9.22s/it]"
          ]
        },
        {
          "output_type": "stream",
          "name": "stdout",
          "text": [
            "epoch: 54   train loss: 6.0807   test accuracy: 0.8921\n"
          ]
        },
        {
          "output_type": "stream",
          "name": "stderr",
          "text": [
            "\r 56%|█████▌    | 56/100 [09:15<06:44,  9.20s/it]"
          ]
        },
        {
          "output_type": "stream",
          "name": "stdout",
          "text": [
            "epoch: 55   train loss: 5.8715   test accuracy: 0.8943\n"
          ]
        },
        {
          "output_type": "stream",
          "name": "stderr",
          "text": [
            "\r 57%|█████▋    | 57/100 [09:24<06:36,  9.21s/it]"
          ]
        },
        {
          "output_type": "stream",
          "name": "stdout",
          "text": [
            "epoch: 56   train loss: 5.7417   test accuracy: 0.8965\n"
          ]
        },
        {
          "output_type": "stream",
          "name": "stderr",
          "text": [
            "\r 58%|█████▊    | 58/100 [09:33<06:26,  9.20s/it]"
          ]
        },
        {
          "output_type": "stream",
          "name": "stdout",
          "text": [
            "epoch: 57   train loss: 5.7677   test accuracy: 0.8965\n"
          ]
        },
        {
          "output_type": "stream",
          "name": "stderr",
          "text": [
            "\r 59%|█████▉    | 59/100 [09:42<06:16,  9.19s/it]"
          ]
        },
        {
          "output_type": "stream",
          "name": "stdout",
          "text": [
            "epoch: 58   train loss: 5.6508   test accuracy: 0.8965\n"
          ]
        },
        {
          "output_type": "stream",
          "name": "stderr",
          "text": [
            "\r 60%|██████    | 60/100 [09:52<06:07,  9.18s/it]"
          ]
        },
        {
          "output_type": "stream",
          "name": "stdout",
          "text": [
            "epoch: 59   train loss: 5.6924   test accuracy: 0.8965\n"
          ]
        },
        {
          "output_type": "stream",
          "name": "stderr",
          "text": [
            "\r 61%|██████    | 61/100 [10:01<05:58,  9.19s/it]"
          ]
        },
        {
          "output_type": "stream",
          "name": "stdout",
          "text": [
            "epoch: 60   train loss: 5.5231   test accuracy: 0.8987\n"
          ]
        },
        {
          "output_type": "stream",
          "name": "stderr",
          "text": [
            "\r 62%|██████▏   | 62/100 [10:10<05:49,  9.20s/it]"
          ]
        },
        {
          "output_type": "stream",
          "name": "stdout",
          "text": [
            "epoch: 61   train loss: 5.4239   test accuracy: 0.9020\n"
          ]
        },
        {
          "output_type": "stream",
          "name": "stderr",
          "text": [
            "\r 63%|██████▎   | 63/100 [10:19<05:40,  9.19s/it]"
          ]
        },
        {
          "output_type": "stream",
          "name": "stdout",
          "text": [
            "epoch: 62   train loss: 5.2395   test accuracy: 0.9009\n"
          ]
        },
        {
          "output_type": "stream",
          "name": "stderr",
          "text": [
            "\r 64%|██████▍   | 64/100 [10:28<05:30,  9.18s/it]"
          ]
        },
        {
          "output_type": "stream",
          "name": "stdout",
          "text": [
            "epoch: 63   train loss: 5.3031   test accuracy: 0.8987\n"
          ]
        },
        {
          "output_type": "stream",
          "name": "stderr",
          "text": [
            "\r 65%|██████▌   | 65/100 [10:38<05:21,  9.19s/it]"
          ]
        },
        {
          "output_type": "stream",
          "name": "stdout",
          "text": [
            "epoch: 64   train loss: 5.1402   test accuracy: 0.9042\n"
          ]
        },
        {
          "output_type": "stream",
          "name": "stderr",
          "text": [
            "\r 66%|██████▌   | 66/100 [10:47<05:12,  9.19s/it]"
          ]
        },
        {
          "output_type": "stream",
          "name": "stdout",
          "text": [
            "epoch: 65   train loss: 5.0860   test accuracy: 0.8987\n"
          ]
        },
        {
          "output_type": "stream",
          "name": "stderr",
          "text": [
            "\r 67%|██████▋   | 67/100 [10:56<05:03,  9.20s/it]"
          ]
        },
        {
          "output_type": "stream",
          "name": "stdout",
          "text": [
            "epoch: 66   train loss: 5.0840   test accuracy: 0.9053\n"
          ]
        },
        {
          "output_type": "stream",
          "name": "stderr",
          "text": [
            "\r 68%|██████▊   | 68/100 [11:05<04:54,  9.20s/it]"
          ]
        },
        {
          "output_type": "stream",
          "name": "stdout",
          "text": [
            "epoch: 67   train loss: 4.9976   test accuracy: 0.9031\n"
          ]
        },
        {
          "output_type": "stream",
          "name": "stderr",
          "text": [
            "\r 69%|██████▉   | 69/100 [11:14<04:45,  9.19s/it]"
          ]
        },
        {
          "output_type": "stream",
          "name": "stdout",
          "text": [
            "epoch: 68   train loss: 4.8924   test accuracy: 0.9009\n"
          ]
        },
        {
          "output_type": "stream",
          "name": "stderr",
          "text": [
            "\r 70%|███████   | 70/100 [11:24<04:35,  9.20s/it]"
          ]
        },
        {
          "output_type": "stream",
          "name": "stdout",
          "text": [
            "epoch: 69   train loss: 4.8941   test accuracy: 0.9086\n"
          ]
        },
        {
          "output_type": "stream",
          "name": "stderr",
          "text": [
            "\r 71%|███████   | 71/100 [11:33<04:26,  9.20s/it]"
          ]
        },
        {
          "output_type": "stream",
          "name": "stdout",
          "text": [
            "epoch: 70   train loss: 4.8341   test accuracy: 0.9064\n"
          ]
        },
        {
          "output_type": "stream",
          "name": "stderr",
          "text": [
            "\r 72%|███████▏  | 72/100 [11:42<04:17,  9.21s/it]"
          ]
        },
        {
          "output_type": "stream",
          "name": "stdout",
          "text": [
            "epoch: 71   train loss: 4.7472   test accuracy: 0.9130\n"
          ]
        },
        {
          "output_type": "stream",
          "name": "stderr",
          "text": [
            "\r 73%|███████▎  | 73/100 [11:51<04:08,  9.20s/it]"
          ]
        },
        {
          "output_type": "stream",
          "name": "stdout",
          "text": [
            "epoch: 72   train loss: 4.6358   test accuracy: 0.9108\n"
          ]
        },
        {
          "output_type": "stream",
          "name": "stderr",
          "text": [
            "\r 74%|███████▍  | 74/100 [12:00<03:58,  9.19s/it]"
          ]
        },
        {
          "output_type": "stream",
          "name": "stdout",
          "text": [
            "epoch: 73   train loss: 4.6043   test accuracy: 0.9097\n"
          ]
        },
        {
          "output_type": "stream",
          "name": "stderr",
          "text": [
            "\r 75%|███████▌  | 75/100 [12:10<03:49,  9.18s/it]"
          ]
        },
        {
          "output_type": "stream",
          "name": "stdout",
          "text": [
            "epoch: 74   train loss: 4.6171   test accuracy: 0.9086\n"
          ]
        },
        {
          "output_type": "stream",
          "name": "stderr",
          "text": [
            "\r 76%|███████▌  | 76/100 [12:19<03:40,  9.17s/it]"
          ]
        },
        {
          "output_type": "stream",
          "name": "stdout",
          "text": [
            "epoch: 75   train loss: 4.5848   test accuracy: 0.9053\n"
          ]
        },
        {
          "output_type": "stream",
          "name": "stderr",
          "text": [
            "\r 77%|███████▋  | 77/100 [12:28<03:31,  9.19s/it]"
          ]
        },
        {
          "output_type": "stream",
          "name": "stdout",
          "text": [
            "epoch: 76   train loss: 4.4542   test accuracy: 0.9108\n"
          ]
        },
        {
          "output_type": "stream",
          "name": "stderr",
          "text": [
            "\r 78%|███████▊  | 78/100 [12:37<03:22,  9.19s/it]"
          ]
        },
        {
          "output_type": "stream",
          "name": "stdout",
          "text": [
            "epoch: 77   train loss: 4.3769   test accuracy: 0.9075\n"
          ]
        },
        {
          "output_type": "stream",
          "name": "stderr",
          "text": [
            "\r 79%|███████▉  | 79/100 [12:46<03:13,  9.21s/it]"
          ]
        },
        {
          "output_type": "stream",
          "name": "stdout",
          "text": [
            "epoch: 78   train loss: 4.4071   test accuracy: 0.9141\n"
          ]
        },
        {
          "output_type": "stream",
          "name": "stderr",
          "text": [
            "\r 80%|████████  | 80/100 [12:56<03:04,  9.21s/it]"
          ]
        },
        {
          "output_type": "stream",
          "name": "stdout",
          "text": [
            "epoch: 79   train loss: 4.3721   test accuracy: 0.9152\n"
          ]
        },
        {
          "output_type": "stream",
          "name": "stderr",
          "text": [
            "\r 81%|████████  | 81/100 [13:05<02:54,  9.19s/it]"
          ]
        },
        {
          "output_type": "stream",
          "name": "stdout",
          "text": [
            "epoch: 80   train loss: 4.3273   test accuracy: 0.9075\n"
          ]
        },
        {
          "output_type": "stream",
          "name": "stderr",
          "text": [
            "\r 82%|████████▏ | 82/100 [13:14<02:45,  9.18s/it]"
          ]
        },
        {
          "output_type": "stream",
          "name": "stdout",
          "text": [
            "epoch: 81   train loss: 4.1812   test accuracy: 0.9097\n"
          ]
        },
        {
          "output_type": "stream",
          "name": "stderr",
          "text": [
            "\r 83%|████████▎ | 83/100 [13:23<02:36,  9.18s/it]"
          ]
        },
        {
          "output_type": "stream",
          "name": "stdout",
          "text": [
            "epoch: 82   train loss: 4.3567   test accuracy: 0.9086\n"
          ]
        },
        {
          "output_type": "stream",
          "name": "stderr",
          "text": [
            "\r 84%|████████▍ | 84/100 [13:32<02:26,  9.18s/it]"
          ]
        },
        {
          "output_type": "stream",
          "name": "stdout",
          "text": [
            "epoch: 83   train loss: 4.0548   test accuracy: 0.9130\n"
          ]
        },
        {
          "output_type": "stream",
          "name": "stderr",
          "text": [
            "\r 85%|████████▌ | 85/100 [13:41<02:17,  9.18s/it]"
          ]
        },
        {
          "output_type": "stream",
          "name": "stdout",
          "text": [
            "epoch: 84   train loss: 4.1616   test accuracy: 0.9163\n"
          ]
        },
        {
          "output_type": "stream",
          "name": "stderr",
          "text": [
            "\r 86%|████████▌ | 86/100 [13:51<02:08,  9.17s/it]"
          ]
        },
        {
          "output_type": "stream",
          "name": "stdout",
          "text": [
            "epoch: 85   train loss: 4.0430   test accuracy: 0.9119\n"
          ]
        },
        {
          "output_type": "stream",
          "name": "stderr",
          "text": [
            "\r 87%|████████▋ | 87/100 [14:00<01:59,  9.16s/it]"
          ]
        },
        {
          "output_type": "stream",
          "name": "stdout",
          "text": [
            "epoch: 86   train loss: 3.9100   test accuracy: 0.9064\n"
          ]
        },
        {
          "output_type": "stream",
          "name": "stderr",
          "text": [
            "\r 88%|████████▊ | 88/100 [14:09<01:49,  9.16s/it]"
          ]
        },
        {
          "output_type": "stream",
          "name": "stdout",
          "text": [
            "epoch: 87   train loss: 3.9128   test accuracy: 0.9141\n"
          ]
        },
        {
          "output_type": "stream",
          "name": "stderr",
          "text": [
            "\r 89%|████████▉ | 89/100 [14:18<01:40,  9.17s/it]"
          ]
        },
        {
          "output_type": "stream",
          "name": "stdout",
          "text": [
            "epoch: 88   train loss: 3.8864   test accuracy: 0.9119\n"
          ]
        },
        {
          "output_type": "stream",
          "name": "stderr",
          "text": [
            "\r 90%|█████████ | 90/100 [14:27<01:31,  9.16s/it]"
          ]
        },
        {
          "output_type": "stream",
          "name": "stdout",
          "text": [
            "epoch: 89   train loss: 3.8920   test accuracy: 0.9163\n"
          ]
        },
        {
          "output_type": "stream",
          "name": "stderr",
          "text": [
            "\r 91%|█████████ | 91/100 [14:36<01:22,  9.16s/it]"
          ]
        },
        {
          "output_type": "stream",
          "name": "stdout",
          "text": [
            "epoch: 90   train loss: 3.9215   test accuracy: 0.9097\n"
          ]
        },
        {
          "output_type": "stream",
          "name": "stderr",
          "text": [
            "\r 92%|█████████▏| 92/100 [14:45<01:13,  9.15s/it]"
          ]
        },
        {
          "output_type": "stream",
          "name": "stdout",
          "text": [
            "epoch: 91   train loss: 3.7203   test accuracy: 0.9141\n"
          ]
        },
        {
          "output_type": "stream",
          "name": "stderr",
          "text": [
            "\r 93%|█████████▎| 93/100 [14:55<01:04,  9.15s/it]"
          ]
        },
        {
          "output_type": "stream",
          "name": "stdout",
          "text": [
            "epoch: 92   train loss: 3.7939   test accuracy: 0.9141\n"
          ]
        },
        {
          "output_type": "stream",
          "name": "stderr",
          "text": [
            "\r 94%|█████████▍| 94/100 [15:04<00:55,  9.18s/it]"
          ]
        },
        {
          "output_type": "stream",
          "name": "stdout",
          "text": [
            "epoch: 93   train loss: 3.7834   test accuracy: 0.9174\n"
          ]
        },
        {
          "output_type": "stream",
          "name": "stderr",
          "text": [
            "\r 95%|█████████▌| 95/100 [15:13<00:45,  9.18s/it]"
          ]
        },
        {
          "output_type": "stream",
          "name": "stdout",
          "text": [
            "epoch: 94   train loss: 3.7847   test accuracy: 0.9108\n"
          ]
        },
        {
          "output_type": "stream",
          "name": "stderr",
          "text": [
            "\r 96%|█████████▌| 96/100 [15:22<00:36,  9.18s/it]"
          ]
        },
        {
          "output_type": "stream",
          "name": "stdout",
          "text": [
            "epoch: 95   train loss: 3.6133   test accuracy: 0.9152\n"
          ]
        },
        {
          "output_type": "stream",
          "name": "stderr",
          "text": [
            "\r 97%|█████████▋| 97/100 [15:31<00:27,  9.19s/it]"
          ]
        },
        {
          "output_type": "stream",
          "name": "stdout",
          "text": [
            "epoch: 96   train loss: 3.7251   test accuracy: 0.9130\n"
          ]
        },
        {
          "output_type": "stream",
          "name": "stderr",
          "text": [
            "\r 98%|█████████▊| 98/100 [15:41<00:18,  9.18s/it]"
          ]
        },
        {
          "output_type": "stream",
          "name": "stdout",
          "text": [
            "epoch: 97   train loss: 3.5623   test accuracy: 0.9130\n"
          ]
        },
        {
          "output_type": "stream",
          "name": "stderr",
          "text": [
            "\r 99%|█████████▉| 99/100 [15:50<00:09,  9.20s/it]"
          ]
        },
        {
          "output_type": "stream",
          "name": "stdout",
          "text": [
            "epoch: 98   train loss: 3.5419   test accuracy: 0.9229\n"
          ]
        },
        {
          "output_type": "stream",
          "name": "stderr",
          "text": [
            "100%|██████████| 100/100 [15:59<00:00,  9.59s/it]"
          ]
        },
        {
          "output_type": "stream",
          "name": "stdout",
          "text": [
            "epoch: 99   train loss: 3.6189   test accuracy: 0.9174\n"
          ]
        },
        {
          "output_type": "stream",
          "name": "stderr",
          "text": [
            "\n"
          ]
        },
        {
          "output_type": "display_data",
          "data": {
            "text/plain": [
              "<Figure size 640x480 with 1 Axes>"
            ],
            "image/png": "[encoded data removed]"
          },
          "metadata": {}
        },
        {
          "output_type": "display_data",
          "data": {
            "text/plain": [
              "<Figure size 640x480 with 1 Axes>"
            ],
            "image/png": "[encoded data removed]"
          },
          "metadata": {}
        }
      ]
    },
    {
      "cell_type": "markdown",
      "source": [
        "## Segmentation"
      ],
      "metadata": {
        "id": "1AFbfBo502qx"
      }
    },
    {
      "cell_type": "code",
      "source": [
        "class FullPCTransSeg(nn.Module):\n",
        "    def __init__(self,in_channel=3,out_channel=6,points_num=1024,task='classification',version='naive'):\n",
        "        super(FullPCTransSeg,self).__init__()\n",
        "        self.in_channel = in_channel\n",
        "        self.out_channel = out_channel\n",
        "        self.task = task\n",
        "\n",
        "        self.embed = NeighborEmbedding(3)\n",
        "        #self.sg = SampleGroup(in_channel)\n",
        "        self.sa1 = OffSetAttention(256)\n",
        "        self.sa2 = OffSetAttention(256)\n",
        "        self.sa3 = OffSetAttention(256)\n",
        "        self.sa4 = OffSetAttention(256)\n",
        "\n",
        "        self.lbr1 = nn.Sequential(\n",
        "                    nn.Conv1d(in_channels=1280,out_channels=1024,kernel_size=1),\n",
        "                    nn.BatchNorm1d(1024),\n",
        "                    nn.ReLU()\n",
        "                )\n",
        "\n",
        "        #self.m = nn.MaxPool1d(1024,1)\n",
        "        #self.avg = nn.MaxPool1d(1024,1)\n",
        "        # for classification\n",
        "        self.lbrd1 = nn.Sequential(\n",
        "                    nn.Conv1d(in_channels=2048,out_channels=256,kernel_size=1),\n",
        "                    nn.BatchNorm1d(256),\n",
        "                    nn.ReLU(),\n",
        "                    nn.Dropout()\n",
        "                )\n",
        "\n",
        "        self.lbrd2 = nn.Sequential(\n",
        "                    nn.Conv1d(in_channels=256,out_channels=256,kernel_size=1),\n",
        "                    nn.BatchNorm1d(256),\n",
        "                    nn.ReLU(),\n",
        "                    nn.Dropout()\n",
        "                )\n",
        "\n",
        "        self.l1 = nn.Conv1d(in_channels=256,out_channels=out_channel,kernel_size=1)\n",
        "\n",
        "        # for segmentation\n",
        "        self.lbrd3 = nn.Sequential(\n",
        "                    nn.Conv1d(in_channels=3072,out_channels=256,kernel_size=1),\n",
        "                    nn.BatchNorm1d(256),\n",
        "                    nn.ReLU(),\n",
        "                    nn.Dropout()\n",
        "                    )\n",
        "\n",
        "        self.lbrd4 = nn.Sequential(\n",
        "                    nn.Conv1d(in_channels=3136,out_channels=512,kernel_size=1),\n",
        "                    nn.BatchNorm1d(512),\n",
        "                    nn.ReLU(),\n",
        "                    nn.Dropout()\n",
        "                )\n",
        "        self.lbr2 = nn.Sequential(\n",
        "                    nn.Conv1d(in_channels=512,out_channels=256,kernel_size=1),\n",
        "                    nn.BatchNorm1d(256),\n",
        "                    nn.ReLU()\n",
        "                )\n",
        "        self.Conv1 = nn.Conv1d(256,self.out_channel,1)\n",
        "\n",
        "        self.label_lbr = nn.Sequential(\n",
        "                    nn.Conv1d(in_channels=1,out_channels=64,kernel_size=1),\n",
        "                    nn.BatchNorm1d(64),\n",
        "                    nn.ReLU(),\n",
        "                    )\n",
        "\n",
        "\n",
        "    def forward(self,x,labels):\n",
        "        B,C,N = x.size()\n",
        "        #print(x.size())\n",
        "        x0 = self.embed(x)# batch,256,256\n",
        "        x1 = self.sa1(x0)#256\n",
        "        x2 = self.sa2(x1)\n",
        "        x3 = self.sa3(x2)\n",
        "        x4 = self.sa4(x3)#256\n",
        "        x5 = torch.concatenate((x0,x1,x2,x3,x4),1)#1280\n",
        "        x6 = self.lbr1(x5)#point feature\n",
        "        #print(x6.shape)\n",
        "\n",
        "        x_max = torch.max(x6,dim=-1)[0]\n",
        "        x_mean = torch.mean(x6,dim=-1)\n",
        "        x_max_features = x_max.unsqueeze(-1).repeat(1,1,N)\n",
        "        x_mean_features = x_mean.unsqueeze(-1).repeat(1,1,N)\n",
        "        # print(\"x6\",x6.shape)\n",
        "        # print(\"max\",x_max_features.shape)\n",
        "        # print(\"labels\",labels.shape)\n",
        "        # print(\"mean\",x_mean_features.shape)\n",
        "        labels_features = self.label_lbr(labels.view(B,1,-1))\n",
        "        #print(labels_features.shape)\n",
        "        x7 = torch.cat([x6.repeat(1,1,4),x_max_features,x_mean_features,labels_features],1)\n",
        "        #print(x7.shape)\n",
        "        #print(x7.shape)\n",
        "        x8 = self.lbrd4(x7)\n",
        "        x9 = self.lbr2(x8)\n",
        "        x10 = self.Conv1(x9)\n",
        "        return x10\n"
      ],
      "metadata": {
        "id": "iJLrEL4p04Hb"
      },
      "execution_count": null,
      "outputs": []
    },
    {
      "cell_type": "code",
      "source": [
        "losses = []\n",
        "accuracy = []\n",
        "def main():\n",
        "    NUM_CLASSES = 6\n",
        "    NUM_FEATURES = 3\n",
        "    NUM_TRAIN_POINTS = 1024\n",
        "\n",
        "    TASK = 'segmentation'\n",
        "    model_save_path = os.path.join(os. getcwd(), 'drive/MyDrive/ROB498/model/best_segmentation_model10_Full_normal.pt')\n",
        "    learning_rate = 0.001\n",
        "    Batch_size = 32\n",
        "    num_epochs = 50\n",
        "    if TASK=='classification':\n",
        "      model = FullPCTransCls(NUM_FEATURES,NUM_CLASSES,NUM_TRAIN_POINTS,TASK)\n",
        "    else:\n",
        "      model= FullPCTransSeg(NUM_FEATURES,NUM_CLASSES,NUM_TRAIN_POINTS,TASK)\n",
        "    device = torch.device(\"cuda\" if torch.cuda.is_available() else 'cpu')\n",
        "    #opt = optim.Adam(model.parameters(),learning_rate)\n",
        "    opt = optim.SGD(model.parameters(),learning_rate,momentum=0.5)\n",
        "    #path = os.path.join(os.getcwd(),'drive/MyDrive/ROB498/modelnet10_normal_resampled/')\n",
        "    path = '/content/data/seg/'\n",
        "    train_dataloader = get_data_loader(path,Batch_size, True)\n",
        "    test_dataloader = get_data_loader(path,Batch_size, False)\n",
        "\n",
        "    model = model.to(device)\n",
        "\n",
        "    best_accuracy = -1\n",
        "    for epoch in tqdm(range(num_epochs)):\n",
        "        train_epoch_loss = train(train_dataloader,model,opt,epoch,device,TASK)\n",
        "        test_accuracy = test(test_dataloader,model,epoch,device,TASK)\n",
        "        #print(train_epoch_loss)\n",
        "        losses.append(train_epoch_loss.item())\n",
        "        accuracy.append(test_accuracy)\n",
        "        print (\"epoch: {}   train loss: {:.4f}   test accuracy: {:.4f}\".format(epoch, train_epoch_loss, test_accuracy))\n",
        "        if test_accuracy>best_accuracy:\n",
        "           best_accuracy = test_accuracy\n",
        "           torch.save(model.state_dict(),model_save_path)\n",
        "    epoches = range(len(losses))\n",
        "    plt.plot(epoches,losses,label='loss')\n",
        "    plt.legend()\n",
        "    plt.show()\n",
        "\n",
        "    plt.plot(epoches,accuracy,label='accuracy')\n",
        "    plt.legend()\n",
        "    plt.show()"
      ],
      "metadata": {
        "id": "7EyvBukOJheP"
      },
      "execution_count": null,
      "outputs": []
    },
    {
      "cell_type": "code",
      "source": [
        "main()"
      ],
      "metadata": {
        "id": "DJONE00fMt82",
        "colab": {
          "base_uri": "https://localhost:8080/",
          "height": 1000
        },
        "outputId": "392bec37-cb00-4f6f-f20b-8fd14444cad4"
      },
      "execution_count": null,
      "outputs": [
        {
          "output_type": "stream",
          "name": "stderr",
          "text": [
            "\r  0%|          | 0/50 [00:00<?, ?it/s]"
          ]
        },
        {
          "output_type": "stream",
          "name": "stdout",
          "text": [
            "epoch: 0   train loss: 173.2157   test accuracy: 0.7755\n"
          ]
        },
        {
          "output_type": "stream",
          "name": "stderr",
          "text": [
            "  4%|▍         | 2/50 [01:16<29:53, 37.36s/it]"
          ]
        },
        {
          "output_type": "stream",
          "name": "stdout",
          "text": [
            "epoch: 1   train loss: 104.4045   test accuracy: 0.8601\n"
          ]
        },
        {
          "output_type": "stream",
          "name": "stderr",
          "text": [
            "\r  6%|▌         | 3/50 [01:50<27:59, 35.74s/it]"
          ]
        },
        {
          "output_type": "stream",
          "name": "stdout",
          "text": [
            "epoch: 2   train loss: 76.6171   test accuracy: 0.9143\n"
          ]
        },
        {
          "output_type": "stream",
          "name": "stderr",
          "text": [
            "\r  8%|▊         | 4/50 [02:24<26:47, 34.95s/it]"
          ]
        },
        {
          "output_type": "stream",
          "name": "stdout",
          "text": [
            "epoch: 3   train loss: 59.8943   test accuracy: 0.9437\n"
          ]
        },
        {
          "output_type": "stream",
          "name": "stderr",
          "text": [
            "\r 10%|█         | 5/50 [02:57<25:55, 34.56s/it]"
          ]
        },
        {
          "output_type": "stream",
          "name": "stdout",
          "text": [
            "epoch: 4   train loss: 48.3590   test accuracy: 0.9555\n"
          ]
        },
        {
          "output_type": "stream",
          "name": "stderr",
          "text": [
            "\r 12%|█▏        | 6/50 [03:31<25:04, 34.18s/it]"
          ]
        },
        {
          "output_type": "stream",
          "name": "stdout",
          "text": [
            "epoch: 5   train loss: 40.1086   test accuracy: 0.9601\n"
          ]
        },
        {
          "output_type": "stream",
          "name": "stderr",
          "text": [
            "\r 14%|█▍        | 7/50 [04:05<24:27, 34.12s/it]"
          ]
        },
        {
          "output_type": "stream",
          "name": "stdout",
          "text": [
            "epoch: 6   train loss: 34.3039   test accuracy: 0.9638\n"
          ]
        },
        {
          "output_type": "stream",
          "name": "stderr",
          "text": [
            "\r 16%|█▌        | 8/50 [04:39<23:48, 34.02s/it]"
          ]
        },
        {
          "output_type": "stream",
          "name": "stdout",
          "text": [
            "epoch: 7   train loss: 30.2492   test accuracy: 0.9702\n"
          ]
        },
        {
          "output_type": "stream",
          "name": "stderr",
          "text": [
            "\r 18%|█▊        | 9/50 [05:13<23:15, 34.03s/it]"
          ]
        },
        {
          "output_type": "stream",
          "name": "stdout",
          "text": [
            "epoch: 8   train loss: 26.8252   test accuracy: 0.9751\n"
          ]
        },
        {
          "output_type": "stream",
          "name": "stderr",
          "text": [
            "\r 20%|██        | 10/50 [05:46<22:38, 33.96s/it]"
          ]
        },
        {
          "output_type": "stream",
          "name": "stdout",
          "text": [
            "epoch: 9   train loss: 24.5645   test accuracy: 0.9766\n"
          ]
        },
        {
          "output_type": "stream",
          "name": "stderr",
          "text": [
            "\r 22%|██▏       | 11/50 [06:21<22:05, 33.99s/it]"
          ]
        },
        {
          "output_type": "stream",
          "name": "stdout",
          "text": [
            "epoch: 10   train loss: 22.1259   test accuracy: 0.9813\n"
          ]
        },
        {
          "output_type": "stream",
          "name": "stderr",
          "text": [
            "\r 24%|██▍       | 12/50 [06:54<21:25, 33.83s/it]"
          ]
        },
        {
          "output_type": "stream",
          "name": "stdout",
          "text": [
            "epoch: 11   train loss: 20.3976   test accuracy: 0.9852\n"
          ]
        },
        {
          "output_type": "stream",
          "name": "stderr",
          "text": [
            "\r 26%|██▌       | 13/50 [07:28<20:48, 33.73s/it]"
          ]
        },
        {
          "output_type": "stream",
          "name": "stdout",
          "text": [
            "epoch: 12   train loss: 18.8696   test accuracy: 0.9875\n"
          ]
        },
        {
          "output_type": "stream",
          "name": "stderr",
          "text": [
            "\r 28%|██▊       | 14/50 [08:01<20:13, 33.71s/it]"
          ]
        },
        {
          "output_type": "stream",
          "name": "stdout",
          "text": [
            "epoch: 13   train loss: 17.6560   test accuracy: 0.9911\n"
          ]
        },
        {
          "output_type": "stream",
          "name": "stderr",
          "text": [
            "\r 30%|███       | 15/50 [08:35<19:40, 33.72s/it]"
          ]
        },
        {
          "output_type": "stream",
          "name": "stdout",
          "text": [
            "epoch: 14   train loss: 16.4341   test accuracy: 0.9905\n"
          ]
        },
        {
          "output_type": "stream",
          "name": "stderr",
          "text": [
            "\r 32%|███▏      | 16/50 [09:08<19:05, 33.68s/it]"
          ]
        },
        {
          "output_type": "stream",
          "name": "stdout",
          "text": [
            "epoch: 15   train loss: 15.4343   test accuracy: 0.9920\n"
          ]
        },
        {
          "output_type": "stream",
          "name": "stderr",
          "text": [
            "\r 34%|███▍      | 17/50 [09:42<18:32, 33.72s/it]"
          ]
        },
        {
          "output_type": "stream",
          "name": "stdout",
          "text": [
            "epoch: 16   train loss: 14.3963   test accuracy: 0.9928\n"
          ]
        },
        {
          "output_type": "stream",
          "name": "stderr",
          "text": [
            "\r 36%|███▌      | 18/50 [10:16<17:55, 33.62s/it]"
          ]
        },
        {
          "output_type": "stream",
          "name": "stdout",
          "text": [
            "epoch: 17   train loss: 13.7968   test accuracy: 0.9928\n"
          ]
        },
        {
          "output_type": "stream",
          "name": "stderr",
          "text": [
            "\r 38%|███▊      | 19/50 [10:49<17:22, 33.64s/it]"
          ]
        },
        {
          "output_type": "stream",
          "name": "stdout",
          "text": [
            "epoch: 18   train loss: 12.9716   test accuracy: 0.9950\n"
          ]
        },
        {
          "output_type": "stream",
          "name": "stderr",
          "text": [
            "\r 40%|████      | 20/50 [11:23<16:47, 33.59s/it]"
          ]
        },
        {
          "output_type": "stream",
          "name": "stdout",
          "text": [
            "epoch: 19   train loss: 12.2417   test accuracy: 0.9953\n"
          ]
        },
        {
          "output_type": "stream",
          "name": "stderr",
          "text": [
            "\r 42%|████▏     | 21/50 [11:56<16:11, 33.49s/it]"
          ]
        },
        {
          "output_type": "stream",
          "name": "stdout",
          "text": [
            "epoch: 20   train loss: 11.5163   test accuracy: 0.9954\n"
          ]
        },
        {
          "output_type": "stream",
          "name": "stderr",
          "text": [
            "\r 44%|████▍     | 22/50 [12:30<15:37, 33.48s/it]"
          ]
        },
        {
          "output_type": "stream",
          "name": "stdout",
          "text": [
            "epoch: 21   train loss: 10.9786   test accuracy: 0.9971\n"
          ]
        },
        {
          "output_type": "stream",
          "name": "stderr",
          "text": [
            "\r 46%|████▌     | 23/50 [13:03<15:03, 33.45s/it]"
          ]
        },
        {
          "output_type": "stream",
          "name": "stdout",
          "text": [
            "epoch: 22   train loss: 10.3663   test accuracy: 0.9971\n"
          ]
        },
        {
          "output_type": "stream",
          "name": "stderr",
          "text": [
            "\r 48%|████▊     | 24/50 [13:37<14:30, 33.48s/it]"
          ]
        },
        {
          "output_type": "stream",
          "name": "stdout",
          "text": [
            "epoch: 23   train loss: 9.9222   test accuracy: 0.9973\n"
          ]
        },
        {
          "output_type": "stream",
          "name": "stderr",
          "text": [
            "\r 50%|█████     | 25/50 [14:10<13:57, 33.51s/it]"
          ]
        },
        {
          "output_type": "stream",
          "name": "stdout",
          "text": [
            "epoch: 24   train loss: 9.4754   test accuracy: 0.9973\n"
          ]
        },
        {
          "output_type": "stream",
          "name": "stderr",
          "text": [
            "\r 52%|█████▏    | 26/50 [14:44<13:25, 33.56s/it]"
          ]
        },
        {
          "output_type": "stream",
          "name": "stdout",
          "text": [
            "epoch: 25   train loss: 8.9120   test accuracy: 0.9980\n"
          ]
        },
        {
          "output_type": "stream",
          "name": "stderr",
          "text": [
            "\r 54%|█████▍    | 27/50 [15:17<12:53, 33.61s/it]"
          ]
        },
        {
          "output_type": "stream",
          "name": "stdout",
          "text": [
            "epoch: 26   train loss: 8.6254   test accuracy: 0.9982\n"
          ]
        },
        {
          "output_type": "stream",
          "name": "stderr",
          "text": [
            "\r 56%|█████▌    | 28/50 [15:51<12:17, 33.51s/it]"
          ]
        },
        {
          "output_type": "stream",
          "name": "stdout",
          "text": [
            "epoch: 27   train loss: 8.2561   test accuracy: 0.9982\n"
          ]
        },
        {
          "output_type": "stream",
          "name": "stderr",
          "text": [
            "\r 58%|█████▊    | 29/50 [16:25<11:45, 33.58s/it]"
          ]
        },
        {
          "output_type": "stream",
          "name": "stdout",
          "text": [
            "epoch: 28   train loss: 7.7816   test accuracy: 0.9984\n"
          ]
        },
        {
          "output_type": "stream",
          "name": "stderr",
          "text": [
            "\r 60%|██████    | 30/50 [16:58<11:10, 33.54s/it]"
          ]
        },
        {
          "output_type": "stream",
          "name": "stdout",
          "text": [
            "epoch: 29   train loss: 7.5459   test accuracy: 0.9982\n"
          ]
        },
        {
          "output_type": "stream",
          "name": "stderr",
          "text": [
            "\r 62%|██████▏   | 31/50 [17:31<10:37, 33.54s/it]"
          ]
        },
        {
          "output_type": "stream",
          "name": "stdout",
          "text": [
            "epoch: 30   train loss: 7.1305   test accuracy: 0.9984\n"
          ]
        },
        {
          "output_type": "stream",
          "name": "stderr",
          "text": [
            "\r 64%|██████▍   | 32/50 [18:05<10:03, 33.53s/it]"
          ]
        },
        {
          "output_type": "stream",
          "name": "stdout",
          "text": [
            "epoch: 31   train loss: 6.9696   test accuracy: 0.9984\n"
          ]
        },
        {
          "output_type": "stream",
          "name": "stderr",
          "text": [
            "\r 66%|██████▌   | 33/50 [18:38<09:29, 33.48s/it]"
          ]
        },
        {
          "output_type": "stream",
          "name": "stdout",
          "text": [
            "epoch: 32   train loss: 7.0705   test accuracy: 0.9980\n"
          ]
        },
        {
          "output_type": "stream",
          "name": "stderr",
          "text": [
            "\r 68%|██████▊   | 34/50 [19:12<08:56, 33.54s/it]"
          ]
        },
        {
          "output_type": "stream",
          "name": "stdout",
          "text": [
            "epoch: 33   train loss: 6.3385   test accuracy: 0.9986\n"
          ]
        },
        {
          "output_type": "stream",
          "name": "stderr",
          "text": [
            "\r 70%|███████   | 35/50 [19:45<08:21, 33.40s/it]"
          ]
        },
        {
          "output_type": "stream",
          "name": "stdout",
          "text": [
            "epoch: 34   train loss: 6.0419   test accuracy: 0.9986\n"
          ]
        },
        {
          "output_type": "stream",
          "name": "stderr",
          "text": [
            "\r 72%|███████▏  | 36/50 [20:19<07:48, 33.46s/it]"
          ]
        },
        {
          "output_type": "stream",
          "name": "stdout",
          "text": [
            "epoch: 35   train loss: 5.7970   test accuracy: 0.9986\n"
          ]
        },
        {
          "output_type": "stream",
          "name": "stderr",
          "text": [
            "\r 74%|███████▍  | 37/50 [20:52<07:14, 33.45s/it]"
          ]
        },
        {
          "output_type": "stream",
          "name": "stdout",
          "text": [
            "epoch: 36   train loss: 5.5967   test accuracy: 0.9987\n"
          ]
        },
        {
          "output_type": "stream",
          "name": "stderr",
          "text": [
            "\r 76%|███████▌  | 38/50 [21:25<06:39, 33.33s/it]"
          ]
        },
        {
          "output_type": "stream",
          "name": "stdout",
          "text": [
            "epoch: 37   train loss: 5.4989   test accuracy: 0.9987\n"
          ]
        },
        {
          "output_type": "stream",
          "name": "stderr",
          "text": [
            "\r 78%|███████▊  | 39/50 [21:59<06:07, 33.45s/it]"
          ]
        },
        {
          "output_type": "stream",
          "name": "stdout",
          "text": [
            "epoch: 38   train loss: 5.3035   test accuracy: 0.9987\n"
          ]
        },
        {
          "output_type": "stream",
          "name": "stderr",
          "text": [
            "\r 80%|████████  | 40/50 [22:32<05:34, 33.49s/it]"
          ]
        },
        {
          "output_type": "stream",
          "name": "stdout",
          "text": [
            "epoch: 39   train loss: 5.0753   test accuracy: 0.9987\n"
          ]
        },
        {
          "output_type": "stream",
          "name": "stderr",
          "text": [
            "\r 82%|████████▏ | 41/50 [23:06<05:02, 33.58s/it]"
          ]
        },
        {
          "output_type": "stream",
          "name": "stdout",
          "text": [
            "epoch: 40   train loss: 4.8116   test accuracy: 0.9987\n"
          ]
        },
        {
          "output_type": "stream",
          "name": "stderr",
          "text": [
            "\r 84%|████████▍ | 42/50 [23:40<04:28, 33.53s/it]"
          ]
        },
        {
          "output_type": "stream",
          "name": "stdout",
          "text": [
            "epoch: 41   train loss: 4.6990   test accuracy: 0.9987\n"
          ]
        },
        {
          "output_type": "stream",
          "name": "stderr",
          "text": [
            "\r 86%|████████▌ | 43/50 [24:14<03:55, 33.68s/it]"
          ]
        },
        {
          "output_type": "stream",
          "name": "stdout",
          "text": [
            "epoch: 42   train loss: 4.4663   test accuracy: 0.9987\n"
          ]
        },
        {
          "output_type": "stream",
          "name": "stderr",
          "text": [
            "\r 88%|████████▊ | 44/50 [24:47<03:21, 33.60s/it]"
          ]
        },
        {
          "output_type": "stream",
          "name": "stdout",
          "text": [
            "epoch: 43   train loss: 4.3703   test accuracy: 0.9987\n"
          ]
        },
        {
          "output_type": "stream",
          "name": "stderr",
          "text": [
            "\r 90%|█████████ | 45/50 [25:21<02:48, 33.70s/it]"
          ]
        },
        {
          "output_type": "stream",
          "name": "stdout",
          "text": [
            "epoch: 44   train loss: 4.2934   test accuracy: 0.9987\n"
          ]
        },
        {
          "output_type": "stream",
          "name": "stderr",
          "text": [
            "\r 92%|█████████▏| 46/50 [25:54<02:14, 33.59s/it]"
          ]
        },
        {
          "output_type": "stream",
          "name": "stdout",
          "text": [
            "epoch: 45   train loss: 4.2424   test accuracy: 0.9987\n"
          ]
        },
        {
          "output_type": "stream",
          "name": "stderr",
          "text": [
            "\r 94%|█████████▍| 47/50 [26:28<01:40, 33.48s/it]"
          ]
        },
        {
          "output_type": "stream",
          "name": "stdout",
          "text": [
            "epoch: 46   train loss: 4.0358   test accuracy: 0.9987\n"
          ]
        },
        {
          "output_type": "stream",
          "name": "stderr",
          "text": [
            "\r 96%|█████████▌| 48/50 [27:01<01:07, 33.56s/it]"
          ]
        },
        {
          "output_type": "stream",
          "name": "stdout",
          "text": [
            "epoch: 47   train loss: 4.0097   test accuracy: 0.9987\n"
          ]
        },
        {
          "output_type": "stream",
          "name": "stderr",
          "text": [
            "\r 98%|█████████▊| 49/50 [27:35<00:33, 33.60s/it]"
          ]
        },
        {
          "output_type": "stream",
          "name": "stdout",
          "text": [
            "epoch: 48   train loss: 3.8022   test accuracy: 0.9987\n"
          ]
        },
        {
          "output_type": "stream",
          "name": "stderr",
          "text": [
            "100%|██████████| 50/50 [28:09<00:00, 33.78s/it]"
          ]
        },
        {
          "output_type": "stream",
          "name": "stdout",
          "text": [
            "epoch: 49   train loss: 3.6820   test accuracy: 0.9987\n"
          ]
        },
        {
          "output_type": "stream",
          "name": "stderr",
          "text": [
            "\n"
          ]
        },
        {
          "output_type": "display_data",
          "data": {
            "text/plain": [
              "<Figure size 640x480 with 1 Axes>"
            ],
            "image/png": "[encoded data removed]"
          },
          "metadata": {}
        },
        {
          "output_type": "display_data",
          "data": {
            "text/plain": [
              "<Figure size 640x480 with 1 Axes>"
            ],
            "image/png": "[encoded data removed]"
          },
          "metadata": {}
        }
      ]
    }
  ]
}